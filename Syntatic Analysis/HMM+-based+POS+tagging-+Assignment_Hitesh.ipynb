{
 "cells": [
  {
   "cell_type": "markdown",
   "metadata": {},
   "source": [
    "## POS tagging using modified Viterbi\n",
    "\n",
    "1. Data Preparation\n",
    "2. Perform EDA to identify the pattern in the train set\n",
    "3. Build the vanilla Viterbi based POS tagger    \n",
    "    1. Evaluate the tagging acuracy with the validation set\n",
    "4. Solve the problem of unknown words\n",
    "    1. Technique 1 - Using a Rule tagger with the vanilla Viterbi algorithm\n",
    "        1. Evaluating tagging accuracy for the algorithm using the rule tagger with simple vitrebi agorithm on the validation set\n",
    "    2. Technique 2 - Using the transition probability for tagging when the emission probability is zero\n",
    "        1. Evaluating tagging accuracy for the algorithm using transition probability on the validation set\n",
    "\n",
    "5. Compare the tagging accuracies of the modifications with the vanilla Viterbi algorithm\n",
    "6. Find accuracy on the test set for the different Techniques used\n",
    "    1.  Accuracy of simple Vitrebi on the test set\n",
    "    2.  Accuracy of Rule tagger + simple Vitrebi on the test set\n",
    "    3.  Accuracy of Transition probaility + simple Vitrebi on the test set\n",
    "\n",
    "7.  Comparision of the Incorrect words across different algorithms     \n"
   ]
  },
  {
   "cell_type": "markdown",
   "metadata": {},
   "source": [
    "### 1. Data Preparation"
   ]
  },
  {
   "cell_type": "code",
   "execution_count": 1,
   "metadata": {},
   "outputs": [],
   "source": [
    "#Importing libraries\n",
    "import nltk\n",
    "from sklearn.model_selection import train_test_split\n",
    "import numpy as np\n",
    "import pandas as pd\n",
    "import matplotlib.pyplot as plt\n",
    "import seaborn as sns\n",
    "from nltk.tokenize import word_tokenize\n",
    "import time"
   ]
  },
  {
   "cell_type": "code",
   "execution_count": 2,
   "metadata": {},
   "outputs": [
    {
     "name": "stderr",
     "output_type": "stream",
     "text": [
      "[nltk_data] Downloading package universal_tagset to\n",
      "[nltk_data]     C:\\Users\\uvoc6q\\AppData\\Roaming\\nltk_data...\n",
      "[nltk_data]   Package universal_tagset is already up-to-date!\n"
     ]
    }
   ],
   "source": [
    "# reading the Treebank tagged sentences\n",
    "nltk.download('universal_tagset')\n",
    "nltk_data = list(nltk.corpus.treebank.tagged_sents(tagset='universal'))"
   ]
  },
  {
   "cell_type": "code",
   "execution_count": 3,
   "metadata": {},
   "outputs": [],
   "source": [
    "#print (nltk_data)"
   ]
  },
  {
   "cell_type": "code",
   "execution_count": 4,
   "metadata": {},
   "outputs": [
    {
     "name": "stdout",
     "output_type": "stream",
     "text": [
      "3718\n",
      "196\n"
     ]
    }
   ],
   "source": [
    "#distribute the treebank set into train and validation sets\n",
    "train_set, validation_set = train_test_split(nltk_data,train_size=0.95 ,random_state=100)\n",
    "print (len (train_set))\n",
    "print (len(validation_set))"
   ]
  },
  {
   "cell_type": "code",
   "execution_count": 5,
   "metadata": {},
   "outputs": [],
   "source": [
    "#write a function to extract the indiviual words in the dataset along with the tags\n",
    "#get the form [(w1,t1,(w2,t2))]\n",
    "def word_pos_tuple(dataset=train_set):\n",
    "    word_pos = [tup for sent in dataset for tup in sent]\n",
    "    return word_pos\n",
    "\n",
    "#Write the function to get the word  from the dataset\n",
    "def word_token(dataset=train_set):\n",
    "    words = [tup[0] for sent in dataset for tup in sent]\n",
    "    return words\n",
    "\n",
    "def all_tags(dataset=train_set):\n",
    "    word_pos = [tup[1] for sent in dataset for tup in sent]\n",
    "    return word_pos\n",
    "\n",
    "def to_sentence(dataset=train_set):\n",
    "    sentence = []\n",
    "    for sent in dataset:\n",
    "        sentence.append(\" \".join([tup[0] for tup in sent]))\n",
    "    return sentence\n",
    "\n",
    "\n",
    "#write functions to get the emission and transaction probability for the token\n",
    "#Emission probability is (count of word marked as tag / total instance of the tag)\n",
    "def word_emission(word, tag, dataset):\n",
    "    word_with_tag = [tup for tup in dataset if (tup[0] == word and tup[1]== tag)]\n",
    "    count_word_with_tag = len (word_with_tag)\n",
    "    \n",
    "    total_tag_inst = len([tup[1] for tup in dataset if tup[1] == tag])\n",
    "    \n",
    "    return (count_word_with_tag , total_tag_inst ) \n",
    "\n",
    "#calculate the transition probability\n",
    "def t2_given_t1 (t2,t1,dataset):\n",
    "    all_train_tag = [tup[1] for tup in dataset]\n",
    "    count_t1 = len([tag for tag in all_train_tag if tag == t1])\n",
    "    count_t1_t2 = 0\n",
    "    for i in range (0,len(all_train_tag)-1):\n",
    "        if (all_train_tag[i] == t1 and all_train_tag[i+1] == t2):\n",
    "            count_t1_t2 += 1\n",
    "\n",
    "    return (count_t1_t2 ,count_t1)                                  "
   ]
  },
  {
   "cell_type": "code",
   "execution_count": null,
   "metadata": {},
   "outputs": [],
   "source": []
  },
  {
   "cell_type": "code",
   "execution_count": 6,
   "metadata": {},
   "outputs": [],
   "source": [
    "#get the word-pos tuple for the train and validation set\n",
    "train_word_tup = word_pos_tuple (train_set)\n",
    "validation_word_tup = word_pos_tuple (validation_set)"
   ]
  },
  {
   "cell_type": "code",
   "execution_count": 7,
   "metadata": {},
   "outputs": [],
   "source": [
    "#Get the word and token list\n",
    "train_words = word_token(train_set)\n",
    "train_tags = set(all_tags(train_set))"
   ]
  },
  {
   "cell_type": "code",
   "execution_count": null,
   "metadata": {},
   "outputs": [],
   "source": [
    "    "
   ]
  },
  {
   "cell_type": "code",
   "execution_count": 8,
   "metadata": {},
   "outputs": [],
   "source": [
    "#Create a dataframe with the transition probabilities for the tags\n",
    "\n",
    "tags_matrix = np.zeros((len(train_tags), len(train_tags)), dtype='float32')\n",
    "for i, t1 in enumerate(list(train_tags)):\n",
    "    for j, t2 in enumerate(list(train_tags)):\n",
    "        tags_matrix[i, j] = t2_given_t1(t2, t1,train_word_tup)[0]/t2_given_t1(t2, t1,train_word_tup)[1]"
   ]
  },
  {
   "cell_type": "code",
   "execution_count": 9,
   "metadata": {},
   "outputs": [
    {
     "data": {
      "text/html": [
       "<div>\n",
       "<style scoped>\n",
       "    .dataframe tbody tr th:only-of-type {\n",
       "        vertical-align: middle;\n",
       "    }\n",
       "\n",
       "    .dataframe tbody tr th {\n",
       "        vertical-align: top;\n",
       "    }\n",
       "\n",
       "    .dataframe thead th {\n",
       "        text-align: right;\n",
       "    }\n",
       "</style>\n",
       "<table border=\"1\" class=\"dataframe\">\n",
       "  <thead>\n",
       "    <tr style=\"text-align: right;\">\n",
       "      <th></th>\n",
       "      <th>ADJ</th>\n",
       "      <th>PRON</th>\n",
       "      <th>PRT</th>\n",
       "      <th>DET</th>\n",
       "      <th>X</th>\n",
       "      <th>CONJ</th>\n",
       "      <th>VERB</th>\n",
       "      <th>NUM</th>\n",
       "      <th>ADV</th>\n",
       "      <th>.</th>\n",
       "      <th>ADP</th>\n",
       "      <th>NOUN</th>\n",
       "    </tr>\n",
       "  </thead>\n",
       "  <tbody>\n",
       "    <tr>\n",
       "      <th>ADJ</th>\n",
       "      <td>0.067158</td>\n",
       "      <td>0.000491</td>\n",
       "      <td>0.010156</td>\n",
       "      <td>0.004914</td>\n",
       "      <td>0.020311</td>\n",
       "      <td>0.016052</td>\n",
       "      <td>0.011794</td>\n",
       "      <td>0.020803</td>\n",
       "      <td>0.004914</td>\n",
       "      <td>0.063882</td>\n",
       "      <td>0.078624</td>\n",
       "      <td>0.700901</td>\n",
       "    </tr>\n",
       "    <tr>\n",
       "      <th>PRON</th>\n",
       "      <td>0.072031</td>\n",
       "      <td>0.007663</td>\n",
       "      <td>0.012261</td>\n",
       "      <td>0.009195</td>\n",
       "      <td>0.092720</td>\n",
       "      <td>0.004981</td>\n",
       "      <td>0.484291</td>\n",
       "      <td>0.007280</td>\n",
       "      <td>0.034100</td>\n",
       "      <td>0.040613</td>\n",
       "      <td>0.023372</td>\n",
       "      <td>0.211494</td>\n",
       "    </tr>\n",
       "    <tr>\n",
       "      <th>PRT</th>\n",
       "      <td>0.083661</td>\n",
       "      <td>0.017717</td>\n",
       "      <td>0.001969</td>\n",
       "      <td>0.101050</td>\n",
       "      <td>0.013123</td>\n",
       "      <td>0.002297</td>\n",
       "      <td>0.405184</td>\n",
       "      <td>0.056102</td>\n",
       "      <td>0.010171</td>\n",
       "      <td>0.043635</td>\n",
       "      <td>0.019357</td>\n",
       "      <td>0.245735</td>\n",
       "    </tr>\n",
       "    <tr>\n",
       "      <th>DET</th>\n",
       "      <td>0.204977</td>\n",
       "      <td>0.003727</td>\n",
       "      <td>0.000240</td>\n",
       "      <td>0.005771</td>\n",
       "      <td>0.045323</td>\n",
       "      <td>0.000481</td>\n",
       "      <td>0.040394</td>\n",
       "      <td>0.021640</td>\n",
       "      <td>0.012623</td>\n",
       "      <td>0.017913</td>\n",
       "      <td>0.009618</td>\n",
       "      <td>0.637293</td>\n",
       "    </tr>\n",
       "    <tr>\n",
       "      <th>X</th>\n",
       "      <td>0.016505</td>\n",
       "      <td>0.055705</td>\n",
       "      <td>0.184891</td>\n",
       "      <td>0.055229</td>\n",
       "      <td>0.074433</td>\n",
       "      <td>0.010316</td>\n",
       "      <td>0.204571</td>\n",
       "      <td>0.002857</td>\n",
       "      <td>0.025393</td>\n",
       "      <td>0.162831</td>\n",
       "      <td>0.144898</td>\n",
       "      <td>0.062371</td>\n",
       "    </tr>\n",
       "    <tr>\n",
       "      <th>CONJ</th>\n",
       "      <td>0.118683</td>\n",
       "      <td>0.058414</td>\n",
       "      <td>0.003709</td>\n",
       "      <td>0.118683</td>\n",
       "      <td>0.008809</td>\n",
       "      <td>0.000464</td>\n",
       "      <td>0.155308</td>\n",
       "      <td>0.042188</td>\n",
       "      <td>0.053778</td>\n",
       "      <td>0.035698</td>\n",
       "      <td>0.053778</td>\n",
       "      <td>0.350487</td>\n",
       "    </tr>\n",
       "    <tr>\n",
       "      <th>VERB</th>\n",
       "      <td>0.065640</td>\n",
       "      <td>0.035916</td>\n",
       "      <td>0.031427</td>\n",
       "      <td>0.133292</td>\n",
       "      <td>0.218438</td>\n",
       "      <td>0.005186</td>\n",
       "      <td>0.168744</td>\n",
       "      <td>0.022448</td>\n",
       "      <td>0.082050</td>\n",
       "      <td>0.034291</td>\n",
       "      <td>0.091184</td>\n",
       "      <td>0.111386</td>\n",
       "    </tr>\n",
       "    <tr>\n",
       "      <th>NUM</th>\n",
       "      <td>0.033571</td>\n",
       "      <td>0.001485</td>\n",
       "      <td>0.026144</td>\n",
       "      <td>0.003862</td>\n",
       "      <td>0.211824</td>\n",
       "      <td>0.013072</td>\n",
       "      <td>0.016934</td>\n",
       "      <td>0.184195</td>\n",
       "      <td>0.002674</td>\n",
       "      <td>0.118835</td>\n",
       "      <td>0.035056</td>\n",
       "      <td>0.352347</td>\n",
       "    </tr>\n",
       "    <tr>\n",
       "      <th>ADV</th>\n",
       "      <td>0.130160</td>\n",
       "      <td>0.015646</td>\n",
       "      <td>0.014314</td>\n",
       "      <td>0.069907</td>\n",
       "      <td>0.023302</td>\n",
       "      <td>0.006991</td>\n",
       "      <td>0.344541</td>\n",
       "      <td>0.031624</td>\n",
       "      <td>0.077230</td>\n",
       "      <td>0.135153</td>\n",
       "      <td>0.119507</td>\n",
       "      <td>0.031624</td>\n",
       "    </tr>\n",
       "    <tr>\n",
       "      <th>.</th>\n",
       "      <td>0.043681</td>\n",
       "      <td>0.065208</td>\n",
       "      <td>0.002511</td>\n",
       "      <td>0.173558</td>\n",
       "      <td>0.026908</td>\n",
       "      <td>0.058032</td>\n",
       "      <td>0.088708</td>\n",
       "      <td>0.081353</td>\n",
       "      <td>0.052292</td>\n",
       "      <td>0.092923</td>\n",
       "      <td>0.092206</td>\n",
       "      <td>0.222531</td>\n",
       "    </tr>\n",
       "    <tr>\n",
       "      <th>ADP</th>\n",
       "      <td>0.107389</td>\n",
       "      <td>0.069119</td>\n",
       "      <td>0.001484</td>\n",
       "      <td>0.323969</td>\n",
       "      <td>0.034984</td>\n",
       "      <td>0.000848</td>\n",
       "      <td>0.008481</td>\n",
       "      <td>0.061910</td>\n",
       "      <td>0.013357</td>\n",
       "      <td>0.039754</td>\n",
       "      <td>0.017492</td>\n",
       "      <td>0.321213</td>\n",
       "    </tr>\n",
       "    <tr>\n",
       "      <th>NOUN</th>\n",
       "      <td>0.012165</td>\n",
       "      <td>0.004721</td>\n",
       "      <td>0.043357</td>\n",
       "      <td>0.013363</td>\n",
       "      <td>0.028868</td>\n",
       "      <td>0.042921</td>\n",
       "      <td>0.146955</td>\n",
       "      <td>0.009550</td>\n",
       "      <td>0.016813</td>\n",
       "      <td>0.239951</td>\n",
       "      <td>0.177058</td>\n",
       "      <td>0.264280</td>\n",
       "    </tr>\n",
       "  </tbody>\n",
       "</table>\n",
       "</div>"
      ],
      "text/plain": [
       "           ADJ      PRON       PRT       DET         X      CONJ      VERB  \\\n",
       "ADJ   0.067158  0.000491  0.010156  0.004914  0.020311  0.016052  0.011794   \n",
       "PRON  0.072031  0.007663  0.012261  0.009195  0.092720  0.004981  0.484291   \n",
       "PRT   0.083661  0.017717  0.001969  0.101050  0.013123  0.002297  0.405184   \n",
       "DET   0.204977  0.003727  0.000240  0.005771  0.045323  0.000481  0.040394   \n",
       "X     0.016505  0.055705  0.184891  0.055229  0.074433  0.010316  0.204571   \n",
       "CONJ  0.118683  0.058414  0.003709  0.118683  0.008809  0.000464  0.155308   \n",
       "VERB  0.065640  0.035916  0.031427  0.133292  0.218438  0.005186  0.168744   \n",
       "NUM   0.033571  0.001485  0.026144  0.003862  0.211824  0.013072  0.016934   \n",
       "ADV   0.130160  0.015646  0.014314  0.069907  0.023302  0.006991  0.344541   \n",
       ".     0.043681  0.065208  0.002511  0.173558  0.026908  0.058032  0.088708   \n",
       "ADP   0.107389  0.069119  0.001484  0.323969  0.034984  0.000848  0.008481   \n",
       "NOUN  0.012165  0.004721  0.043357  0.013363  0.028868  0.042921  0.146955   \n",
       "\n",
       "           NUM       ADV         .       ADP      NOUN  \n",
       "ADJ   0.020803  0.004914  0.063882  0.078624  0.700901  \n",
       "PRON  0.007280  0.034100  0.040613  0.023372  0.211494  \n",
       "PRT   0.056102  0.010171  0.043635  0.019357  0.245735  \n",
       "DET   0.021640  0.012623  0.017913  0.009618  0.637293  \n",
       "X     0.002857  0.025393  0.162831  0.144898  0.062371  \n",
       "CONJ  0.042188  0.053778  0.035698  0.053778  0.350487  \n",
       "VERB  0.022448  0.082050  0.034291  0.091184  0.111386  \n",
       "NUM   0.184195  0.002674  0.118835  0.035056  0.352347  \n",
       "ADV   0.031624  0.077230  0.135153  0.119507  0.031624  \n",
       ".     0.081353  0.052292  0.092923  0.092206  0.222531  \n",
       "ADP   0.061910  0.013357  0.039754  0.017492  0.321213  \n",
       "NOUN  0.009550  0.016813  0.239951  0.177058  0.264280  "
      ]
     },
     "execution_count": 9,
     "metadata": {},
     "output_type": "execute_result"
    }
   ],
   "source": [
    "# convert the matrix to a df for better readability\n",
    "tags_df = pd.DataFrame(tags_matrix, columns = train_tags, index=train_tags)\n",
    "tags_df"
   ]
  },
  {
   "cell_type": "code",
   "execution_count": null,
   "metadata": {},
   "outputs": [],
   "source": [
    "\n"
   ]
  },
  {
   "cell_type": "code",
   "execution_count": 10,
   "metadata": {},
   "outputs": [
    {
     "data": {
      "image/png": "[encoded data removed]",
      "text/plain": [
       "<Figure size 720x720 with 2 Axes>"
      ]
     },
     "metadata": {
      "needs_background": "light"
     },
     "output_type": "display_data"
    }
   ],
   "source": [
    "# heatmap of tags matrix\n",
    "# T(i, j) means P(tag j given tag i)\n",
    "plt.figure(figsize=(10, 10))\n",
    "sns.heatmap(tags_df)\n",
    "plt.show()"
   ]
  },
  {
   "cell_type": "markdown",
   "metadata": {},
   "source": [
    "### 2. Perform EDA to identify the pattern in the train set\n",
    "Look for the most common tag and the pattern across each tag\n",
    "- 35% of Nouns are preceded by a Det or an adjective\n",
    "- 30% of verbs end with 'ed' or 'ing'"
   ]
  },
  {
   "cell_type": "code",
   "execution_count": 11,
   "metadata": {},
   "outputs": [
    {
     "name": "stdout",
     "output_type": "stream",
     "text": [
      "Counter({'NOUN': 27539, 'VERB': 12919, '.': 11149, 'ADP': 9433, 'DET': 8318, 'X': 6301, 'ADJ': 6105, 'NUM': 3366, 'PRT': 3048, 'ADV': 3004, 'PRON': 2610, 'CONJ': 2157})\n",
      "95949\n",
      "Percent of words ending with ed in tags marked as VERB is 20.61%\n",
      "Percent of words ending with ing in tags marked as VERB is 10.97%\n",
      "Number of instance a ADV is followed by Verb is 8.01%\n",
      "Number of instance a ADJ is followed by Noun is 15.54%\n",
      "Number of instance the start of the sentence is Noun is 3.62%\n",
      "Number of instance a DET is followed by Noun is 19.25%\n"
     ]
    }
   ],
   "source": [
    "#Check for the most common tag across the training dataset\n",
    "from collections import Counter\n",
    "all_t = all_tags()\n",
    "print (Counter(all_t))       #Noun seems to be the most common tag\n",
    "\n",
    "word_tup = word_pos_tuple()\n",
    "print (len(word_tup))             #Total word-tags is 99637\n",
    "\n",
    "tag_verb = [tag for tag in word_tup if tag[1] == 'VERB']\n",
    "tag_verb_ed = [tag[0] for tag in tag_verb if tag[0].lower().endswith('ed')]\n",
    "print (\"Percent of words ending with ed in tags marked as VERB is {:.2%}\".format(len(tag_verb_ed) / len(tag_verb)))\n",
    "\n",
    "tag_verb_ing = [tag[0] for tag in tag_verb if tag[0].lower().endswith('ing')]\n",
    "print (\"Percent of words ending with ing in tags marked as VERB is {:.2%}\".format(len(tag_verb_ing) / len(tag_verb)))\n",
    "\n",
    "tag_adv_verb = [tag for i,tag in enumerate(all_t) if (tag == 'VERB' and all_t[i-1] == 'ADV')] \n",
    "print (\"Number of instance a ADV is followed by Verb is {:.2%}\".format(len(tag_adv_verb) / len(tag_verb)))\n",
    "\n",
    "#adjectives followed by noun\n",
    "tag_noun = [tag for tag in word_tup if tag[1] == 'NOUN']\n",
    "tag_adj_noun = [tag for i,tag in enumerate(all_t) if (tag == 'NOUN' and all_t[i-1] == 'ADJ')]  \n",
    "print (\"Number of instance a ADJ is followed by Noun is {:.2%}\".format(len(tag_adj_noun) / len(tag_noun)))\n",
    "\n",
    "#. followed by Noun\n",
    "tag_X_noun = [tag for i,tag in enumerate(word_tup) if (tag[1] == 'NOUN' and word_tup[i-1][0] == '.')]\n",
    "print (\"Number of instance the start of the sentence is Noun is {:.2%}\".format(len(tag_X_noun) / len(tag_noun)))\n",
    "\n",
    "#det followed by noun\n",
    "tag_det_noun = [tag for i,tag in enumerate(all_t) if (tag == 'NOUN' and all_t[i-1] == 'DET')]  \n",
    "print (\"Number of instance a DET is followed by Noun is {:.2%}\".format(len(tag_det_noun) / len(tag_noun)))\n"
   ]
  },
  {
   "cell_type": "code",
   "execution_count": null,
   "metadata": {},
   "outputs": [],
   "source": []
  },
  {
   "cell_type": "markdown",
   "metadata": {},
   "source": [
    "### 3. Build the vanilla Viterbi based POS tagger"
   ]
  },
  {
   "cell_type": "code",
   "execution_count": 12,
   "metadata": {},
   "outputs": [],
   "source": [
    "def simple_viterbi(sent ,dataset=train_word_tup):\n",
    "    #For each word in the sentence get the probaility for each unique tage and \n",
    "    #then choose the tag with the max probability\n",
    "   \n",
    "    unique_tags = list(set(tup[1] for tup in dataset))\n",
    "    \n",
    "    sent_tag = []\n",
    "    prob_list = []\n",
    "    for i, word in enumerate(sent):\n",
    "        p_total = [] \n",
    "        for tag in unique_tags:\n",
    "            if i == 0 :\n",
    "                tran_p = tags_df.loc['.', tag]\n",
    "            else:\n",
    "                tran_p = tags_df.loc[sent_tag[i-1], tag]\n",
    "                \n",
    "            emission_p = word_emission(word, tag,train_word_tup)[0]/word_emission(word, tag, train_word_tup)[1]\n",
    "            p_total.append(emission_p * tran_p)\n",
    "\n",
    "        #get max probability and corresponding tag\n",
    "        p_vit = max(p_total)\n",
    "        prob_list.append(p_vit)\n",
    "        index = p_total.index(max(p_total))\n",
    "        sent_tag.append (unique_tags[index])\n",
    "        \n",
    "    return list(zip(sent, sent_tag , prob_list))\n"
   ]
  },
  {
   "cell_type": "code",
   "execution_count": null,
   "metadata": {},
   "outputs": [],
   "source": []
  },
  {
   "cell_type": "markdown",
   "metadata": {},
   "source": [
    "### 3.a Evaluate the tagging acuracy with the validation set"
   ]
  },
  {
   "cell_type": "code",
   "execution_count": 13,
   "metadata": {},
   "outputs": [],
   "source": [
    "# list of tagged words\n",
    "validation_tup = word_pos_tuple(validation_set)\n",
    "\n",
    "# list of untagged words\n",
    "validation_untagged = word_token(validation_set)"
   ]
  },
  {
   "cell_type": "code",
   "execution_count": 14,
   "metadata": {},
   "outputs": [
    {
     "name": "stdout",
     "output_type": "stream",
     "text": [
      "Time taken in seconds:  1850.6993198394775\n"
     ]
    }
   ],
   "source": [
    "start = time.time()\n",
    "validation_predicted = simple_viterbi(validation_untagged,train_word_tup)\n",
    "end = time.time()\n",
    "difference = end-start\n",
    "\n",
    "print(\"Time taken in seconds: \", difference)"
   ]
  },
  {
   "cell_type": "code",
   "execution_count": 15,
   "metadata": {},
   "outputs": [
    {
     "name": "stdout",
     "output_type": "stream",
     "text": [
      "4322\n",
      "Accuracy for this model is 91.43%\n"
     ]
    }
   ],
   "source": [
    "#Get the word and tag from the predicted result\n",
    "tagged_seq = [(tup[0],tup[1]) for tup in validation_predicted]\n",
    "\n",
    "# accuracy\n",
    "check = [i for i, j in zip(tagged_seq, validation_word_tup) if i == j] \n",
    "print (len(check))\n",
    "accuracy = len(check)/len(tagged_seq)\n",
    "print (\"Accuracy for this model is {:.2%}\".format(accuracy))"
   ]
  },
  {
   "cell_type": "code",
   "execution_count": 16,
   "metadata": {},
   "outputs": [
    {
     "name": "stdout",
     "output_type": "stream",
     "text": [
      "Number of words which were tagged incorrectly by the algorithm -  405\n"
     ]
    }
   ],
   "source": [
    "#identify the incorrect words\n",
    "incorrect_tagged_cases = [[validation_word_tup[i-1],j] for i, j in \\\n",
    "                          enumerate(zip(tagged_seq, validation_word_tup)) if j[0]!=j[1]]\n",
    "print (\"Number of words which were tagged incorrectly by the algorithm - \",len(incorrect_tagged_cases))"
   ]
  },
  {
   "cell_type": "code",
   "execution_count": 17,
   "metadata": {},
   "outputs": [
    {
     "name": "stdout",
     "output_type": "stream",
     "text": [
      "Number of Unknown words (0 emission probability) -  309\n"
     ]
    }
   ],
   "source": [
    "#Identify words with 0 probability\n",
    "print (\"Number of Unknown words (0 emission probability) - \",len([tup for tup in validation_predicted if tup[2] == 0.0]))"
   ]
  },
  {
   "cell_type": "code",
   "execution_count": 18,
   "metadata": {},
   "outputs": [],
   "source": [
    "#[tup for tup in validation_predicted if tup[2] == 0.0]"
   ]
  },
  {
   "cell_type": "code",
   "execution_count": null,
   "metadata": {},
   "outputs": [],
   "source": []
  },
  {
   "cell_type": "code",
   "execution_count": null,
   "metadata": {},
   "outputs": [],
   "source": []
  },
  {
   "cell_type": "code",
   "execution_count": null,
   "metadata": {},
   "outputs": [],
   "source": []
  },
  {
   "cell_type": "markdown",
   "metadata": {},
   "source": [
    "### 4. Solve the problem of unknown words\n",
    "\n",
    "It is seen that most of the words which are incorrectly tagged is due to words not found in the training set. As a result the emission probability is 0. Hence the function picks the first tag as the appropriate tag.\n",
    "\n",
    "- This can be corrected by adding additional rules based tagger for the words where the emission probability is 0.This has been done in the next section\n",
    "- Another way to resolves this is by considering the transition probability when the emission probability is missing"
   ]
  },
  {
   "cell_type": "markdown",
   "metadata": {},
   "source": [
    "### 4.a Using a Rule tagger with the vanilla Viterbi algorithm"
   ]
  },
  {
   "cell_type": "code",
   "execution_count": 19,
   "metadata": {},
   "outputs": [],
   "source": [
    "# the same vanilla viterbi function has been used along with a Rule tagger to resolve the problem of unknown words.\n",
    "def ruletagger_viterbi(sent ,dataset=train_word_tup):\n",
    "    #For each word in the sentence get the probaility for each unique tage and \n",
    "    #then choose the tag with the max probability\n",
    "   \n",
    "    unique_tags = list(set(tup[1] for tup in dataset))\n",
    "    sent_tag = []\n",
    "    prob_list = []\n",
    "    for i, word in enumerate(sent):\n",
    "        p_total = [] \n",
    "        for tag in unique_tags:\n",
    "            if i == 0 :\n",
    "                tran_p = tags_df.loc['.', tag]\n",
    "            else:\n",
    "                tran_p = tags_df.loc[sent_tag[i-1], tag]\n",
    "                \n",
    "            emission_p = word_emission(word, tag,train_word_tup)[0]/word_emission(word, tag, train_word_tup)[1]\n",
    "            p_total.append(emission_p * tran_p)\n",
    "\n",
    "        #get max probability and corresponding tag\n",
    "        p_vit = max(p_total)\n",
    "        prob_list.append(p_vit)\n",
    "        if p_vit == 0.0:\n",
    "            #For the words where the probability (emission) is 0, use the rule tagger for that word\n",
    "            #Probability is still kept as 0 to identify such words which have gone through the rule tagger\n",
    "            sent_tag.append(rule_tagger([word])[0][1]) \n",
    "        else:\n",
    "            index = p_total.index(max(p_total))\n",
    "            sent_tag.append (unique_tags[index])\n",
    "    return list(zip(sent, sent_tag , prob_list))\n",
    "\n",
    "#Use a rule based tagger for the words which cannot be tagged by the simple viterbi model\n",
    "def rule_tagger(word ,dataset=train_word_tup):\n",
    "    patterns = [\n",
    "        (r'.*ing$', 'VERB'),          #words ending with ing    \n",
    "        (r'.*ed$', 'VERB'),           #words ending with ed\n",
    "        (r'\\d+(\\.\\d*)?$', 'NUM'),\n",
    "        #(r'[0-9]+$', 'NUM'),         #words which are number\n",
    "        (r'.*[0-9]+.*', 'X'),         #words which have text, symbol  and numbers are classified as X\n",
    "        (r'[A-Z]{1,4}$','X'),         #words which are abbrevition upto 4 chars\n",
    "        (r'.*st$', 'ADJ'),            #words ending with st clasified as ADJ\n",
    "        (r'.*', 'NOUN')               #All others are classified as noun     \n",
    "    ]\n",
    "    regexp_tagger = nltk.RegexpTagger(patterns)\n",
    "    return regexp_tagger.tag(word)\n"
   ]
  },
  {
   "cell_type": "markdown",
   "metadata": {},
   "source": [
    "#### 4.a.1 Evaluating tagging accuracy for the algorithm using the rule tagger with simple vitrebi agorithm on the validation set\n",
    "Evaluate the tagging accuracy for the modified algorithm on the validation set"
   ]
  },
  {
   "cell_type": "code",
   "execution_count": 20,
   "metadata": {},
   "outputs": [
    {
     "name": "stdout",
     "output_type": "stream",
     "text": [
      "Time taken in seconds:  1664.9537239074707\n"
     ]
    }
   ],
   "source": [
    "\n",
    "start = time.time()\n",
    "validation_predicted_2 = ruletagger_viterbi(validation_untagged,train_word_tup)\n",
    "end = time.time()\n",
    "difference = end-start\n",
    "\n",
    "print(\"Time taken in seconds: \", difference)"
   ]
  },
  {
   "cell_type": "code",
   "execution_count": 21,
   "metadata": {},
   "outputs": [
    {
     "name": "stdout",
     "output_type": "stream",
     "text": [
      "Accuracy for this model is 94.92%\n",
      "Number of words which were tagged incorrectly by this algorithm -  240\n"
     ]
    }
   ],
   "source": [
    "#Get the word and tag from the predicted result\n",
    "tagged_seq_2 = [(tup[0],tup[1]) for tup in validation_predicted_2]\n",
    "\n",
    "# accuracy\n",
    "check_2 = [i for i, j in zip(tagged_seq_2, validation_word_tup) if i == j] \n",
    "#print (len(check_2))\n",
    "accuracy_2 = len(check_2)/len(tagged_seq_2)\n",
    "print (\"Accuracy for this model is {:.2%}\".format(accuracy_2))\n",
    "\n",
    "#identify the incorrect words\n",
    "incorrect_tagged_cases = [[validation_word_tup[i-1],j] for i, j in \\\n",
    "                          enumerate(zip(tagged_seq_2, validation_word_tup)) if j[0]!=j[1]]\n",
    "print ('Number of words which were tagged incorrectly by this algorithm - ',len(incorrect_tagged_cases))\n",
    "\n",
    "#Identify words with 0 probability\n",
    "#print ([tup for tup in validation_predicted_2 if tup[2] == 0.0])"
   ]
  },
  {
   "cell_type": "code",
   "execution_count": 22,
   "metadata": {},
   "outputs": [],
   "source": [
    "#incorrect_tagged_cases"
   ]
  },
  {
   "cell_type": "markdown",
   "metadata": {},
   "source": [
    "### 4.b Using only the transition probability for tagging when the emission probability is zero. using this with the vanilla Viterbi algorithm"
   ]
  },
  {
   "cell_type": "code",
   "execution_count": 23,
   "metadata": {},
   "outputs": [],
   "source": [
    "def transitionP_viterbi(sent ,dataset=train_word_tup):\n",
    "    #For each word in the sentence get the probaility for each unique tage and \n",
    "    #then choose the tag with the max probability\n",
    "    #in case the emission probability is zero then only use the transition probability for such cases\n",
    "   \n",
    "    unique_tags = list(set(tup[1] for tup in dataset))\n",
    "    sent_tag = []\n",
    "    prob_list = []\n",
    "    \n",
    "    for i, word in enumerate(sent):\n",
    "        p_total = [] \n",
    "        lst_ptrans = []\n",
    "        for tag in unique_tags:\n",
    "            if i == 0 :\n",
    "                tran_p = tags_df.loc['.', tag]\n",
    "            else:\n",
    "                tran_p = tags_df.loc[sent_tag[i-1], tag]\n",
    "                \n",
    "            emission_p = word_emission(word, tag,train_word_tup)[0]/word_emission(word, tag, train_word_tup)[1]\n",
    "            p_total.append(emission_p * tran_p)\n",
    "            lst_ptrans.append(tran_p)\n",
    "        #get max probability and corresponding tag\n",
    "        p_vit = max(p_total)\n",
    "        p_trans = max(lst_ptrans)\n",
    "        prob_list.append(p_vit) # populate this to 0 to identify the words which used only Transition Probability\n",
    "        if (p_vit == 0.0 and p_trans > 0.0):\n",
    "            #find the tag index with max Trans probability\n",
    "            index = lst_ptrans.index(p_trans)\n",
    "        else:            \n",
    "            index = p_total.index(max(p_total))\n",
    "        sent_tag.append (unique_tags[index])\n",
    "    return list(zip(sent, sent_tag , prob_list))"
   ]
  },
  {
   "cell_type": "markdown",
   "metadata": {},
   "source": [
    "#### 4.b.1 Evaluating tagging accuracy for the algorithm using transition probability (when emission probability is not available)on the validation set\n",
    "Evaluate the tagging accuracy for the modified algorithm on the validation set"
   ]
  },
  {
   "cell_type": "code",
   "execution_count": 24,
   "metadata": {},
   "outputs": [
    {
     "name": "stdout",
     "output_type": "stream",
     "text": [
      "Time taken in seconds:  1649.9899909496307\n"
     ]
    }
   ],
   "source": [
    "start = time.time()\n",
    "validation_predicted_3 = transitionP_viterbi(validation_untagged,train_word_tup)\n",
    "end = time.time()\n",
    "difference = end-start\n",
    "\n",
    "print(\"Time taken in seconds: \", difference)"
   ]
  },
  {
   "cell_type": "code",
   "execution_count": 25,
   "metadata": {},
   "outputs": [
    {
     "name": "stdout",
     "output_type": "stream",
     "text": [
      "Accuracy for this model is 93.31%\n",
      "Number of words which were tagged incorrectly by this algorithm -  316\n"
     ]
    }
   ],
   "source": [
    "#Get the word and tag from the predicted result\n",
    "tagged_seq_3 = [(tup[0],tup[1]) for tup in validation_predicted_3]\n",
    "\n",
    "# accuracy\n",
    "check_3 = [i for i, j in zip(tagged_seq_3, validation_word_tup) if i == j] \n",
    "#print (len(check_2))\n",
    "accuracy_3 = len(check_3)/len(tagged_seq_3)\n",
    "print (\"Accuracy for this model is {:.2%}\".format(accuracy_3))\n",
    "\n",
    "#identify the incorrect words\n",
    "incorrect_tagged_cases = [[validation_word_tup[i-1],j] for i, j in \\\n",
    "                          enumerate(zip(tagged_seq_3, validation_word_tup)) if j[0]!=j[1]]\n",
    "print ('Number of words which were tagged incorrectly by this algorithm - ',len(incorrect_tagged_cases))"
   ]
  },
  {
   "cell_type": "code",
   "execution_count": null,
   "metadata": {},
   "outputs": [],
   "source": [
    "\n"
   ]
  },
  {
   "cell_type": "markdown",
   "metadata": {},
   "source": [
    "#### 4.c.1 Evaluating tagging accuracy for the algorithm using the Lexicon tagger with simple vitrebi agorithm on the validation set"
   ]
  },
  {
   "cell_type": "markdown",
   "metadata": {},
   "source": [
    "### 5. Compare the tagging accuracies of the modifications with the vanilla Viterbi algorithm on the validation set\n",
    "\n",
    "As seen from the accuracies for the validation set when the transition probability table does not start with NOUN - \n",
    "- Vanilla Vitrebi Algorithm - ~90% accuracy - ~449 tagged incorrectly\n",
    "\n",
    "However this change when the transition probability table starts with NOUN -\n",
    "- Vanilla Vitrebi Algorithm - ~94% accuracy\n",
    "\n",
    "Accuracy of the modified Vitrebi \n",
    "- Vanilla Vitrebi + Rule tagger - ~95%\n",
    "- Vanilla Vitrebi + Using Transition probability when Emission probability is 0 - ~93.35% \n",
    "\n",
    "\n"
   ]
  },
  {
   "cell_type": "code",
   "execution_count": null,
   "metadata": {},
   "outputs": [],
   "source": []
  },
  {
   "cell_type": "code",
   "execution_count": null,
   "metadata": {},
   "outputs": [],
   "source": []
  },
  {
   "cell_type": "code",
   "execution_count": null,
   "metadata": {},
   "outputs": [],
   "source": []
  },
  {
   "cell_type": "markdown",
   "metadata": {},
   "source": [
    "### 6. Find accuracy on the test set for the different Techniques used\n"
   ]
  },
  {
   "cell_type": "code",
   "execution_count": 26,
   "metadata": {},
   "outputs": [],
   "source": [
    "#Use the function to check tagging for the test sentences\n",
    "data = pd.read_csv('Test_sentences.txt',  delimiter = \"\\t\", header=None)\n",
    "\n",
    "#tokenize these sentennces and form a list\n",
    "test_untagged = []\n",
    "for i in range(0,len(data)):\n",
    "    test_untagged.append(word_tokenize(data.iloc[i,0]))\n",
    "\n",
    "word_list = [wd for sent in test_untagged for wd in sent]\n",
    "\n",
    "SimpleVit_pred = simple_viterbi(word_list,train_word_tup)\n",
    "Rule_SimpleVit_pred = ruletagger_viterbi(word_list,train_word_tup)\n",
    "TransP_SimpleVit_pred = transitionP_viterbi(word_list,train_word_tup)\n"
   ]
  },
  {
   "cell_type": "code",
   "execution_count": 27,
   "metadata": {},
   "outputs": [],
   "source": [
    "#word_list"
   ]
  },
  {
   "cell_type": "code",
   "execution_count": 28,
   "metadata": {},
   "outputs": [],
   "source": [
    "#Assign the POS tags to the test data.\n",
    "#https://parts-of-speech.info/ used to assign the 9 POStags available there\n",
    "#This is then modified manually for the missing tags such as X,PRT and Puncuation\n",
    "test_pos = [('Android','NOUN'),\n",
    " ('is','VERB'),\n",
    " ('a','DET'),\n",
    " ('mobile','ADJ'),\n",
    " ('operating','NOUN'),\n",
    " ('system','NOUN'),\n",
    " ('developed','VERB'),\n",
    " ('by','ADP'),\n",
    " ('Google','NOUN'),\n",
    " ('.','.'),\n",
    " ('Android','NOUN'),\n",
    " ('has','VERB'),\n",
    " ('been','VERB'),\n",
    " ('the','DET'),\n",
    " ('best-selling','ADJ'),\n",
    " ('OS','X'),\n",
    " ('worldwide','NOUN'),\n",
    " ('on','ADP'),\n",
    " ('smartphones','NOUN'),\n",
    " ('since','ADP'),\n",
    " ('2011','NUM'),\n",
    " ('and','CONJ'),\n",
    " ('on','ADP'),\n",
    " ('tablets','NOUN'),\n",
    " ('since','ADP'),\n",
    " ('2013','NUM'),\n",
    " ('.','.'),\n",
    " ('Google','NOUN'),\n",
    " ('and','CONJ'),\n",
    " ('Twitter','NOUN'),\n",
    " ('made','VERB'),\n",
    " ('a','DET'),\n",
    " ('deal','NOUN'),\n",
    " ('in','ADP'),\n",
    " ('2015','NUM'),\n",
    " ('that','DET'),\n",
    " ('gave','VERB'),\n",
    " ('Google','NOUN'),\n",
    " ('access','NOUN'),\n",
    " ('to','PRT'),\n",
    " ('Twitter','NOUN'),\n",
    " (\"'s\",'PRT'),\n",
    " ('firehose','NOUN'),\n",
    " ('.','.'),\n",
    " ('Twitter','NOUN'),\n",
    " ('is','VERB'),\n",
    " ('an','DET'),\n",
    " ('online','ADJ'),\n",
    " ('news','NOUN'),\n",
    " ('and','CONJ'),\n",
    " ('social','ADJ'),\n",
    " ('networking','NOUN'),\n",
    " ('service','NOUN'),\n",
    " ('on','ADP'),\n",
    " ('which','DET'),\n",
    " ('users','NOUN'),\n",
    " ('post','VERB'),\n",
    " ('and','CONJ'),\n",
    " ('interact','VERB'),\n",
    " ('with','ADP'),\n",
    " ('messages','NOUN'),\n",
    " ('known','VERB'),\n",
    " ('as','ADP'),\n",
    " ('tweets','NOUN'),\n",
    " ('.','.'),\n",
    " ('Before','ADP'),\n",
    " ('entering','VERB'),\n",
    " ('politics','NOUN'),\n",
    " (',','.'),\n",
    " ('Donald','NOUN'),\n",
    " ('Trump','NOUN'),\n",
    " ('was','VERB'),\n",
    " ('a','DET'),\n",
    " ('domineering','ADJ'),\n",
    " ('businessman','NOUN'),\n",
    " ('and','CONJ'),\n",
    " ('a','DET'),\n",
    " ('television','NOUN'),\n",
    " ('personality','NOUN'),\n",
    " ('.','.'),\n",
    " ('The','DET'),\n",
    " ('2018','NUM'),\n",
    " ('FIFA','X'),\n",
    " ('World','NOUN'),\n",
    " ('Cup','NOUN'),\n",
    " ('is','VERB'),\n",
    " ('the','DET'),\n",
    " ('21st','NUM'),\n",
    " ('FIFA','X'),\n",
    " ('World','NOUN'),\n",
    " ('Cup','NOUN'),\n",
    " (',','.'),\n",
    " ('an','DET'),\n",
    " ('international','ADJ'),\n",
    " ('football','NOUN'),\n",
    " ('tournament','NOUN'),\n",
    " ('contested','VERB'),\n",
    " ('once','ADV'),\n",
    " ('every','DET'),\n",
    " ('four','NUM'),\n",
    " ('years','NOUN'),\n",
    " ('.','.'),\n",
    " ('This','DET'),\n",
    " ('is','VERB'),\n",
    " ('the','DET'),\n",
    " ('first','ADJ'),\n",
    " ('World','NOUN'),\n",
    " ('Cup','NOUN'),\n",
    " ('to','PRT'),\n",
    " ('be','VERB'),\n",
    " ('held','VERB'),\n",
    " ('in','ADP'),\n",
    " ('Eastern','NOUN'),\n",
    " ('Europe','NOUN'),\n",
    " ('and','CONJ'),\n",
    " ('the','DET'),\n",
    " ('11th','ADJ'),\n",
    " ('time','NOUN'),\n",
    " ('that','ADP'),\n",
    " ('it','PRON'),\n",
    " ('has','VERB'),\n",
    " ('been','VERB'),\n",
    " ('held','VERB'),\n",
    " ('in','ADP'),\n",
    " ('Europe','NOUN'),\n",
    " ('.','.'),\n",
    " ('Show','NOUN'),\n",
    " ('me','PRON'),\n",
    " ('the','DET'),\n",
    " ('cheapest','ADJ'),\n",
    " ('round','NOUN'),\n",
    " ('trips','NOUN'),\n",
    " ('from','ADP'),\n",
    " ('Dallas','NOUN'),\n",
    " ('to','PRT'),\n",
    " ('Atlanta','NOUN'),\n",
    " ('I','PRON'),\n",
    " ('would','VERB'),\n",
    " ('like','VERB'),\n",
    " ('to','PRT'),\n",
    " ('see','VERB'),\n",
    " ('flights','NOUN'),\n",
    " ('from','ADP'),\n",
    " ('Denver','NOUN'),\n",
    " ('to','PRT'),\n",
    " ('Philadelphia','NOUN'),\n",
    " ('.','.'),\n",
    " ('Show','NOUN'),\n",
    " ('me','PRON'),\n",
    " ('the','DET'),\n",
    " ('price','NOUN'),\n",
    " ('of','ADP'),\n",
    " ('the','DET'),\n",
    " ('flights','NOUN'),\n",
    " ('leaving','VERB'),\n",
    " ('Atlanta','NOUN'),\n",
    " ('at','ADP'),\n",
    " ('about','ADP'),\n",
    " ('3','NUM'),\n",
    " ('in','ADP'),\n",
    " ('the','DET'),\n",
    " ('afternoon','NOUN'),\n",
    " ('and','CONJ'),\n",
    " ('arriving','VERB'),\n",
    " ('in','ADP'),\n",
    " ('San','NOUN'),\n",
    " ('Francisco','NOUN'),\n",
    " ('.','.'),\n",
    " ('NASA','X'),\n",
    " ('invited','VERB'),\n",
    " ('social','ADJ'),\n",
    " ('media','NOUN'),\n",
    " ('users','NOUN'),\n",
    " ('to','PRT'),\n",
    " ('experience','VERB'),\n",
    " ('the','DET'),\n",
    " ('launch','NOUN'),\n",
    " ('of','ADP'),\n",
    " ('ICESAT-2','X'),\n",
    " ('Satellite','NOUN'),\n",
    " ('.','.')]"
   ]
  },
  {
   "cell_type": "markdown",
   "metadata": {},
   "source": [
    "#### Accuracy of simple Vitrebi on the test set\n",
    "- Accuracy for this model is 77%\n",
    "- Number of words which were tagged incorrectly by Simple Vitrebi algorithm -  40\n",
    "\n",
    "#### the accuracy will be high around 85% if  'NOUN' has been selected as the first tag. For other tags the accuracy will fall to almost 77%"
   ]
  },
  {
   "cell_type": "code",
   "execution_count": 29,
   "metadata": {},
   "outputs": [
    {
     "name": "stdout",
     "output_type": "stream",
     "text": [
      "Accuracy for this model is 78.45%\n",
      "Number of words which were tagged incorrectly by Simple Vitrebi algorithm -  39\n",
      "[[('.', '.'), (('Android', 'ADJ'), ('Android', 'NOUN'))], [('by', 'ADP'), (('Google', 'ADJ'), ('Google', 'NOUN'))], [('.', '.'), (('Android', 'ADJ'), ('Android', 'NOUN'))], [('best-selling', 'ADJ'), (('OS', 'ADJ'), ('OS', 'X'))], [('OS', 'X'), (('worldwide', 'ADJ'), ('worldwide', 'NOUN'))], [('on', 'ADP'), (('smartphones', 'ADJ'), ('smartphones', 'NOUN'))], [('since', 'ADP'), (('2011', 'ADJ'), ('2011', 'NUM'))], [('since', 'ADP'), (('2013', 'ADJ'), ('2013', 'NUM'))], [('.', '.'), (('Google', 'ADJ'), ('Google', 'NOUN'))], [('and', 'CONJ'), (('Twitter', 'ADJ'), ('Twitter', 'NOUN'))], [('in', 'ADP'), (('2015', 'ADJ'), ('2015', 'NUM'))], [('2015', 'NUM'), (('that', 'ADP'), ('that', 'DET'))], [('gave', 'VERB'), (('Google', 'ADJ'), ('Google', 'NOUN'))], [('to', 'PRT'), (('Twitter', 'ADJ'), ('Twitter', 'NOUN'))], [(\"'s\", 'PRT'), (('firehose', 'ADJ'), ('firehose', 'NOUN'))], [('.', '.'), (('Twitter', 'ADJ'), ('Twitter', 'NOUN'))], [('users', 'NOUN'), (('post', 'NOUN'), ('post', 'VERB'))], [('and', 'CONJ'), (('interact', 'ADJ'), ('interact', 'VERB'))], [('with', 'ADP'), (('messages', 'ADJ'), ('messages', 'NOUN'))], [('messages', 'NOUN'), (('known', 'ADJ'), ('known', 'VERB'))], [('as', 'ADP'), (('tweets', 'ADJ'), ('tweets', 'NOUN'))], [('television', 'NOUN'), (('personality', 'ADJ'), ('personality', 'NOUN'))], [('The', 'DET'), (('2018', 'ADJ'), ('2018', 'NUM'))], [('2018', 'NUM'), (('FIFA', 'ADJ'), ('FIFA', 'X'))], [('World', 'NOUN'), (('Cup', 'ADJ'), ('Cup', 'NOUN'))], [('the', 'DET'), (('21st', 'ADJ'), ('21st', 'NUM'))], [('21st', 'NUM'), (('FIFA', 'ADJ'), ('FIFA', 'X'))], [('World', 'NOUN'), (('Cup', 'ADJ'), ('Cup', 'NOUN'))], [('football', 'NOUN'), (('tournament', 'ADJ'), ('tournament', 'NOUN'))], [('tournament', 'NOUN'), (('contested', 'ADJ'), ('contested', 'VERB'))], [('World', 'NOUN'), (('Cup', 'ADJ'), ('Cup', 'NOUN'))], [('round', 'NOUN'), (('trips', 'ADJ'), ('trips', 'NOUN'))], [('would', 'VERB'), (('like', 'ADP'), ('like', 'VERB'))], [('and', 'CONJ'), (('arriving', 'ADJ'), ('arriving', 'VERB'))], [('.', '.'), (('NASA', 'ADJ'), ('NASA', 'X'))], [('NASA', 'X'), (('invited', 'ADJ'), ('invited', 'VERB'))], [('to', 'PRT'), (('experience', 'NOUN'), ('experience', 'VERB'))], [('of', 'ADP'), (('ICESAT-2', 'ADJ'), ('ICESAT-2', 'X'))], [('ICESAT-2', 'X'), (('Satellite', 'ADJ'), ('Satellite', 'NOUN'))]]\n"
     ]
    }
   ],
   "source": [
    "#Get the word and tag from the predicted result\n",
    "tagged_SimpleVit_pred = [(tup[0],tup[1]) for tup in SimpleVit_pred]\n",
    "\n",
    "# accuracy\n",
    "check_2 = [i for i, j in zip(tagged_SimpleVit_pred, test_pos) if i == j] \n",
    "#print (len(check_2))\n",
    "accuracy_2 = len(check_2)/len(tagged_SimpleVit_pred)\n",
    "print (\"Accuracy for this model is {:.2%}\".format(accuracy_2))\n",
    "\n",
    "#identify the incorrect words\n",
    "incorrect_tagged_cases = [[test_pos[i-1],j] for i, j in \\\n",
    "                          enumerate(zip(tagged_SimpleVit_pred, test_pos)) if j[0]!=j[1]]\n",
    "print ('Number of words which were tagged incorrectly by Simple Vitrebi algorithm - ',len(incorrect_tagged_cases))\n",
    "\n",
    "print (incorrect_tagged_cases)"
   ]
  },
  {
   "cell_type": "markdown",
   "metadata": {},
   "source": [
    "#### Accuracy of Rule tagger + simple Vitrebi on the test set\n",
    "Accuracy for this model is 95.58%\n",
    "Number of words which were tagged incorrectly by Ruletagger + Simple Vitrebi algorithm -  8"
   ]
  },
  {
   "cell_type": "code",
   "execution_count": 30,
   "metadata": {},
   "outputs": [
    {
     "name": "stdout",
     "output_type": "stream",
     "text": [
      "Accuracy for this model is 95.58%\n",
      "Number of words which were tagged incorrectly by Ruletagger + Simple Vitrebi algorithm -  8\n",
      "[[('2015', 'NUM'), (('that', 'ADP'), ('that', 'DET'))], [('an', 'DET'), (('online', 'NOUN'), ('online', 'ADJ'))], [('users', 'NOUN'), (('post', 'NOUN'), ('post', 'VERB'))], [('and', 'CONJ'), (('interact', 'NOUN'), ('interact', 'VERB'))], [('a', 'DET'), (('domineering', 'VERB'), ('domineering', 'ADJ'))], [('the', 'DET'), (('21st', 'X'), ('21st', 'NUM'))], [('would', 'VERB'), (('like', 'ADP'), ('like', 'VERB'))], [('to', 'PRT'), (('experience', 'NOUN'), ('experience', 'VERB'))]]\n"
     ]
    }
   ],
   "source": [
    "#Get the word and tag from the predicted result\n",
    "tagged_Rule_Vit_pred = [(tup[0],tup[1]) for tup in Rule_SimpleVit_pred]\n",
    "\n",
    "# accuracy\n",
    "check_2 = [i for i, j in zip(tagged_Rule_Vit_pred, test_pos) if i == j] \n",
    "#print (len(check_2))\n",
    "accuracy_2 = len(check_2)/len(tagged_Rule_Vit_pred)\n",
    "print (\"Accuracy for this model is {:.2%}\".format(accuracy_2))\n",
    "\n",
    "#identify the incorrect words\n",
    "incorrect_tagged_cases = [[test_pos[i-1],j] for i, j in \\\n",
    "                          enumerate(zip(tagged_Rule_Vit_pred, test_pos)) if j[0]!=j[1]]\n",
    "print ('Number of words which were tagged incorrectly by Ruletagger + Simple Vitrebi algorithm - ',len(incorrect_tagged_cases))\n",
    "\n",
    "print (incorrect_tagged_cases)"
   ]
  },
  {
   "cell_type": "markdown",
   "metadata": {},
   "source": [
    "#### Accuracy of Transition probaility + simple Vitrebi on the test set\n",
    "- Accuracy for this model is 85.08%\n",
    "- Number of words which were tagged incorrectly by Ruletagger + Simple Vitrebi algorithm -  27"
   ]
  },
  {
   "cell_type": "code",
   "execution_count": 31,
   "metadata": {},
   "outputs": [
    {
     "name": "stdout",
     "output_type": "stream",
     "text": [
      "Accuracy for this model is 85.08%\n",
      "Number of words which were tagged incorrectly by Transition probability  + Simple Vitrebi algorithm -  27\n",
      "[[('by', 'ADP'), (('Google', 'DET'), ('Google', 'NOUN'))], [('best-selling', 'ADJ'), (('OS', 'NOUN'), ('OS', 'X'))], [('on', 'ADP'), (('smartphones', 'DET'), ('smartphones', 'NOUN'))], [('since', 'ADP'), (('2011', 'DET'), ('2011', 'NUM'))], [('since', 'ADP'), (('2013', 'DET'), ('2013', 'NUM'))], [('in', 'ADP'), (('2015', 'DET'), ('2015', 'NUM'))], [('2015', 'NUM'), (('that', 'ADP'), ('that', 'DET'))], [('gave', 'VERB'), (('Google', 'X'), ('Google', 'NOUN'))], [('to', 'PRT'), (('Twitter', 'VERB'), ('Twitter', 'NOUN'))], [(\"'s\", 'PRT'), (('firehose', 'VERB'), ('firehose', 'NOUN'))], [('an', 'DET'), (('online', 'NOUN'), ('online', 'ADJ'))], [('users', 'NOUN'), (('post', 'NOUN'), ('post', 'VERB'))], [('and', 'CONJ'), (('interact', 'NOUN'), ('interact', 'VERB'))], [('with', 'ADP'), (('messages', 'DET'), ('messages', 'NOUN'))], [('as', 'ADP'), (('tweets', 'DET'), ('tweets', 'NOUN'))], [('a', 'DET'), (('domineering', 'NOUN'), ('domineering', 'ADJ'))], [('The', 'DET'), (('2018', 'NOUN'), ('2018', 'NUM'))], [('2018', 'NUM'), (('FIFA', 'NOUN'), ('FIFA', 'X'))], [('the', 'DET'), (('21st', 'NOUN'), ('21st', 'NUM'))], [('21st', 'NUM'), (('FIFA', 'NOUN'), ('FIFA', 'X'))], [('tournament', 'NOUN'), (('contested', 'NOUN'), ('contested', 'VERB'))], [('would', 'VERB'), (('like', 'ADP'), ('like', 'VERB'))], [('and', 'CONJ'), (('arriving', 'NOUN'), ('arriving', 'VERB'))], [('.', '.'), (('NASA', 'NOUN'), ('NASA', 'X'))], [('NASA', 'X'), (('invited', 'NOUN'), ('invited', 'VERB'))], [('to', 'PRT'), (('experience', 'NOUN'), ('experience', 'VERB'))], [('of', 'ADP'), (('ICESAT-2', 'DET'), ('ICESAT-2', 'X'))]]\n"
     ]
    }
   ],
   "source": [
    "#Get the word and tag from the predicted result\n",
    "tagged_TransP_Vit_pred = [(tup[0],tup[1]) for tup in TransP_SimpleVit_pred]\n",
    "\n",
    "# accuracy\n",
    "check_2 = [i for i, j in zip(tagged_TransP_Vit_pred, test_pos) if i == j] \n",
    "#print (len(check_2))\n",
    "accuracy_2 = len(check_2)/len(tagged_TransP_Vit_pred)\n",
    "print (\"Accuracy for this model is {:.2%}\".format(accuracy_2))\n",
    "\n",
    "#identify the incorrect words\n",
    "incorrect_tagged_cases = [[test_pos[i-1],j] for i, j in \\\n",
    "                          enumerate(zip(tagged_TransP_Vit_pred, test_pos)) if j[0]!=j[1]]\n",
    "print ('Number of words which were tagged incorrectly by Transition probability  + Simple Vitrebi algorithm - ',len(incorrect_tagged_cases))\n",
    "\n",
    "print (incorrect_tagged_cases)"
   ]
  },
  {
   "cell_type": "markdown",
   "metadata": {},
   "source": [
    "### Comparision of the Incorrect words across different algorithms\n",
    "#### Simple Viterbi Model\n",
    "- Accuracy of ``77.9 %`` on the test set. This accuracy will depend on the tag which is first in the unique tags list.In case this turns out to be a Noun, the accuracy shoots up to almost ``85%``.\n",
    "- ``Words such as 'Android','Google' 'OS','worldwide','smartphones'  '2011', '2013','Twitter', '2015',\"'s\",'firehose' , 'online', 'messages','tweets','post', 'interact', 'domineering','personality', '2018', 'FIFA','Cup',  '21st','tournament', 'trips', 'contested', 'like',  'arriving', 'NASA', 'invited', 'ICESAT-2', 'experience','Satellite' are not tagged correctly``\n",
    "\n",
    "#### Viterbi+Ruletagger\n",
    "In the combination of Viterbi+Ruletagger words such as the below are correctly tagged - Here due to rules defined most of the words get tagged accuratly. The last rule defined is to mark all unknown words as Noun\n",
    "\n",
    "- ``Accuracy of ~96% on the test data``\n",
    "- ``'Android','Google', 'worldwide', 'smartphones', 'Twitter', 'firehose', 'messages', 'tweets', 'personality', 'tournament', 'trips' are correctly identified as Noun``\n",
    "- `` 2011, 2013, 2015 ,2018  are identified as NUM. `` Numbers which could not be classified in the simple viterbi algorithm are classified correctly\n",
    "- `` OS ,21st ,'ICESAT-2 ,FIFA identifed as X. `` Words are corrctly tagged as 'X' which was not the case in the Simple Viterbi algorithm.\n",
    "- `` contested ,  arriving ,invited are correctly identified as VERB. `` These wors were not correctlyidentified in the simple Vitrebi algorithm\n",
    "- Words such as ``that ,online ,post, interact, domineering, 21st, like and experience`` were not identified correctly\n",
    "\n",
    "\n",
    "#### Viterbi+TransitionProb Algorithm\n",
    "In the combination of Viterbi+TransitionProb the accuracy is less than the simple Viterbi , since there is no mechanism of setting a default tag for the word. However this will only be true if the NOUNs forma majority. In case this is not the case the accuracy for this algorithm will be higher.\n",
    "\n",
    "- ``Accuracy of ~85% on the test data``\n",
    "``words such as the below are correctly tagged -``\n",
    "- `` Andriod, Twitter (1 instance),worldwide ,personality ,Cup,tournament,Satellite are identified as Noun`` These were incorreclty identified by the simple Viterbi algorithm\n"
   ]
  },
  {
   "cell_type": "code",
   "execution_count": null,
   "metadata": {},
   "outputs": [],
   "source": [
    "\n"
   ]
  },
  {
   "cell_type": "code",
   "execution_count": null,
   "metadata": {},
   "outputs": [],
   "source": []
  },
  {
   "cell_type": "code",
   "execution_count": 32,
   "metadata": {},
   "outputs": [],
   "source": [
    "# patterns = [\n",
    "#     (r'.*ing$', 'VERB'),          #words ending with ing    \n",
    "#     (r'.*ed$', 'VERB'),           #words ending with ed\n",
    "#     (r'\\d+(\\.\\d*)?$', 'NUM'),\n",
    "#     #(r'[0-9]+$', 'NUM'),     #words which are number\n",
    "#     (r'.*[0-9]+.*', 'X'),         #words which have text, symbol  and numbers are classified as X\n",
    "#     (r'[A-Z]{1,4}$','X'),         #words which are abbrevition upto 4 chars\n",
    "#     (r'.*', 'NOUN')               #All others are classified as noun     \n",
    "# ]\n",
    "# word = [\"0.\"]\n",
    "# regexp_tagger = nltk.RegexpTagger(patterns)\n",
    "# print( regexp_tagger.tag(word))"
   ]
  }
 ],
 "metadata": {
  "kernelspec": {
   "display_name": "Python 3",
   "language": "python",
   "name": "python3"
  },
  "language_info": {
   "codemirror_mode": {
    "name": "ipython",
    "version": 3
   },
   "file_extension": ".py",
   "mimetype": "text/x-python",
   "name": "python",
   "nbconvert_exporter": "python",
   "pygments_lexer": "ipython3",
   "version": "3.7.3"
  }
 },
 "nbformat": 4,
 "nbformat_minor": 2
}
