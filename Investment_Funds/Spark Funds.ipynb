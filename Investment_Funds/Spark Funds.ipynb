{
 "cells": [
  {
   "cell_type": "markdown",
   "metadata": {},
   "source": [
    "# Spark Funds assignment\n",
    "\n",
    "This notebook holds the steps to anayze the areas for the funding from spark Funds. I have tried to make this as generic as possible within the time available.This should work on any new set of data which has the same format (input format of the files)."
   ]
  },
  {
   "cell_type": "markdown",
   "metadata": {},
   "source": [
    "### 1 - Load the data file for the companies and rounds to identify the key properties of this data as part of the checkpoint 1"
   ]
  },
  {
   "cell_type": "code",
   "execution_count": 1,
   "metadata": {},
   "outputs": [],
   "source": [
    "#load the data frame with the files for companies and rounds\n",
    "import pandas as pd\n",
    "import numpy as np\n",
    "\n",
    "# reading a CSV file as a dataframe\n",
    "df_companies = pd.read_csv(\"companies.txt\",delimiter=\"\\t\",encoding='ISO-8859-1')\n",
    "df_rounds = pd.read_csv(\"rounds2.csv\",encoding='ISO-8859-1')\n",
    "\n",
    "#constant values\n",
    "lower_limit_funding = 5000000\n",
    "upper_limit_funding = 15000000\n",
    "#as per the scenario provided in the problem statement\n",
    "funding_types_considered = ['venture','angel','seed','private_equity']\n",
    "\n",
    "web_scrapping = \"https://en.wikipedia.org/wiki/List_of_territorial_entities_where_English_is_an_official_language\"\n"
   ]
  },
  {
   "cell_type": "code",
   "execution_count": 2,
   "metadata": {},
   "outputs": [
    {
     "name": "stdout",
     "output_type": "stream",
     "text": [
      "90247\n"
     ]
    }
   ],
   "source": [
    "# Unique companies int the round dataset\n",
    "list_rounds = list(df_rounds['company_permalink'].unique())\n",
    "print (len(list_rounds))"
   ]
  },
  {
   "cell_type": "code",
   "execution_count": 3,
   "metadata": {},
   "outputs": [
    {
     "name": "stdout",
     "output_type": "stream",
     "text": [
      "66368\n"
     ]
    }
   ],
   "source": [
    "# Unique companies int the companies dataset\n",
    "list_companies = list(df_companies['permalink'].unique())\n",
    "print (len(list_companies))"
   ]
  },
  {
   "cell_type": "markdown",
   "metadata": {},
   "source": [
    "### 2- Merge the two dataframe into a master data frame\n",
    "\n",
    "- Use the inner join from the rounds dataframe to merge the companies frame\n",
    "- Convert the values in the dataforms to lower case to ensure that the merge happens"
   ]
  },
  {
   "cell_type": "code",
   "execution_count": 4,
   "metadata": {},
   "outputs": [],
   "source": [
    "df_companies = df_companies.applymap(lambda x:x.lower() if type(x) == str else x)"
   ]
  },
  {
   "cell_type": "code",
   "execution_count": 5,
   "metadata": {},
   "outputs": [],
   "source": [
    "df_rounds = df_rounds.applymap(lambda x:x.lower() if type(x) == str else x)"
   ]
  },
  {
   "cell_type": "markdown",
   "metadata": {},
   "source": [
    "Merge the dataform for companies and rounds"
   ]
  },
  {
   "cell_type": "code",
   "execution_count": 6,
   "metadata": {},
   "outputs": [],
   "source": [
    "master_df = pd.merge(df_rounds, df_companies, how='inner', left_on='company_permalink' ,right_on='permalink')"
   ]
  },
  {
   "cell_type": "code",
   "execution_count": 7,
   "metadata": {},
   "outputs": [
    {
     "data": {
      "text/plain": [
       "(114942, 16)"
      ]
     },
     "execution_count": 7,
     "metadata": {},
     "output_type": "execute_result"
    }
   ],
   "source": [
    "master_df.shape"
   ]
  },
  {
   "cell_type": "code",
   "execution_count": 8,
   "metadata": {},
   "outputs": [
    {
     "data": {
      "text/plain": [
       "(66368, 10)"
      ]
     },
     "execution_count": 8,
     "metadata": {},
     "output_type": "execute_result"
    }
   ],
   "source": [
    "df_companies.shape"
   ]
  },
  {
   "cell_type": "code",
   "execution_count": 9,
   "metadata": {},
   "outputs": [
    {
     "data": {
      "text/plain": [
       "(114949, 6)"
      ]
     },
     "execution_count": 9,
     "metadata": {},
     "output_type": "execute_result"
    }
   ],
   "source": [
    "df_rounds.shape"
   ]
  },
  {
   "cell_type": "markdown",
   "metadata": {},
   "source": [
    "## Check Point 2 - Investment type analysis\n",
    "- To find the most representitative values for each type of investment , do a groupby and find the mean of each group which will provide the average for that type"
   ]
  },
  {
   "cell_type": "code",
   "execution_count": 10,
   "metadata": {},
   "outputs": [],
   "source": [
    "df_master_fundingtype = master_df.groupby(['funding_round_type'],as_index=False).mean()"
   ]
  },
  {
   "cell_type": "code",
   "execution_count": 11,
   "metadata": {},
   "outputs": [
    {
     "data": {
      "text/html": [
       "<div>\n",
       "<style scoped>\n",
       "    .dataframe tbody tr th:only-of-type {\n",
       "        vertical-align: middle;\n",
       "    }\n",
       "\n",
       "    .dataframe tbody tr th {\n",
       "        vertical-align: top;\n",
       "    }\n",
       "\n",
       "    .dataframe thead th {\n",
       "        text-align: right;\n",
       "    }\n",
       "</style>\n",
       "<table border=\"1\" class=\"dataframe\">\n",
       "  <thead>\n",
       "    <tr style=\"text-align: right;\">\n",
       "      <th></th>\n",
       "      <th>funding_round_type</th>\n",
       "      <th>raised_amount_usd</th>\n",
       "    </tr>\n",
       "  </thead>\n",
       "  <tbody>\n",
       "    <tr>\n",
       "      <th>0</th>\n",
       "      <td>angel</td>\n",
       "      <td>958,694.4698</td>\n",
       "    </tr>\n",
       "    <tr>\n",
       "      <th>1</th>\n",
       "      <td>convertible_note</td>\n",
       "      <td>1,453,438.5432</td>\n",
       "    </tr>\n",
       "    <tr>\n",
       "      <th>2</th>\n",
       "      <td>debt_financing</td>\n",
       "      <td>17,043,526.0230</td>\n",
       "    </tr>\n",
       "    <tr>\n",
       "      <th>3</th>\n",
       "      <td>equity_crowdfunding</td>\n",
       "      <td>538,368.2109</td>\n",
       "    </tr>\n",
       "    <tr>\n",
       "      <th>4</th>\n",
       "      <td>grant</td>\n",
       "      <td>4,300,576.3395</td>\n",
       "    </tr>\n",
       "    <tr>\n",
       "      <th>5</th>\n",
       "      <td>non_equity_assistance</td>\n",
       "      <td>411,203.0548</td>\n",
       "    </tr>\n",
       "    <tr>\n",
       "      <th>6</th>\n",
       "      <td>post_ipo_debt</td>\n",
       "      <td>168,704,571.8224</td>\n",
       "    </tr>\n",
       "    <tr>\n",
       "      <th>7</th>\n",
       "      <td>post_ipo_equity</td>\n",
       "      <td>82,182,493.8710</td>\n",
       "    </tr>\n",
       "    <tr>\n",
       "      <th>8</th>\n",
       "      <td>private_equity</td>\n",
       "      <td>73,308,593.0294</td>\n",
       "    </tr>\n",
       "    <tr>\n",
       "      <th>9</th>\n",
       "      <td>product_crowdfunding</td>\n",
       "      <td>1,363,131.0699</td>\n",
       "    </tr>\n",
       "    <tr>\n",
       "      <th>10</th>\n",
       "      <td>secondary_market</td>\n",
       "      <td>79,649,630.1000</td>\n",
       "    </tr>\n",
       "    <tr>\n",
       "      <th>11</th>\n",
       "      <td>seed</td>\n",
       "      <td>719,779.6202</td>\n",
       "    </tr>\n",
       "    <tr>\n",
       "      <th>12</th>\n",
       "      <td>undisclosed</td>\n",
       "      <td>19,242,370.2257</td>\n",
       "    </tr>\n",
       "    <tr>\n",
       "      <th>13</th>\n",
       "      <td>venture</td>\n",
       "      <td>11,748,949.1295</td>\n",
       "    </tr>\n",
       "  </tbody>\n",
       "</table>\n",
       "</div>"
      ],
      "text/plain": [
       "       funding_round_type  raised_amount_usd\n",
       "0                   angel       958,694.4698\n",
       "1        convertible_note     1,453,438.5432\n",
       "2          debt_financing    17,043,526.0230\n",
       "3     equity_crowdfunding       538,368.2109\n",
       "4                   grant     4,300,576.3395\n",
       "5   non_equity_assistance       411,203.0548\n",
       "6           post_ipo_debt   168,704,571.8224\n",
       "7         post_ipo_equity    82,182,493.8710\n",
       "8          private_equity    73,308,593.0294\n",
       "9    product_crowdfunding     1,363,131.0699\n",
       "10       secondary_market    79,649,630.1000\n",
       "11                   seed       719,779.6202\n",
       "12            undisclosed    19,242,370.2257\n",
       "13                venture    11,748,949.1295"
      ]
     },
     "execution_count": 11,
     "metadata": {},
     "output_type": "execute_result"
    }
   ],
   "source": [
    "pd.options.display.float_format = '{:,.4f}'.format\n",
    "df_master_fundingtype.head(20)"
   ]
  },
  {
   "cell_type": "code",
   "execution_count": 12,
   "metadata": {},
   "outputs": [
    {
     "name": "stdout",
     "output_type": "stream",
     "text": [
      "venture\n"
     ]
    }
   ],
   "source": [
    "# Top Funding type between 5 MUSd and 15MUSD\n",
    "funding_type = df_master_fundingtype.loc[df_master_fundingtype[\"raised_amount_usd\"]\\\n",
    "                                         .astype(int)\\\n",
    "                                         .between(lower_limit_funding,upper_limit_funding),:]\n",
    "print (funding_type.iloc[0,0])"
   ]
  },
  {
   "cell_type": "markdown",
   "metadata": {},
   "source": [
    "## ```` Funding type details ````\n",
    "- ```` Average funding amount of venture type - 11748949.1295 ````\n",
    "- ```` Average funding amount of angel type -  958694.4698 ````\n",
    "- ```` Average funding amount of seed type - 719779.6202 ````\n",
    "- ```` Average funding amount of private equity type - 73308593.0294 ````\n",
    "- ```` Considering that Spark Funds wants to invest between 5 to 15 million USD per  investment round, which investment type is the most suitable for them? - Venture Type ````"
   ]
  },
  {
   "cell_type": "markdown",
   "metadata": {},
   "source": [
    "## Checkpoint 3 - Country Analysis\n",
    "- Spark Funds wants to see the top nine countries which have received the highest total funding (across ALL sectors for the chosen investment type) which is a Venture type\n",
    "- For the chosen investment type, make a data frame named df_countries_top9 with the top nine countries (based on the total investment amount each country has received)"
   ]
  },
  {
   "cell_type": "markdown",
   "metadata": {},
   "source": [
    "#### Filter the data for the funding type as ````Venture```` and then group by the countries since ````Venture```` is the preferred funding type for Spark funds"
   ]
  },
  {
   "cell_type": "code",
   "execution_count": 13,
   "metadata": {},
   "outputs": [],
   "source": [
    "#funding_type.iloc[0,0] holds the value of the appropriate funding from the above sections\n",
    "df_allventure_countries = master_df.loc[master_df['funding_round_type'] == funding_type.iloc[0,0],:]"
   ]
  },
  {
   "cell_type": "markdown",
   "metadata": {},
   "source": [
    "#### Create a new dataframe which holds the countries and the aggregated funding values for that country"
   ]
  },
  {
   "cell_type": "code",
   "execution_count": 14,
   "metadata": {},
   "outputs": [],
   "source": [
    "pd.options.display.float_format = '{:,.4f}'.format"
   ]
  },
  {
   "cell_type": "code",
   "execution_count": 15,
   "metadata": {},
   "outputs": [],
   "source": [
    "df_countries_top9 = df_allventure_countries.groupby(['country_code'],as_index=False).sum().sort_values(by= 'raised_amount_usd', ascending= False).head(9)"
   ]
  },
  {
   "cell_type": "code",
   "execution_count": 16,
   "metadata": {},
   "outputs": [
    {
     "data": {
      "text/html": [
       "<div>\n",
       "<style scoped>\n",
       "    .dataframe tbody tr th:only-of-type {\n",
       "        vertical-align: middle;\n",
       "    }\n",
       "\n",
       "    .dataframe tbody tr th {\n",
       "        vertical-align: top;\n",
       "    }\n",
       "\n",
       "    .dataframe thead th {\n",
       "        text-align: right;\n",
       "    }\n",
       "</style>\n",
       "<table border=\"1\" class=\"dataframe\">\n",
       "  <thead>\n",
       "    <tr style=\"text-align: right;\">\n",
       "      <th></th>\n",
       "      <th>country_code</th>\n",
       "      <th>raised_amount_usd</th>\n",
       "    </tr>\n",
       "  </thead>\n",
       "  <tbody>\n",
       "    <tr>\n",
       "      <th>100</th>\n",
       "      <td>usa</td>\n",
       "      <td>422,510,842,796.0000</td>\n",
       "    </tr>\n",
       "    <tr>\n",
       "      <th>16</th>\n",
       "      <td>chn</td>\n",
       "      <td>39,835,418,773.0000</td>\n",
       "    </tr>\n",
       "    <tr>\n",
       "      <th>31</th>\n",
       "      <td>gbr</td>\n",
       "      <td>20,245,627,416.0000</td>\n",
       "    </tr>\n",
       "    <tr>\n",
       "      <th>41</th>\n",
       "      <td>ind</td>\n",
       "      <td>14,391,858,718.0000</td>\n",
       "    </tr>\n",
       "    <tr>\n",
       "      <th>13</th>\n",
       "      <td>can</td>\n",
       "      <td>9,583,332,317.0000</td>\n",
       "    </tr>\n",
       "    <tr>\n",
       "      <th>30</th>\n",
       "      <td>fra</td>\n",
       "      <td>7,259,536,732.0000</td>\n",
       "    </tr>\n",
       "    <tr>\n",
       "      <th>44</th>\n",
       "      <td>isr</td>\n",
       "      <td>6,907,514,579.0000</td>\n",
       "    </tr>\n",
       "    <tr>\n",
       "      <th>23</th>\n",
       "      <td>deu</td>\n",
       "      <td>6,346,959,822.0000</td>\n",
       "    </tr>\n",
       "    <tr>\n",
       "      <th>47</th>\n",
       "      <td>jpn</td>\n",
       "      <td>3,363,676,611.0000</td>\n",
       "    </tr>\n",
       "  </tbody>\n",
       "</table>\n",
       "</div>"
      ],
      "text/plain": [
       "    country_code    raised_amount_usd\n",
       "100          usa 422,510,842,796.0000\n",
       "16           chn  39,835,418,773.0000\n",
       "31           gbr  20,245,627,416.0000\n",
       "41           ind  14,391,858,718.0000\n",
       "13           can   9,583,332,317.0000\n",
       "30           fra   7,259,536,732.0000\n",
       "44           isr   6,907,514,579.0000\n",
       "23           deu   6,346,959,822.0000\n",
       "47           jpn   3,363,676,611.0000"
      ]
     },
     "execution_count": 16,
     "metadata": {},
     "output_type": "execute_result"
    }
   ],
   "source": [
    "df_countries_top9"
   ]
  },
  {
   "cell_type": "code",
   "execution_count": 17,
   "metadata": {},
   "outputs": [
    {
     "name": "stdout",
     "output_type": "stream",
     "text": [
      "['usa', 'chn', 'gbr', 'ind', 'can', 'fra', 'isr', 'deu', 'jpn']\n"
     ]
    }
   ],
   "source": [
    "#Create a list of top9 countries from the data frame. This is needed to identify the english speaking countries using web scrapping\n",
    "lst_top9 = df_countries_top9['country_code'].tolist()\n",
    "print (lst_top9)"
   ]
  },
  {
   "cell_type": "markdown",
   "metadata": {},
   "source": [
    "#### Identify the top 3  english speaking countries using webscrapping "
   ]
  },
  {
   "cell_type": "code",
   "execution_count": 18,
   "metadata": {},
   "outputs": [
    {
     "name": "stdout",
     "output_type": "stream",
     "text": [
      "['USA', 'GBR', 'IND']\n"
     ]
    }
   ],
   "source": [
    "#webscappring the wikipedia link to identify the top 3 english speaking countries\n",
    "import requests \n",
    "from bs4 import BeautifulSoup \n",
    "  \n",
    "wiki_URL = web_scrapping\n",
    "content_wiki = requests.get(wiki_URL) \n",
    "  \n",
    "bs = BeautifulSoup(content_wiki.content, 'html5lib') \n",
    "all_tables = bs.find_all('table',{'class': 'wikitable sortable'})\n",
    "lst_top3 = []\n",
    "for tbls in all_tables:\n",
    "    tds = tbls.findAll('td')\n",
    "    for i in range(len(lst_top9)):\n",
    "        for td in tds:\n",
    "            if ((td.text.find(lst_top9[i].upper()) > -1) & (len(lst_top3) < 3)):\n",
    "                lst_top3.append(lst_top9[i].upper()) \n",
    "print (lst_top3)\n",
    "                "
   ]
  },
  {
   "cell_type": "markdown",
   "metadata": {},
   "source": [
    "## ``` Top 3 countries for investment are ```\n",
    "- ```` 1-USA ````\n",
    "- ```` 2- GBR ````\n",
    "- ```` 3-India ````\n",
    "- ``` China is not considered since it does not have English as the official language ``` "
   ]
  },
  {
   "cell_type": "markdown",
   "metadata": {},
   "source": [
    "## Checkpoint 4 - Sector Analysis\n",
    "Steps -\n",
    "- Load the mapping .csv into a data frame.\n",
    "- Correct the data in the category_list of the mapping dataframe. there are some junk values such as 'A0nalytics' etc where 0 represents 'na'. this needs to be corrected in the sheet before the merge is done\n",
    "- Add the primary sector column in the master DataFrame and extract the primary sector information from the catergory list by splitting the values and extracting the first value.\n",
    "- Create the Sector information as a column in the master frame by using the mapping sheet"
   ]
  },
  {
   "cell_type": "code",
   "execution_count": 19,
   "metadata": {},
   "outputs": [],
   "source": [
    "#Load the Mapping csv to DF\n",
    "df_mapping_raw = pd.read_csv(\"mapping.csv\",encoding='ISO-8859-1')"
   ]
  },
  {
   "cell_type": "code",
   "execution_count": 20,
   "metadata": {},
   "outputs": [],
   "source": [
    "# Since there are some junk values such as 'A0lytics' etc in the mapping sheet , this has been corrected to the correct format in the subsequent steps\n",
    "df_mapping_raw.category_list = df_mapping_raw.category_list.apply(lambda x: str(x).replace(\"0\",\"na\"))"
   ]
  },
  {
   "cell_type": "code",
   "execution_count": 21,
   "metadata": {},
   "outputs": [],
   "source": [
    "#Extract the primary sector values and add as a column\n",
    "master_df['Primary_sector'] = master_df.category_list.str.split('|',expand=True)[0]"
   ]
  },
  {
   "cell_type": "code",
   "execution_count": 22,
   "metadata": {},
   "outputs": [],
   "source": [
    "#Create a new dataframe and use melt function to refomat the mapping dataframe in the usable form\n",
    "df_mapping_transposed = pd.melt(df_mapping_raw, id_vars=['category_list'],var_name=\"main_sector\", value_name='value')"
   ]
  },
  {
   "cell_type": "code",
   "execution_count": 23,
   "metadata": {},
   "outputs": [],
   "source": [
    "### create the new dataframe which only holds the mainsector(8 sectors) for each category_list \n",
    "df_mapping = df_mapping_transposed.loc[(df_mapping_transposed['value'] == 1),['category_list' ,'main_sector']]\n",
    "# convert the category_list to lower case since the 'primary sector' is in lower\n",
    "df_mapping = df_mapping.applymap(lambda x:x.lower() if type(x) == str else x)"
   ]
  },
  {
   "cell_type": "code",
   "execution_count": 24,
   "metadata": {},
   "outputs": [],
   "source": [
    "## Add a new column in the master dataframe to include the 'main sector' (one of the 8 sectors listed in the mappings csv)\n",
    "## This column will only hold the main sector for the 'Primary sector' value for each company\n",
    "master_df = pd.merge(master_df, df_mapping, how='left', left_on='Primary_sector' ,right_on='category_list' )"
   ]
  },
  {
   "cell_type": "markdown",
   "metadata": {},
   "source": []
  },
  {
   "cell_type": "code",
   "execution_count": null,
   "metadata": {},
   "outputs": [],
   "source": []
  },
  {
   "cell_type": "markdown",
   "metadata": {},
   "source": [
    "## Checkpoint 5 - Sector Analysis-2\n",
    "#### Main sector analysis\n"
   ]
  },
  {
   "cell_type": "code",
   "execution_count": 25,
   "metadata": {},
   "outputs": [],
   "source": [
    "### Create 3 dataframes to hold the relevant data for each country - c1,c2,c3 top 3 english speaking country\n",
    "### Hold records where investment is between 5 and 15 million\n",
    "## funding_type.iloc[0,0] holds the appropriate funding value from the above sections\n",
    "df_d1 = master_df.loc[(master_df['country_code'] == lst_top3[0].lower()) \\\n",
    "                & (master_df['funding_round_type'] == funding_type.iloc[0,0]) \\\n",
    "                & (master_df['raised_amount_usd'] > lower_limit_funding) \\\n",
    "                & (master_df['raised_amount_usd'] < upper_limit_funding)]\n",
    "\n",
    "df_d2 = master_df.loc[(master_df['country_code'] == lst_top3[1].lower()) \\\n",
    "                & (master_df['funding_round_type'] == funding_type.iloc[0,0]) \\\n",
    "                & (master_df['raised_amount_usd'] > lower_limit_funding) \\\n",
    "                & (master_df['raised_amount_usd'] < upper_limit_funding)]\n",
    "\n",
    "df_d3 = master_df.loc[(master_df['country_code'] == lst_top3[2].lower())  \\\n",
    "                & (master_df['funding_round_type'] == funding_type.iloc[0,0]) \\\n",
    "                & (master_df['raised_amount_usd'] > lower_limit_funding) \\\n",
    "                & (master_df['raised_amount_usd'] < upper_limit_funding)]\n"
   ]
  },
  {
   "cell_type": "code",
   "execution_count": null,
   "metadata": {},
   "outputs": [],
   "source": []
  },
  {
   "cell_type": "markdown",
   "metadata": {},
   "source": [
    "#### Get the count of investments for each of the 8 main sector for each of the 3 countries"
   ]
  },
  {
   "cell_type": "code",
   "execution_count": 26,
   "metadata": {},
   "outputs": [
    {
     "data": {
      "text/html": [
       "<div>\n",
       "<style scoped>\n",
       "    .dataframe tbody tr th:only-of-type {\n",
       "        vertical-align: middle;\n",
       "    }\n",
       "\n",
       "    .dataframe tbody tr th {\n",
       "        vertical-align: top;\n",
       "    }\n",
       "\n",
       "    .dataframe thead th {\n",
       "        text-align: right;\n",
       "    }\n",
       "</style>\n",
       "<table border=\"1\" class=\"dataframe\">\n",
       "  <thead>\n",
       "    <tr style=\"text-align: right;\">\n",
       "      <th></th>\n",
       "      <th>raised_amount_usd</th>\n",
       "      <th>Main_Sector</th>\n",
       "      <th>CountOfInvestments</th>\n",
       "    </tr>\n",
       "    <tr>\n",
       "      <th>main_sector</th>\n",
       "      <th></th>\n",
       "      <th></th>\n",
       "      <th></th>\n",
       "    </tr>\n",
       "  </thead>\n",
       "  <tbody>\n",
       "    <tr>\n",
       "      <th>others</th>\n",
       "      <td>21,736,007,002.0000</td>\n",
       "      <td>others</td>\n",
       "      <td>2423</td>\n",
       "    </tr>\n",
       "    <tr>\n",
       "      <th>social, finance, analytics, advertising</th>\n",
       "      <td>19,397,376,964.0000</td>\n",
       "      <td>social, finance, analytics, advertising</td>\n",
       "      <td>2216</td>\n",
       "    </tr>\n",
       "    <tr>\n",
       "      <th>cleantech / semiconductors</th>\n",
       "      <td>18,148,430,822.0000</td>\n",
       "      <td>cleantech / semiconductors</td>\n",
       "      <td>1991</td>\n",
       "    </tr>\n",
       "    <tr>\n",
       "      <th>news, search and messaging</th>\n",
       "      <td>11,231,567,428.0000</td>\n",
       "      <td>news, search and messaging</td>\n",
       "      <td>1281</td>\n",
       "    </tr>\n",
       "    <tr>\n",
       "      <th>health</th>\n",
       "      <td>6,866,859,357.0000</td>\n",
       "      <td>health</td>\n",
       "      <td>760</td>\n",
       "    </tr>\n",
       "    <tr>\n",
       "      <th>manufacturing</th>\n",
       "      <td>6,228,553,378.0000</td>\n",
       "      <td>manufacturing</td>\n",
       "      <td>691</td>\n",
       "    </tr>\n",
       "    <tr>\n",
       "      <th>entertainment</th>\n",
       "      <td>4,119,197,982.0000</td>\n",
       "      <td>entertainment</td>\n",
       "      <td>479</td>\n",
       "    </tr>\n",
       "    <tr>\n",
       "      <th>automotive &amp; sports</th>\n",
       "      <td>1,269,104,361.0000</td>\n",
       "      <td>automotive &amp; sports</td>\n",
       "      <td>142</td>\n",
       "    </tr>\n",
       "  </tbody>\n",
       "</table>\n",
       "</div>"
      ],
      "text/plain": [
       "                                          raised_amount_usd  \\\n",
       "main_sector                                                   \n",
       "others                                  21,736,007,002.0000   \n",
       "social, finance, analytics, advertising 19,397,376,964.0000   \n",
       "cleantech / semiconductors              18,148,430,822.0000   \n",
       "news, search and messaging              11,231,567,428.0000   \n",
       "health                                   6,866,859,357.0000   \n",
       "manufacturing                            6,228,553,378.0000   \n",
       "entertainment                            4,119,197,982.0000   \n",
       "automotive & sports                      1,269,104,361.0000   \n",
       "\n",
       "                                                                     Main_Sector  \\\n",
       "main_sector                                                                        \n",
       "others                                                                    others   \n",
       "social, finance, analytics, advertising  social, finance, analytics, advertising   \n",
       "cleantech / semiconductors                            cleantech / semiconductors   \n",
       "news, search and messaging                            news, search and messaging   \n",
       "health                                                                    health   \n",
       "manufacturing                                                      manufacturing   \n",
       "entertainment                                                      entertainment   \n",
       "automotive & sports                                          automotive & sports   \n",
       "\n",
       "                                         CountOfInvestments  \n",
       "main_sector                                                  \n",
       "others                                                 2423  \n",
       "social, finance, analytics, advertising                2216  \n",
       "cleantech / semiconductors                             1991  \n",
       "news, search and messaging                             1281  \n",
       "health                                                  760  \n",
       "manufacturing                                           691  \n",
       "entertainment                                           479  \n",
       "automotive & sports                                     142  "
      ]
     },
     "execution_count": 26,
     "metadata": {},
     "output_type": "execute_result"
    }
   ],
   "source": [
    "#Identify top sectors in country-1\n",
    "#df_c1_mainsector will contain the information on the count and amount of funding for each country. The data is filtered based on the funding type of Venture and range between 5 and 15 MUSD\n",
    "df_c1_mainsector = df_d1.groupby('main_sector',as_index=False).sum()\n",
    "df_c1_mainsector[\"Main_Sector\"] = df_c1_mainsector[\"main_sector\"]\n",
    "df_c1_mainsector.set_index('main_sector',inplace=True)\n",
    "df_c1_mainsector['CountOfInvestments'] = df_d1.groupby('main_sector').raised_amount_usd.count()\n",
    "lst_c1_top3sectors = df_c1_mainsector.sort_values('CountOfInvestments', ascending=False)[\"Main_Sector\"].tolist()\n",
    "df_c1_mainsector.sort_values('CountOfInvestments', ascending=False)"
   ]
  },
  {
   "cell_type": "code",
   "execution_count": 27,
   "metadata": {},
   "outputs": [
    {
     "name": "stdout",
     "output_type": "stream",
     "text": [
      "['others', 'social, finance, analytics, advertising', 'cleantech / semiconductors', 'news, search and messaging', 'health', 'manufacturing', 'entertainment', 'automotive & sports']\n"
     ]
    }
   ],
   "source": [
    "#lst_c1_top3sectors will be used for plotting as the sectors will not be hardcoded\n",
    "print (lst_c1_top3sectors)"
   ]
  },
  {
   "cell_type": "code",
   "execution_count": 28,
   "metadata": {},
   "outputs": [
    {
     "data": {
      "text/plain": [
       "raised_amount_usd                                   88,997,097,294.0000\n",
       "Main_Sector           automotive & sportscleantech / semiconductorse...\n",
       "CountOfInvestments                                                 9983\n",
       "dtype: object"
      ]
     },
     "execution_count": 28,
     "metadata": {},
     "output_type": "execute_result"
    }
   ],
   "source": [
    "# Total investments count and value in Country-1\n",
    "df_c1_mainsector.sum()"
   ]
  },
  {
   "cell_type": "code",
   "execution_count": 29,
   "metadata": {},
   "outputs": [
    {
     "data": {
      "text/html": [
       "<div>\n",
       "<style scoped>\n",
       "    .dataframe tbody tr th:only-of-type {\n",
       "        vertical-align: middle;\n",
       "    }\n",
       "\n",
       "    .dataframe tbody tr th {\n",
       "        vertical-align: top;\n",
       "    }\n",
       "\n",
       "    .dataframe thead th {\n",
       "        text-align: right;\n",
       "    }\n",
       "</style>\n",
       "<table border=\"1\" class=\"dataframe\">\n",
       "  <thead>\n",
       "    <tr style=\"text-align: right;\">\n",
       "      <th></th>\n",
       "      <th>raised_amount_usd</th>\n",
       "      <th>Main_Sector</th>\n",
       "      <th>CountOfInvestments</th>\n",
       "    </tr>\n",
       "    <tr>\n",
       "      <th>main_sector</th>\n",
       "      <th></th>\n",
       "      <th></th>\n",
       "      <th></th>\n",
       "    </tr>\n",
       "  </thead>\n",
       "  <tbody>\n",
       "    <tr>\n",
       "      <th>others</th>\n",
       "      <td>1,123,624,289.0000</td>\n",
       "      <td>others</td>\n",
       "      <td>129</td>\n",
       "    </tr>\n",
       "    <tr>\n",
       "      <th>cleantech / semiconductors</th>\n",
       "      <td>1,123,990,056.0000</td>\n",
       "      <td>cleantech / semiconductors</td>\n",
       "      <td>126</td>\n",
       "    </tr>\n",
       "    <tr>\n",
       "      <th>social, finance, analytics, advertising</th>\n",
       "      <td>974,404,014.0000</td>\n",
       "      <td>social, finance, analytics, advertising</td>\n",
       "      <td>118</td>\n",
       "    </tr>\n",
       "    <tr>\n",
       "      <th>news, search and messaging</th>\n",
       "      <td>565,746,235.0000</td>\n",
       "      <td>news, search and messaging</td>\n",
       "      <td>65</td>\n",
       "    </tr>\n",
       "    <tr>\n",
       "      <th>entertainment</th>\n",
       "      <td>422,784,687.0000</td>\n",
       "      <td>entertainment</td>\n",
       "      <td>48</td>\n",
       "    </tr>\n",
       "    <tr>\n",
       "      <th>manufacturing</th>\n",
       "      <td>331,940,335.0000</td>\n",
       "      <td>manufacturing</td>\n",
       "      <td>38</td>\n",
       "    </tr>\n",
       "    <tr>\n",
       "      <th>health</th>\n",
       "      <td>209,537,510.0000</td>\n",
       "      <td>health</td>\n",
       "      <td>23</td>\n",
       "    </tr>\n",
       "    <tr>\n",
       "      <th>automotive &amp; sports</th>\n",
       "      <td>137,051,565.0000</td>\n",
       "      <td>automotive &amp; sports</td>\n",
       "      <td>14</td>\n",
       "    </tr>\n",
       "  </tbody>\n",
       "</table>\n",
       "</div>"
      ],
      "text/plain": [
       "                                         raised_amount_usd  \\\n",
       "main_sector                                                  \n",
       "others                                  1,123,624,289.0000   \n",
       "cleantech / semiconductors              1,123,990,056.0000   \n",
       "social, finance, analytics, advertising   974,404,014.0000   \n",
       "news, search and messaging                565,746,235.0000   \n",
       "entertainment                             422,784,687.0000   \n",
       "manufacturing                             331,940,335.0000   \n",
       "health                                    209,537,510.0000   \n",
       "automotive & sports                       137,051,565.0000   \n",
       "\n",
       "                                                                     Main_Sector  \\\n",
       "main_sector                                                                        \n",
       "others                                                                    others   \n",
       "cleantech / semiconductors                            cleantech / semiconductors   \n",
       "social, finance, analytics, advertising  social, finance, analytics, advertising   \n",
       "news, search and messaging                            news, search and messaging   \n",
       "entertainment                                                      entertainment   \n",
       "manufacturing                                                      manufacturing   \n",
       "health                                                                    health   \n",
       "automotive & sports                                          automotive & sports   \n",
       "\n",
       "                                         CountOfInvestments  \n",
       "main_sector                                                  \n",
       "others                                                  129  \n",
       "cleantech / semiconductors                              126  \n",
       "social, finance, analytics, advertising                 118  \n",
       "news, search and messaging                               65  \n",
       "entertainment                                            48  \n",
       "manufacturing                                            38  \n",
       "health                                                   23  \n",
       "automotive & sports                                      14  "
      ]
     },
     "execution_count": 29,
     "metadata": {},
     "output_type": "execute_result"
    }
   ],
   "source": [
    "#Identify top sectors in country-2\n",
    "#df_c2_mainsector will contain the information on the count and amount of funding for each country. The data is filtered based on the funding type of Venture and range between 5 and 15 MUSD\n",
    "df_c2_mainsector = df_d2.groupby('main_sector',as_index=False).sum()\n",
    "df_c2_mainsector[\"Main_Sector\"] = df_c2_mainsector[\"main_sector\"]\n",
    "df_c2_mainsector.set_index('main_sector',inplace=True)\n",
    "df_c2_mainsector['CountOfInvestments'] = df_d2.groupby('main_sector').raised_amount_usd.count()\n",
    "lst_c2_top3sectors = df_c2_mainsector.sort_values('CountOfInvestments', ascending=False)[\"Main_Sector\"].tolist()\n",
    "df_c2_mainsector.sort_values('CountOfInvestments', ascending=False)"
   ]
  },
  {
   "cell_type": "code",
   "execution_count": 30,
   "metadata": {},
   "outputs": [
    {
     "name": "stdout",
     "output_type": "stream",
     "text": [
      "['others', 'cleantech / semiconductors', 'social, finance, analytics, advertising', 'news, search and messaging', 'entertainment', 'manufacturing', 'health', 'automotive & sports']\n"
     ]
    }
   ],
   "source": [
    "#lst_c2_top3sectors will be used for plotting as the sectors will not be hardcoded. This is an ordered list\n",
    "print (lst_c2_top3sectors)"
   ]
  },
  {
   "cell_type": "code",
   "execution_count": 31,
   "metadata": {},
   "outputs": [
    {
     "data": {
      "text/plain": [
       "raised_amount_usd                                    4,889,078,691.0000\n",
       "Main_Sector           automotive & sportscleantech / semiconductorse...\n",
       "CountOfInvestments                                                  561\n",
       "dtype: object"
      ]
     },
     "execution_count": 31,
     "metadata": {},
     "output_type": "execute_result"
    }
   ],
   "source": [
    "# Total investments count and value in country-2\n",
    "df_c2_mainsector.sum()"
   ]
  },
  {
   "cell_type": "code",
   "execution_count": 32,
   "metadata": {},
   "outputs": [
    {
     "data": {
      "text/html": [
       "<div>\n",
       "<style scoped>\n",
       "    .dataframe tbody tr th:only-of-type {\n",
       "        vertical-align: middle;\n",
       "    }\n",
       "\n",
       "    .dataframe tbody tr th {\n",
       "        vertical-align: top;\n",
       "    }\n",
       "\n",
       "    .dataframe thead th {\n",
       "        text-align: right;\n",
       "    }\n",
       "</style>\n",
       "<table border=\"1\" class=\"dataframe\">\n",
       "  <thead>\n",
       "    <tr style=\"text-align: right;\">\n",
       "      <th></th>\n",
       "      <th>raised_amount_usd</th>\n",
       "      <th>Main_Sector</th>\n",
       "      <th>CountOfInvestments</th>\n",
       "    </tr>\n",
       "    <tr>\n",
       "      <th>main_sector</th>\n",
       "      <th></th>\n",
       "      <th></th>\n",
       "      <th></th>\n",
       "    </tr>\n",
       "  </thead>\n",
       "  <tbody>\n",
       "    <tr>\n",
       "      <th>others</th>\n",
       "      <td>703,409,507.0000</td>\n",
       "      <td>others</td>\n",
       "      <td>78</td>\n",
       "    </tr>\n",
       "    <tr>\n",
       "      <th>social, finance, analytics, advertising</th>\n",
       "      <td>385,549,550.0000</td>\n",
       "      <td>social, finance, analytics, advertising</td>\n",
       "      <td>45</td>\n",
       "    </tr>\n",
       "    <tr>\n",
       "      <th>news, search and messaging</th>\n",
       "      <td>368,834,545.0000</td>\n",
       "      <td>news, search and messaging</td>\n",
       "      <td>41</td>\n",
       "    </tr>\n",
       "    <tr>\n",
       "      <th>entertainment</th>\n",
       "      <td>200,830,000.0000</td>\n",
       "      <td>entertainment</td>\n",
       "      <td>23</td>\n",
       "    </tr>\n",
       "    <tr>\n",
       "      <th>manufacturing</th>\n",
       "      <td>165,900,000.0000</td>\n",
       "      <td>manufacturing</td>\n",
       "      <td>18</td>\n",
       "    </tr>\n",
       "    <tr>\n",
       "      <th>health</th>\n",
       "      <td>157,740,000.0000</td>\n",
       "      <td>health</td>\n",
       "      <td>17</td>\n",
       "    </tr>\n",
       "    <tr>\n",
       "      <th>cleantech / semiconductors</th>\n",
       "      <td>125,380,000.0000</td>\n",
       "      <td>cleantech / semiconductors</td>\n",
       "      <td>14</td>\n",
       "    </tr>\n",
       "    <tr>\n",
       "      <th>automotive &amp; sports</th>\n",
       "      <td>66,900,000.0000</td>\n",
       "      <td>automotive &amp; sports</td>\n",
       "      <td>7</td>\n",
       "    </tr>\n",
       "  </tbody>\n",
       "</table>\n",
       "</div>"
      ],
      "text/plain": [
       "                                         raised_amount_usd  \\\n",
       "main_sector                                                  \n",
       "others                                    703,409,507.0000   \n",
       "social, finance, analytics, advertising   385,549,550.0000   \n",
       "news, search and messaging                368,834,545.0000   \n",
       "entertainment                             200,830,000.0000   \n",
       "manufacturing                             165,900,000.0000   \n",
       "health                                    157,740,000.0000   \n",
       "cleantech / semiconductors                125,380,000.0000   \n",
       "automotive & sports                        66,900,000.0000   \n",
       "\n",
       "                                                                     Main_Sector  \\\n",
       "main_sector                                                                        \n",
       "others                                                                    others   \n",
       "social, finance, analytics, advertising  social, finance, analytics, advertising   \n",
       "news, search and messaging                            news, search and messaging   \n",
       "entertainment                                                      entertainment   \n",
       "manufacturing                                                      manufacturing   \n",
       "health                                                                    health   \n",
       "cleantech / semiconductors                            cleantech / semiconductors   \n",
       "automotive & sports                                          automotive & sports   \n",
       "\n",
       "                                         CountOfInvestments  \n",
       "main_sector                                                  \n",
       "others                                                   78  \n",
       "social, finance, analytics, advertising                  45  \n",
       "news, search and messaging                               41  \n",
       "entertainment                                            23  \n",
       "manufacturing                                            18  \n",
       "health                                                   17  \n",
       "cleantech / semiconductors                               14  \n",
       "automotive & sports                                       7  "
      ]
     },
     "execution_count": 32,
     "metadata": {},
     "output_type": "execute_result"
    }
   ],
   "source": [
    "#Identify top sectors in country 3\n",
    "#df_c3_mainsector will contain the information on the count and amount of funding for each country. The data is filtered based on the funding type of Venture and range between 5 and 15 MUSD\n",
    "df_c3_mainsector = df_d3.groupby('main_sector',as_index=False).sum()\n",
    "df_c3_mainsector[\"Main_Sector\"] = df_c3_mainsector[\"main_sector\"]\n",
    "df_c3_mainsector.set_index('main_sector',inplace=True)\n",
    "df_c3_mainsector['CountOfInvestments'] = df_d3.groupby('main_sector').raised_amount_usd.count()\n",
    "lst_c3_top3sectors = df_c3_mainsector.sort_values('CountOfInvestments', ascending=False)[\"Main_Sector\"].tolist()\n",
    "df_c3_mainsector.sort_values('CountOfInvestments', ascending=False)"
   ]
  },
  {
   "cell_type": "code",
   "execution_count": 33,
   "metadata": {},
   "outputs": [
    {
     "name": "stdout",
     "output_type": "stream",
     "text": [
      "['others', 'social, finance, analytics, advertising', 'news, search and messaging', 'entertainment', 'manufacturing', 'health', 'cleantech / semiconductors', 'automotive & sports']\n"
     ]
    }
   ],
   "source": [
    "#lst_c3_top3sectors will be used for plotting as the sectors will not be hardcoded. This is an ordered list\n",
    "print (lst_c3_top3sectors)"
   ]
  },
  {
   "cell_type": "code",
   "execution_count": 34,
   "metadata": {},
   "outputs": [
    {
     "data": {
      "text/plain": [
       "raised_amount_usd                                    2,174,543,602.0000\n",
       "Main_Sector           automotive & sportscleantech / semiconductorse...\n",
       "CountOfInvestments                                                  243\n",
       "dtype: object"
      ]
     },
     "execution_count": 34,
     "metadata": {},
     "output_type": "execute_result"
    }
   ],
   "source": [
    "# Total investments count and value in country 3\n",
    "df_c3_mainsector.sum()"
   ]
  },
  {
   "cell_type": "markdown",
   "metadata": {},
   "source": [
    "### ```` Sector Analysis in the top 3 countries ````\n",
    "- ```` Top 3 sectors in USA - 1-others ,2-social, finance, analytics, advertising, 3-cleantech / semiconductors ````\n",
    "- ```` Top 3 sectors in GBR - 1-others ,2-cleantech / semiconductors, 3-social, finance, analytics, advertising ````\n",
    "- ```` Top 3 sectors in IND - 1-others ,2-social, finance, analytics, advertising ,3-news, search and messaging ````"
   ]
  },
  {
   "cell_type": "markdown",
   "metadata": {},
   "source": [
    "#### Identify the top companies in the top 3 sectors across the top 3 english speaking companies"
   ]
  },
  {
   "cell_type": "code",
   "execution_count": 35,
   "metadata": {},
   "outputs": [
    {
     "data": {
      "text/html": [
       "<div>\n",
       "<style scoped>\n",
       "    .dataframe tbody tr th:only-of-type {\n",
       "        vertical-align: middle;\n",
       "    }\n",
       "\n",
       "    .dataframe tbody tr th {\n",
       "        vertical-align: top;\n",
       "    }\n",
       "\n",
       "    .dataframe thead th {\n",
       "        text-align: right;\n",
       "    }\n",
       "</style>\n",
       "<table border=\"1\" class=\"dataframe\">\n",
       "  <thead>\n",
       "    <tr style=\"text-align: right;\">\n",
       "      <th></th>\n",
       "      <th></th>\n",
       "      <th></th>\n",
       "      <th>raised_amount_usd</th>\n",
       "    </tr>\n",
       "    <tr>\n",
       "      <th>country_code</th>\n",
       "      <th>company_permalink</th>\n",
       "      <th>main_sector</th>\n",
       "      <th></th>\n",
       "    </tr>\n",
       "  </thead>\n",
       "  <tbody>\n",
       "    <tr>\n",
       "      <th rowspan=\"10\" valign=\"top\">usa</th>\n",
       "      <th>/organization/freescale</th>\n",
       "      <th>cleantech / semiconductors</th>\n",
       "      <td>17,600,000,000.0000</td>\n",
       "    </tr>\n",
       "    <tr>\n",
       "      <th>/organization/mediavast</th>\n",
       "      <th>social, finance, analytics, advertising</th>\n",
       "      <td>4,715,000,000.0000</td>\n",
       "    </tr>\n",
       "    <tr>\n",
       "      <th>/organization/social-finance</th>\n",
       "      <th>others</th>\n",
       "      <td>1,365,199,900.0000</td>\n",
       "    </tr>\n",
       "    <tr>\n",
       "      <th>/organization/snapchat</th>\n",
       "      <th>others</th>\n",
       "      <td>1,165,100,000.0000</td>\n",
       "    </tr>\n",
       "    <tr>\n",
       "      <th>/organization/juno-therapeutics</th>\n",
       "      <th>cleantech / semiconductors</th>\n",
       "      <td>1,159,803,496.0000</td>\n",
       "    </tr>\n",
       "    <tr>\n",
       "      <th>/organization/groupon</th>\n",
       "      <th>social, finance, analytics, advertising</th>\n",
       "      <td>1,136,000,000.0000</td>\n",
       "    </tr>\n",
       "    <tr>\n",
       "      <th>/organization/cloudera</th>\n",
       "      <th>social, finance, analytics, advertising</th>\n",
       "      <td>1,041,000,000.0000</td>\n",
       "    </tr>\n",
       "    <tr>\n",
       "      <th>/organization/wework</th>\n",
       "      <th>social, finance, analytics, advertising</th>\n",
       "      <td>995,934,331.0000</td>\n",
       "    </tr>\n",
       "    <tr>\n",
       "      <th>/organization/zynga</th>\n",
       "      <th>social, finance, analytics, advertising</th>\n",
       "      <td>866,550,786.0000</td>\n",
       "    </tr>\n",
       "    <tr>\n",
       "      <th>/organization/livingsocial</th>\n",
       "      <th>others</th>\n",
       "      <td>818,225,039.0000</td>\n",
       "    </tr>\n",
       "  </tbody>\n",
       "</table>\n",
       "</div>"
      ],
      "text/plain": [
       "                                                                                       raised_amount_usd\n",
       "country_code company_permalink               main_sector                                                \n",
       "usa          /organization/freescale         cleantech / semiconductors              17,600,000,000.0000\n",
       "             /organization/mediavast         social, finance, analytics, advertising  4,715,000,000.0000\n",
       "             /organization/social-finance    others                                   1,365,199,900.0000\n",
       "             /organization/snapchat          others                                   1,165,100,000.0000\n",
       "             /organization/juno-therapeutics cleantech / semiconductors               1,159,803,496.0000\n",
       "             /organization/groupon           social, finance, analytics, advertising  1,136,000,000.0000\n",
       "             /organization/cloudera          social, finance, analytics, advertising  1,041,000,000.0000\n",
       "             /organization/wework            social, finance, analytics, advertising    995,934,331.0000\n",
       "             /organization/zynga             social, finance, analytics, advertising    866,550,786.0000\n",
       "             /organization/livingsocial      others                                     818,225,039.0000"
      ]
     },
     "execution_count": 35,
     "metadata": {},
     "output_type": "execute_result"
    }
   ],
   "source": [
    "#Country 1 \n",
    "#lst_top3[0].lower() holds the country -1\n",
    "#funding_type.iloc[0,0] holds the funding type\n",
    "master_df.loc[(master_df['country_code'] == lst_top3[0].lower()) \\\n",
    "              & ((master_df['main_sector'] == lst_c1_top3sectors[0]) \\\n",
    "                 | (master_df['main_sector'] == lst_c1_top3sectors[1]) \\\n",
    "                 | (master_df['main_sector'] == lst_c1_top3sectors[2])) \\\n",
    "              & (master_df['funding_round_type'] == funding_type.iloc[0,0])] \\\n",
    ".groupby(['country_code','company_permalink','main_sector']).sum().sort_values('raised_amount_usd' ,ascending=False).head(10)"
   ]
  },
  {
   "cell_type": "code",
   "execution_count": 36,
   "metadata": {},
   "outputs": [
    {
     "data": {
      "text/html": [
       "<div>\n",
       "<style scoped>\n",
       "    .dataframe tbody tr th:only-of-type {\n",
       "        vertical-align: middle;\n",
       "    }\n",
       "\n",
       "    .dataframe tbody tr th {\n",
       "        vertical-align: top;\n",
       "    }\n",
       "\n",
       "    .dataframe thead th {\n",
       "        text-align: right;\n",
       "    }\n",
       "</style>\n",
       "<table border=\"1\" class=\"dataframe\">\n",
       "  <thead>\n",
       "    <tr style=\"text-align: right;\">\n",
       "      <th></th>\n",
       "      <th></th>\n",
       "      <th></th>\n",
       "      <th>raised_amount_usd</th>\n",
       "    </tr>\n",
       "    <tr>\n",
       "      <th>country_code</th>\n",
       "      <th>company_permalink</th>\n",
       "      <th>main_sector</th>\n",
       "      <th></th>\n",
       "    </tr>\n",
       "  </thead>\n",
       "  <tbody>\n",
       "    <tr>\n",
       "      <th rowspan=\"10\" valign=\"top\">gbr</th>\n",
       "      <th>/organization/oneweb</th>\n",
       "      <th>others</th>\n",
       "      <td>500,000,000.0000</td>\n",
       "    </tr>\n",
       "    <tr>\n",
       "      <th>/organization/immunocore</th>\n",
       "      <th>cleantech / semiconductors</th>\n",
       "      <td>320,000,000.0000</td>\n",
       "    </tr>\n",
       "    <tr>\n",
       "      <th>/organization/farfetch</th>\n",
       "      <th>others</th>\n",
       "      <td>194,500,000.0000</td>\n",
       "    </tr>\n",
       "    <tr>\n",
       "      <th>/organization/powa-technologies</th>\n",
       "      <th>social, finance, analytics, advertising</th>\n",
       "      <td>176,700,000.0000</td>\n",
       "    </tr>\n",
       "    <tr>\n",
       "      <th>/organization/borro</th>\n",
       "      <th>social, finance, analytics, advertising</th>\n",
       "      <td>171,572,758.0000</td>\n",
       "    </tr>\n",
       "    <tr>\n",
       "      <th>/organization/reneuron-group</th>\n",
       "      <th>cleantech / semiconductors</th>\n",
       "      <td>150,859,892.0000</td>\n",
       "    </tr>\n",
       "    <tr>\n",
       "      <th>/organization/liquid-telecom</th>\n",
       "      <th>others</th>\n",
       "      <td>150,000,000.0000</td>\n",
       "    </tr>\n",
       "    <tr>\n",
       "      <th>/organization/worldremit</th>\n",
       "      <th>social, finance, analytics, advertising</th>\n",
       "      <td>147,109,000.0000</td>\n",
       "    </tr>\n",
       "    <tr>\n",
       "      <th>/organization/wonga</th>\n",
       "      <th>social, finance, analytics, advertising</th>\n",
       "      <td>145,393,366.0000</td>\n",
       "    </tr>\n",
       "    <tr>\n",
       "      <th>/organization/circassia</th>\n",
       "      <th>cleantech / semiconductors</th>\n",
       "      <td>144,630,999.0000</td>\n",
       "    </tr>\n",
       "  </tbody>\n",
       "</table>\n",
       "</div>"
      ],
      "text/plain": [
       "                                                                                      raised_amount_usd\n",
       "country_code company_permalink               main_sector                                               \n",
       "gbr          /organization/oneweb            others                                    500,000,000.0000\n",
       "             /organization/immunocore        cleantech / semiconductors                320,000,000.0000\n",
       "             /organization/farfetch          others                                    194,500,000.0000\n",
       "             /organization/powa-technologies social, finance, analytics, advertising   176,700,000.0000\n",
       "             /organization/borro             social, finance, analytics, advertising   171,572,758.0000\n",
       "             /organization/reneuron-group    cleantech / semiconductors                150,859,892.0000\n",
       "             /organization/liquid-telecom    others                                    150,000,000.0000\n",
       "             /organization/worldremit        social, finance, analytics, advertising   147,109,000.0000\n",
       "             /organization/wonga             social, finance, analytics, advertising   145,393,366.0000\n",
       "             /organization/circassia         cleantech / semiconductors                144,630,999.0000"
      ]
     },
     "execution_count": 36,
     "metadata": {},
     "output_type": "execute_result"
    }
   ],
   "source": [
    "#Country 2 \n",
    "#lst_top3[1].lower() holds the country -2\n",
    "#funding_type.iloc[0,0] holds the funding type\n",
    "master_df.loc[(master_df['country_code'] == lst_top3[1].lower()) \\\n",
    "              & ((master_df['main_sector'] == lst_c2_top3sectors[0]) \\\n",
    "                 | (master_df['main_sector'] == lst_c2_top3sectors[1]) \\\n",
    "                 | (master_df['main_sector'] == lst_c2_top3sectors[2])) \\\n",
    "              & (master_df['funding_round_type'] == funding_type.iloc[0,0])] \\\n",
    ".groupby(['country_code','company_permalink','main_sector']).sum().sort_values('raised_amount_usd' ,ascending=False).head(10)"
   ]
  },
  {
   "cell_type": "code",
   "execution_count": 37,
   "metadata": {},
   "outputs": [
    {
     "data": {
      "text/html": [
       "<div>\n",
       "<style scoped>\n",
       "    .dataframe tbody tr th:only-of-type {\n",
       "        vertical-align: middle;\n",
       "    }\n",
       "\n",
       "    .dataframe tbody tr th {\n",
       "        vertical-align: top;\n",
       "    }\n",
       "\n",
       "    .dataframe thead th {\n",
       "        text-align: right;\n",
       "    }\n",
       "</style>\n",
       "<table border=\"1\" class=\"dataframe\">\n",
       "  <thead>\n",
       "    <tr style=\"text-align: right;\">\n",
       "      <th></th>\n",
       "      <th></th>\n",
       "      <th></th>\n",
       "      <th>raised_amount_usd</th>\n",
       "    </tr>\n",
       "    <tr>\n",
       "      <th>country_code</th>\n",
       "      <th>company_permalink</th>\n",
       "      <th>main_sector</th>\n",
       "      <th></th>\n",
       "    </tr>\n",
       "  </thead>\n",
       "  <tbody>\n",
       "    <tr>\n",
       "      <th rowspan=\"10\" valign=\"top\">ind</th>\n",
       "      <th>/organization/flipkart</th>\n",
       "      <th>others</th>\n",
       "      <td>2,451,000,000.0000</td>\n",
       "    </tr>\n",
       "    <tr>\n",
       "      <th>/organization/quikr-india</th>\n",
       "      <th>news, search and messaging</th>\n",
       "      <td>346,000,000.0000</td>\n",
       "    </tr>\n",
       "    <tr>\n",
       "      <th>/organization/snapdeal</th>\n",
       "      <th>others</th>\n",
       "      <td>310,699,998.0000</td>\n",
       "    </tr>\n",
       "    <tr>\n",
       "      <th>/organization/tata-teleservices</th>\n",
       "      <th>others</th>\n",
       "      <td>212,000,000.0000</td>\n",
       "    </tr>\n",
       "    <tr>\n",
       "      <th>/organization/myntra</th>\n",
       "      <th>others</th>\n",
       "      <td>158,750,000.0000</td>\n",
       "    </tr>\n",
       "    <tr>\n",
       "      <th>/organization/shopclues-com</th>\n",
       "      <th>social, finance, analytics, advertising</th>\n",
       "      <td>129,000,000.0000</td>\n",
       "    </tr>\n",
       "    <tr>\n",
       "      <th>/organization/pepperfry-com</th>\n",
       "      <th>others</th>\n",
       "      <td>128,000,000.0000</td>\n",
       "    </tr>\n",
       "    <tr>\n",
       "      <th>/organization/delhivery</th>\n",
       "      <th>others</th>\n",
       "      <td>127,500,000.0000</td>\n",
       "    </tr>\n",
       "    <tr>\n",
       "      <th>/organization/oyo-rooms</th>\n",
       "      <th>others</th>\n",
       "      <td>125,000,000.0000</td>\n",
       "    </tr>\n",
       "    <tr>\n",
       "      <th>/organization/freecharge</th>\n",
       "      <th>news, search and messaging</th>\n",
       "      <td>113,000,000.0000</td>\n",
       "    </tr>\n",
       "  </tbody>\n",
       "</table>\n",
       "</div>"
      ],
      "text/plain": [
       "                                                                                      raised_amount_usd\n",
       "country_code company_permalink               main_sector                                               \n",
       "ind          /organization/flipkart          others                                  2,451,000,000.0000\n",
       "             /organization/quikr-india       news, search and messaging                346,000,000.0000\n",
       "             /organization/snapdeal          others                                    310,699,998.0000\n",
       "             /organization/tata-teleservices others                                    212,000,000.0000\n",
       "             /organization/myntra            others                                    158,750,000.0000\n",
       "             /organization/shopclues-com     social, finance, analytics, advertising   129,000,000.0000\n",
       "             /organization/pepperfry-com     others                                    128,000,000.0000\n",
       "             /organization/delhivery         others                                    127,500,000.0000\n",
       "             /organization/oyo-rooms         others                                    125,000,000.0000\n",
       "             /organization/freecharge        news, search and messaging                113,000,000.0000"
      ]
     },
     "execution_count": 37,
     "metadata": {},
     "output_type": "execute_result"
    }
   ],
   "source": [
    "#Country 3 \n",
    "#lst_top3[2].lower() holds the country -3\n",
    "#funding_type.iloc[0,0] holds the funding type\n",
    "master_df.loc[(master_df['country_code'] == lst_top3[2].lower()) \\\n",
    "              & ((master_df['main_sector'] == lst_c3_top3sectors[0]) \\\n",
    "                 | (master_df['main_sector'] == lst_c3_top3sectors[1]) \\\n",
    "                 | (master_df['main_sector'] == lst_c3_top3sectors[2])) \\\n",
    "              & (master_df['funding_round_type'] == funding_type.iloc[0,0])] \\\n",
    ".groupby(['country_code','company_permalink','main_sector']).sum().sort_values('raised_amount_usd' ,ascending=False).head(10)"
   ]
  },
  {
   "cell_type": "code",
   "execution_count": null,
   "metadata": {},
   "outputs": [],
   "source": []
  },
  {
   "cell_type": "markdown",
   "metadata": {},
   "source": [
    "## Checkpoint 6 - Plots\n",
    "- Create the master dataframe which only has investments of the type venture, seed, angel and private equity since only these are considered for analysis. Use this dataframe for the first plot."
   ]
  },
  {
   "cell_type": "code",
   "execution_count": 38,
   "metadata": {},
   "outputs": [],
   "source": [
    "import matplotlib.pyplot as plt\n",
    "\n",
    "# the commonly used alias for seaborn is sns\n",
    "import seaborn as sns\n",
    "\n",
    "# set a seaborn style of your taste\n",
    "sns.set_style(\"whitegrid\")"
   ]
  },
  {
   "cell_type": "markdown",
   "metadata": {},
   "source": [
    "### Plot 1\n",
    "Box plot which shows the funding across the categories - Venture, seed, angel and private equity. The mean in the box plot is the average funding. This  considers all the investments and is ````not```` limited to cases where the funding is between 5 and 15 million USD"
   ]
  },
  {
   "cell_type": "code",
   "execution_count": 39,
   "metadata": {},
   "outputs": [
    {
     "name": "stderr",
     "output_type": "stream",
     "text": [
      "C:\\Tools\\Anaconda3\\lib\\site-packages\\ipykernel_launcher.py:6: SettingWithCopyWarning: \n",
      "A value is trying to be set on a copy of a slice from a DataFrame.\n",
      "Try using .loc[row_indexer,col_indexer] = value instead\n",
      "\n",
      "See the caveats in the documentation: http://pandas.pydata.org/pandas-docs/stable/indexing.html#indexing-view-versus-copy\n",
      "  \n"
     ]
    }
   ],
   "source": [
    "df_master_selectedFundingTypes = master_df.loc[(master_df.funding_round_type == funding_types_considered[0]) \\\n",
    "                                            | (master_df.funding_round_type == funding_types_considered[1]) \\\n",
    "                                            | (master_df.funding_round_type == funding_types_considered[2]) \\\n",
    "                                            | (master_df.funding_round_type == funding_types_considered[3])]\n",
    "#set the value in MUsd\n",
    "df_master_selectedFundingTypes[\"raised_amount_musd\"] = df_master_selectedFundingTypes[\"raised_amount_usd\"] / 1000000 \n"
   ]
  },
  {
   "cell_type": "code",
   "execution_count": 40,
   "metadata": {},
   "outputs": [
    {
     "data": {
      "text/html": [
       "<div>\n",
       "<style scoped>\n",
       "    .dataframe tbody tr th:only-of-type {\n",
       "        vertical-align: middle;\n",
       "    }\n",
       "\n",
       "    .dataframe tbody tr th {\n",
       "        vertical-align: top;\n",
       "    }\n",
       "\n",
       "    .dataframe thead tr th {\n",
       "        text-align: left;\n",
       "    }\n",
       "\n",
       "    .dataframe thead tr:last-of-type th {\n",
       "        text-align: right;\n",
       "    }\n",
       "</style>\n",
       "<table border=\"1\" class=\"dataframe\">\n",
       "  <thead>\n",
       "    <tr>\n",
       "      <th></th>\n",
       "      <th colspan=\"8\" halign=\"left\">raised_amount_usd</th>\n",
       "      <th colspan=\"8\" halign=\"left\">raised_amount_musd</th>\n",
       "    </tr>\n",
       "    <tr>\n",
       "      <th></th>\n",
       "      <th>count</th>\n",
       "      <th>mean</th>\n",
       "      <th>std</th>\n",
       "      <th>min</th>\n",
       "      <th>25%</th>\n",
       "      <th>50%</th>\n",
       "      <th>75%</th>\n",
       "      <th>max</th>\n",
       "      <th>count</th>\n",
       "      <th>mean</th>\n",
       "      <th>std</th>\n",
       "      <th>min</th>\n",
       "      <th>25%</th>\n",
       "      <th>50%</th>\n",
       "      <th>75%</th>\n",
       "      <th>max</th>\n",
       "    </tr>\n",
       "    <tr>\n",
       "      <th>funding_round_type</th>\n",
       "      <th></th>\n",
       "      <th></th>\n",
       "      <th></th>\n",
       "      <th></th>\n",
       "      <th></th>\n",
       "      <th></th>\n",
       "      <th></th>\n",
       "      <th></th>\n",
       "      <th></th>\n",
       "      <th></th>\n",
       "      <th></th>\n",
       "      <th></th>\n",
       "      <th></th>\n",
       "      <th></th>\n",
       "      <th></th>\n",
       "      <th></th>\n",
       "    </tr>\n",
       "  </thead>\n",
       "  <tbody>\n",
       "    <tr>\n",
       "      <th>angel</th>\n",
       "      <td>4,860.0000</td>\n",
       "      <td>958,694.4698</td>\n",
       "      <td>7,404,397.1221</td>\n",
       "      <td>0.0000</td>\n",
       "      <td>150,000.0000</td>\n",
       "      <td>400,000.0000</td>\n",
       "      <td>1,000,000.0000</td>\n",
       "      <td>494,511,992.0000</td>\n",
       "      <td>4,860.0000</td>\n",
       "      <td>0.9587</td>\n",
       "      <td>7.4044</td>\n",
       "      <td>0.0000</td>\n",
       "      <td>0.1500</td>\n",
       "      <td>0.4000</td>\n",
       "      <td>1.0000</td>\n",
       "      <td>494.5120</td>\n",
       "    </tr>\n",
       "    <tr>\n",
       "      <th>private_equity</th>\n",
       "      <td>1,936.0000</td>\n",
       "      <td>73,308,593.0294</td>\n",
       "      <td>198,113,458.4137</td>\n",
       "      <td>0.0000</td>\n",
       "      <td>5,000,000.0000</td>\n",
       "      <td>20,000,000.0000</td>\n",
       "      <td>75,000,000.0000</td>\n",
       "      <td>4,745,460,219.0000</td>\n",
       "      <td>1,936.0000</td>\n",
       "      <td>73.3086</td>\n",
       "      <td>198.1135</td>\n",
       "      <td>0.0000</td>\n",
       "      <td>5.0000</td>\n",
       "      <td>20.0000</td>\n",
       "      <td>75.0000</td>\n",
       "      <td>4,745.4602</td>\n",
       "    </tr>\n",
       "    <tr>\n",
       "      <th>seed</th>\n",
       "      <td>23,602.0000</td>\n",
       "      <td>719,779.6202</td>\n",
       "      <td>2,221,772.0449</td>\n",
       "      <td>0.0000</td>\n",
       "      <td>55,000.0000</td>\n",
       "      <td>275,000.0000</td>\n",
       "      <td>1,000,000.0000</td>\n",
       "      <td>200,000,000.0000</td>\n",
       "      <td>23,602.0000</td>\n",
       "      <td>0.7198</td>\n",
       "      <td>2.2218</td>\n",
       "      <td>0.0000</td>\n",
       "      <td>0.0550</td>\n",
       "      <td>0.2750</td>\n",
       "      <td>1.0000</td>\n",
       "      <td>200.0000</td>\n",
       "    </tr>\n",
       "    <tr>\n",
       "      <th>venture</th>\n",
       "      <td>50,228.0000</td>\n",
       "      <td>11,748,949.1295</td>\n",
       "      <td>86,352,066.5580</td>\n",
       "      <td>0.0000</td>\n",
       "      <td>1,600,901.7500</td>\n",
       "      <td>5,000,000.0000</td>\n",
       "      <td>12,000,000.0000</td>\n",
       "      <td>17,600,000,000.0000</td>\n",
       "      <td>50,228.0000</td>\n",
       "      <td>11.7489</td>\n",
       "      <td>86.3521</td>\n",
       "      <td>0.0000</td>\n",
       "      <td>1.6009</td>\n",
       "      <td>5.0000</td>\n",
       "      <td>12.0000</td>\n",
       "      <td>17,600.0000</td>\n",
       "    </tr>\n",
       "  </tbody>\n",
       "</table>\n",
       "</div>"
      ],
      "text/plain": [
       "                   raised_amount_usd                                          \\\n",
       "                               count            mean              std    min   \n",
       "funding_round_type                                                             \n",
       "angel                     4,860.0000    958,694.4698   7,404,397.1221 0.0000   \n",
       "private_equity            1,936.0000 73,308,593.0294 198,113,458.4137 0.0000   \n",
       "seed                     23,602.0000    719,779.6202   2,221,772.0449 0.0000   \n",
       "venture                  50,228.0000 11,748,949.1295  86,352,066.5580 0.0000   \n",
       "\n",
       "                                                                   \\\n",
       "                              25%             50%             75%   \n",
       "funding_round_type                                                  \n",
       "angel                150,000.0000    400,000.0000  1,000,000.0000   \n",
       "private_equity     5,000,000.0000 20,000,000.0000 75,000,000.0000   \n",
       "seed                  55,000.0000    275,000.0000  1,000,000.0000   \n",
       "venture            1,600,901.7500  5,000,000.0000 12,000,000.0000   \n",
       "\n",
       "                                       raised_amount_musd                   \\\n",
       "                                   max              count    mean      std   \n",
       "funding_round_type                                                           \n",
       "angel                 494,511,992.0000         4,860.0000  0.9587   7.4044   \n",
       "private_equity      4,745,460,219.0000         1,936.0000 73.3086 198.1135   \n",
       "seed                  200,000,000.0000        23,602.0000  0.7198   2.2218   \n",
       "venture            17,600,000,000.0000        50,228.0000 11.7489  86.3521   \n",
       "\n",
       "                                                              \n",
       "                      min    25%     50%     75%         max  \n",
       "funding_round_type                                            \n",
       "angel              0.0000 0.1500  0.4000  1.0000    494.5120  \n",
       "private_equity     0.0000 5.0000 20.0000 75.0000  4,745.4602  \n",
       "seed               0.0000 0.0550  0.2750  1.0000    200.0000  \n",
       "venture            0.0000 1.6009  5.0000 12.0000 17,600.0000  "
      ]
     },
     "execution_count": 40,
     "metadata": {},
     "output_type": "execute_result"
    }
   ],
   "source": [
    "df_master_selectedFundingTypes.groupby(\"funding_round_type\").describe()"
   ]
  },
  {
   "cell_type": "code",
   "execution_count": 41,
   "metadata": {},
   "outputs": [
    {
     "data": {
      "image/png": "[encoded data removed]",
      "text/plain": [
       "<Figure size 360x360 with 1 Axes>"
      ]
     },
     "metadata": {
      "needs_background": "light"
     },
     "output_type": "display_data"
    },
    {
     "data": {
      "text/plain": [
       "<Figure size 3600x3600 with 0 Axes>"
      ]
     },
     "metadata": {},
     "output_type": "display_data"
    }
   ],
   "source": [
    "sns.catplot(x=\"funding_round_type\", y=\"raised_amount_musd\" , kind='box' , data=df_master_selectedFundingTypes)\n",
    "plt.yscale('log')\n",
    "plt.xlabel(\"Funding Types\")\n",
    "plt.ylabel(\"M-USD\")\n",
    "plt.figure(figsize=(50,50))\n",
    "plt.show()"
   ]
  },
  {
   "cell_type": "markdown",
   "metadata": {},
   "source": [
    "### Plot2\n",
    "#### Amount of funding (Venture) recieved for the top 9 countries\n",
    "This  considers all the investments and is ````not```` limited to cases where the funding is between 5 and 15 million USD"
   ]
  },
  {
   "cell_type": "code",
   "execution_count": 42,
   "metadata": {},
   "outputs": [],
   "source": [
    "df_temp_country = df_allventure_countries.groupby(['country_code',], as_index=False).agg('sum').sort_values('raised_amount_usd', ascending=False).head(9)\n",
    "df_temp_country ['raised_amount_Musd'] = df_temp_country ['raised_amount_usd'] /1000000\n",
    "df_temp_country ['country_code'] = df_temp_country ['country_code'].apply(lambda x: x.upper())"
   ]
  },
  {
   "cell_type": "code",
   "execution_count": 43,
   "metadata": {},
   "outputs": [
    {
     "data": {
      "image/png": "[encoded data removed]",
      "text/plain": [
       "<Figure size 360x360 with 1 Axes>"
      ]
     },
     "metadata": {
      "needs_background": "light"
     },
     "output_type": "display_data"
    },
    {
     "data": {
      "text/plain": [
       "<Figure size 3600x3600 with 0 Axes>"
      ]
     },
     "metadata": {},
     "output_type": "display_data"
    }
   ],
   "source": [
    "sns.catplot(x=\"country_code\", y=\"raised_amount_Musd\", kind='bar', data=df_temp_country)\n",
    "plt.title('Countries with the Venture investments')\n",
    "plt.yscale('log')\n",
    "plt.xlabel(\"Countries\")\n",
    "plt.ylabel(\"M-USD\")\n",
    "plt.figure(figsize=(50,50))\n",
    "plt.show()"
   ]
  },
  {
   "cell_type": "markdown",
   "metadata": {},
   "source": [
    "### Plot 3\n",
    "#### For Venture funds , this shows the numbers of investments across top3 secotors of top 3 countries\n",
    "This  considers all the investments and is ````limited ````to cases where the funding is between 5 and 15 million USD"
   ]
  },
  {
   "cell_type": "code",
   "execution_count": 44,
   "metadata": {},
   "outputs": [
    {
     "name": "stderr",
     "output_type": "stream",
     "text": [
      "C:\\Tools\\Anaconda3\\lib\\site-packages\\ipykernel_launcher.py:10: SettingWithCopyWarning: \n",
      "A value is trying to be set on a copy of a slice from a DataFrame.\n",
      "Try using .loc[row_indexer,col_indexer] = value instead\n",
      "\n",
      "See the caveats in the documentation: http://pandas.pydata.org/pandas-docs/stable/indexing.html#indexing-view-versus-copy\n",
      "  # Remove the CWD from sys.path while we load stuff.\n"
     ]
    }
   ],
   "source": [
    "## data related to top 3 countries (USA, GBR and India - China excluded since it is not a english speaking country)\n",
    "# funding_type.iloc[0,0] holds the appropriate funding type (venture) from the above sections\n",
    "# lst_top3 is the list that holds the top 3 english speaking countries for analysis\n",
    "df_3country_plot = master_df.loc[(master_df.funding_round_type == funding_type.iloc[0,0]) \n",
    "                                 & ((df_allventure_countries['country_code'] == lst_top3[0].lower()) \n",
    "                                    | (df_allventure_countries['country_code'] == lst_top3[1].lower()) \n",
    "                                    | (df_allventure_countries['country_code'] == lst_top3[2].lower())) \n",
    "                                 & ((master_df['raised_amount_usd'] > lower_limit_funding) \n",
    "                                    & (master_df['raised_amount_usd'] < upper_limit_funding))]\n",
    "df_3country_plot ['raised_amount_Musd'] = df_3country_plot ['raised_amount_usd'] /1000000\n",
    "df_3country_sectors = df_3country_plot.groupby(['country_code','main_sector'],as_index=False )\n",
    "#df_3country_sectors.head()"
   ]
  },
  {
   "cell_type": "code",
   "execution_count": null,
   "metadata": {},
   "outputs": [],
   "source": []
  },
  {
   "cell_type": "code",
   "execution_count": null,
   "metadata": {},
   "outputs": [],
   "source": []
  },
  {
   "cell_type": "code",
   "execution_count": null,
   "metadata": {},
   "outputs": [],
   "source": []
  },
  {
   "cell_type": "code",
   "execution_count": 45,
   "metadata": {},
   "outputs": [
    {
     "name": "stdout",
     "output_type": "stream",
     "text": [
      "['cleantech / semiconductors', 'others', 'social, finance, analytics, advertising', 'news, search and messaging']\n"
     ]
    }
   ],
   "source": [
    "#create a single list of sectors\n",
    "lst_sectors = [lst_c1_top3sectors[0] ,lst_c1_top3sectors[1], lst_c1_top3sectors[2], \\\n",
    "              lst_c2_top3sectors[0] ,lst_c2_top3sectors[1], lst_c2_top3sectors[2],\\\n",
    "              lst_c3_top3sectors[0] ,lst_c3_top3sectors[1], lst_c3_top3sectors[2]]\n",
    "lst_sectors = list(set(lst_sectors))\n",
    "print (lst_sectors)"
   ]
  },
  {
   "cell_type": "code",
   "execution_count": 46,
   "metadata": {},
   "outputs": [
    {
     "data": {
      "image/png": "[encoded data removed]",
      "text/plain": [
       "<Figure size 720x720 with 1 Axes>"
      ]
     },
     "metadata": {
      "needs_background": "light"
     },
     "output_type": "display_data"
    }
   ],
   "source": [
    "bar_width = 0.5\n",
    "plt.figure(figsize=(10,10))\n",
    "country_code = (lst_top3[1],lst_top3[2],lst_top3[0])\n",
    "\n",
    "sector_1 = plt.bar(country_code, df_3country_sectors.count() \\\n",
    "                .loc[(df_3country_sectors.count()[\"main_sector\"] == lst_sectors[1])][\"raised_amount_Musd\"] \\\n",
    "                , bar_width, label=lst_sectors[1])\n",
    "\n",
    "sector_2 = plt.bar(country_code, df_3country_sectors.count()\\\n",
    "                .loc[(df_3country_sectors.count()[\"main_sector\"] == lst_sectors[0])][\"raised_amount_Musd\"]\\\n",
    "                , bar_width,label=lst_sectors[0]\\\n",
    "                , bottom=df_3country_sectors.count()\\\n",
    "                .loc[(df_3country_sectors.count()[\"main_sector\"] == lst_sectors[1])]\\\n",
    "                .groupby(['country_code']).sum()[\"raised_amount_Musd\"])\n",
    "\n",
    "sector_3 = plt.bar(country_code, df_3country_sectors.count()\\\n",
    "                .loc[(df_3country_sectors.count()[\"main_sector\"] == lst_sectors[3])][\"raised_amount_Musd\"]\\\n",
    "                , bar_width,label=lst_sectors[3]\\\n",
    "                , bottom=df_3country_sectors.count()\\\n",
    "                .loc[ (df_3country_sectors.count()[\"main_sector\"] == lst_sectors[1]) \\\n",
    "                        | (df_3country_sectors.count()[\"main_sector\"] == lst_sectors[0])]\\\n",
    "                .groupby(['country_code']).sum()[\"raised_amount_Musd\"])\n",
    "\n",
    "sector_4 = plt.bar(country_code,df_3country_sectors.count()\\\n",
    "                .loc[(df_3country_sectors.count()[\"main_sector\"] ==  lst_sectors[2])][\"raised_amount_Musd\"]\\\n",
    "                   , bar_width,label=lst_sectors[2]\\\n",
    "                   , bottom=df_3country_sectors.count()\\\n",
    "                   .loc[ (df_3country_sectors.count()[\"main_sector\"] == lst_sectors[1]) \\\n",
    "                        | (df_3country_sectors.count()[\"main_sector\"] == lst_sectors[0]) \\\n",
    "                        | (df_3country_sectors.count()[\"main_sector\"] == lst_sectors[3])]\\\n",
    "                   .groupby(['country_code']).sum()[\"raised_amount_Musd\"])\n",
    "\n",
    "plt.title('Countries with the Venture imvestments (Count)')\n",
    "plt.xlabel(\"Countries\")\n",
    "plt.ylabel(\"Number of Investments\")\n",
    "plt.yscale('symlog')\n",
    "plt.legend()\n",
    "plt.show()"
   ]
  }
 ],
 "metadata": {
  "kernelspec": {
   "display_name": "Python 3",
   "language": "python",
   "name": "python3"
  },
  "language_info": {
   "codemirror_mode": {
    "name": "ipython",
    "version": 3
   },
   "file_extension": ".py",
   "mimetype": "text/x-python",
   "name": "python",
   "nbconvert_exporter": "python",
   "pygments_lexer": "ipython3",
   "version": "3.7.3"
  }
 },
 "nbformat": 4,
 "nbformat_minor": 2
}
