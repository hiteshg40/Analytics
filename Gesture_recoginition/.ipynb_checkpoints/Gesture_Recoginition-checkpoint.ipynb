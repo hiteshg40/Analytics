{
 "cells": [
  {
   "cell_type": "markdown",
   "metadata": {
    "colab_type": "text",
    "id": "HFwohYrf0kSa"
   },
   "source": [
    "# Gesture Recognition\n",
    "In this group project, you are going to build a 3D Conv model that will be able to predict the 5 gestures correctly. Please import the following libraries to get started."
   ]
  },
  {
   "cell_type": "markdown",
   "metadata": {
    "colab_type": "text",
    "id": "Nu66J9-s9ggF"
   },
   "source": []
  },
  {
   "cell_type": "code",
   "execution_count": 1,
   "metadata": {
    "colab": {},
    "colab_type": "code",
    "id": "EV0GpyJ30kSc"
   },
   "outputs": [],
   "source": [
    "import numpy as np\n",
    "import os\n",
    "import datetime\n",
    "import random\n",
    "from numpy import asarray\n",
    "from skimage.transform import resize, rescale\n",
    "from skimage import data, color, io\n",
    "from skimage.color import rgb2gray\n"
   ]
  },
  {
   "cell_type": "code",
   "execution_count": null,
   "metadata": {
    "colab": {
     "base_uri": "https://localhost:8080/",
     "height": 286
    },
    "colab_type": "code",
    "id": "qNiKRM2bk8i3",
    "outputId": "6d310951-1694-44db-8f0a-12a9e3963115"
   },
   "outputs": [],
   "source": [
    "# !pip install gdown\n",
    "\n",
    "# !gdown 'https://drive.google.com/uc?id=1tiN02ZYvt4' #path of the file\n",
    "\n",
    "# !nvcc --version\n"
   ]
  },
  {
   "cell_type": "code",
   "execution_count": null,
   "metadata": {
    "colab": {},
    "colab_type": "code",
    "id": "1vt9e0LayUtB"
   },
   "outputs": [],
   "source": [
    "# import zipfile\n",
    "# directory_to_extract_to = \"\"\n",
    "# with zipfile.ZipFile('./Project_data.zip','r') as zip_ref:\n",
    "#     zip_ref.extractall(directory_to_extract_to)"
   ]
  },
  {
   "cell_type": "markdown",
   "metadata": {
    "colab_type": "text",
    "id": "xaZNnL8S0kSg"
   },
   "source": [
    "We set the random seed so that the results don't vary drastically."
   ]
  },
  {
   "cell_type": "code",
   "execution_count": 2,
   "metadata": {
    "colab": {
     "base_uri": "https://localhost:8080/",
     "height": 50
    },
    "colab_type": "code",
    "id": "hpzt2-ek0kSh",
    "outputId": "f001be6b-4eed-4041-aaa4-e5be1959352a"
   },
   "outputs": [
    {
     "name": "stderr",
     "output_type": "stream",
     "text": [
      "Using TensorFlow backend.\n"
     ]
    },
    {
     "name": "stdout",
     "output_type": "stream",
     "text": [
      "2.0.0\n"
     ]
    }
   ],
   "source": [
    "np.random.seed(30)\n",
    "import random as rn\n",
    "rn.seed(30)\n",
    "from keras import backend as K\n",
    "import tensorflow as tf\n",
    "print(tf.__version__)\n",
    "#tf.set_random_seed(30)\n",
    "tf.random.set_seed(30)"
   ]
  },
  {
   "cell_type": "markdown",
   "metadata": {
    "colab_type": "text",
    "id": "--zxgjLi0kSm"
   },
   "source": [
    "In this block, you read the folder names for training and validation. You also set the `batch_size` here. Note that you set the batch size in such a way that you are able to use the GPU in full capacity. You keep increasing the batch size until the machine throws an error."
   ]
  },
  {
   "cell_type": "code",
   "execution_count": 3,
   "metadata": {
    "colab": {},
    "colab_type": "code",
    "id": "Mv7VVw4P0kSm"
   },
   "outputs": [],
   "source": [
    "train_doc = np.random.permutation(open('./Project_data/train.csv').readlines())\n",
    "val_doc = np.random.permutation(open('./Project_data/val.csv').readlines())\n",
    "\n",
    "#Used batch size such as 50 , 32 and 20. Batch of 50 caused memory issues for some of the Arch. Between 32 and 20 , got better results for 20.\n",
    "batch_size = 20 #experiment with the batch size"
   ]
  },
  {
   "cell_type": "markdown",
   "metadata": {
    "colab_type": "text",
    "id": "SRiK5wse0kSp"
   },
   "source": [
    "## Generator\n",
    "This is one of the most important part of the code. The overall structure of the generator has been given. In the generator, you are going to preprocess the images as you have images of 2 different dimensions as well as create a batch of video frames. You have to experiment with `img_idx`, `y`,`z` and normalization such that you get high accuracy.\n",
    "\n",
    "IMage size are 360*360 and 120*160"
   ]
  },
  {
   "cell_type": "code",
   "execution_count": null,
   "metadata": {
    "colab": {},
    "colab_type": "code",
    "id": "kQWLapGx0kSq"
   },
   "outputs": [],
   "source": [
    "import matplotlib.pyplot as plt\n",
    "% matplotlib inline\n",
    "# function to plot n images using subplots\n",
    "def plot_image(images, captions=None, cmap=None ):\n",
    "    f, axes = plt.subplots(1, len(images), sharey=True)\n",
    "    f.set_figwidth(15)\n",
    "    for ax,image in zip(axes, images):\n",
    "        ax.imshow(image)"
   ]
  },
  {
   "cell_type": "code",
   "execution_count": 4,
   "metadata": {
    "colab": {},
    "colab_type": "code",
    "id": "GVK_VaM80kSu"
   },
   "outputs": [],
   "source": [
    "import matplotlib.pyplot as plt\n",
    "#Try converting to grey scale and check\n",
    "def resize_normalize_images(image ,shape ,y, z):\n",
    "      ht,wt,ch = shape\n",
    "      if ht > y and wt > z:\n",
    "          #resize the image height\n",
    "          img_resized = resize(image, (y, z), anti_aliasing=False)\n",
    "      else:\n",
    "          img_resized = image\n",
    "          \n",
    "      pixels = asarray(img_resized)\n",
    "      pixels = pixels.astype('float32')\n",
    "      \n",
    "      pixels = img_resized - np.percentile(img_resized,5)/ np.percentile(img_resized,95) - np.percentile(img_resized,5)\n",
    "      #pixels = rgb2gray(pixels)  #Enable this line if there is a need for a single channel instead of RGB\n",
    "      return pixels\n",
    "\n",
    "#use this function to crop the image post normalization. \n",
    "def crop_image(img ,x,y): \n",
    "    if img.shape[0] > x and img.shape[1] > y:\n",
    "      h, w, _ = img.shape\n",
    "      print (img.shape)\n",
    "      img = img[int(h/2)-(x/2):int(h/2)+(x/2), int(w/2)-(y/2):int(w/2)+(y/2), : ]\n",
    "    return img\n",
    "\n",
    "def generator(source_path, folder_list, batch_size):\n",
    "    print( 'Source path = ', source_path, '; batch size =', batch_size)\n",
    "    x = 30 #Define the number of frames \n",
    "    y = 100 #Pixel \n",
    "    z = 100 #pixel\n",
    "    ch = 3 #channels\n",
    "    crop = False #Not used in this usecase\n",
    "    \n",
    "    img_idx = random.sample(range(30),x) #create a list of image numbers you want to use for a particular video\n",
    "    img_idx.sort() #sort the list of images\n",
    "    while True:\n",
    "        t = np.random.permutation(folder_list)\n",
    "        num_batches = len(t) // batch_size # calculate the number of batches\n",
    "\n",
    "        for batch in range(num_batches): # we iterate over the number of batches\n",
    "            batch_data = np.zeros((batch_size,x,y,z,ch)) # x is the number of images you use for each video, (y,z) is the final size of the input images and 3 is the number of channels RGB\n",
    "            batch_labels = np.zeros((batch_size,5)) # batch_labels is the one hot representation of the output\n",
    "            for folder in range(batch_size): # iterate over the batch_size\n",
    "                imgs = os.listdir(source_path+'/'+ t[folder + (batch*batch_size)].split(';')[0]) # read all the images in the folder\n",
    "                for idx,item in enumerate(img_idx): #  Iterate iver the frames/images of a folder to read them in\n",
    "                    # removed the to float which was there eerlier\n",
    "                    #image = imread(source_path+'/'+ t[folder + (batch*batch_size)].strip().split(';')[0]+'/'+imgs[item]).astype(np.float32)\n",
    "                    image = io.imread(source_path+'/'+ t[folder + (batch*batch_size)].strip().split(';')[0]+'/'+imgs[item])\n",
    "                    #crop the images and resize them. Note that the images are of 2 different shape \n",
    "                    #and the conv3D will throw error if the inputs in a batch have different shapes\n",
    "                    #Get the image size\n",
    "\n",
    "                    pixels  = resize_normalize_images(image ,image.shape ,y, z)\n",
    "                    if crop:\n",
    "                      pixels = crop_image(pixels ,y,z)\n",
    "                    \n",
    "\n",
    "                    batch_data[folder,idx,:,:,0] = pixels[:,:,0]#normalise and feed in the image\n",
    "                    batch_data[folder,idx,:,:,1] = pixels[:,:,1]#normalise and feed in the image\n",
    "                    batch_data[folder,idx,:,:,2] = pixels[:,:,2]#normalise and feed in the image\n",
    "                    #batch_data[folder,idx,:,:,0] = pixels[:,:]  #This line is only needed if there is one channel uses instead of RGB\n",
    "                batch_labels[folder, int(t[folder + (batch*batch_size)].strip().split(';')[2])] = 1\n",
    "            yield batch_data, batch_labels #you yield the batch_data and the batch_labels, remember what does yield do\n",
    "\n",
    "        \n",
    "        # write the code for the remaining data points which are left after full batches\n",
    "        folders_remain = len(t) - batch_size * num_batches # calculate the remaing folders\n",
    "        if (folders_remain > 0):\n",
    "          batch_data = np.zeros((folders_remain,x,y,z,ch)) # x is the number of images you use for each video, (y,z) is the final size of the input images and 3 is the number of channels RGB\n",
    "          batch_labels = np.zeros((folders_remain,5)) # batch_labels is the one hot representation of the output\n",
    "          for folder in range(folders_remain): # iterate over the batch_size\n",
    "              imgs = os.listdir(source_path+'/'+ t[folder + (batch_size * num_batches)].split(';')[0]) # read all the images in the folder\n",
    "              for idx,item in enumerate(img_idx): #  Iterate iver the frames/images of a folder to read them in\n",
    "                  # removed the to float which was there eerlier\n",
    "                  #image = imread(source_path+'/'+ t[folder + (batch*batch_size)].strip().split(';')[0]+'/'+imgs[item]).astype(np.float32)\n",
    "                  image = io.imread(source_path+'/'+ t[folder + (batch_size * num_batches)].strip().split(';')[0]+'/'+imgs[item])\n",
    "                  #crop the images and resize them. Note that the images are of 2 different shape \n",
    "                  #and the conv3D will throw error if the inputs in a batch have different shapes\n",
    "                  #Get the image size\n",
    "\n",
    "                  pixels  = resize_normalize_images(image ,image.shape ,y, z)\n",
    "                  if crop:\n",
    "                    pixels = crop_image(pixels ,y,z)\n",
    "\n",
    "                  batch_data[folder,idx,:,:,0] = pixels[:,:,0]#normalise and feed in the image\n",
    "                  batch_data[folder,idx,:,:,1] = pixels[:,:,1]#normalise and feed in the image\n",
    "                  batch_data[folder,idx,:,:,2] = pixels[:,:,2]#normalise and feed in the image\n",
    "                  # batch_data[folder,idx,:,:,0] = pixels[:,:] #This line is only needed if there is one channel uses instead of RGB\n",
    "              batch_labels[folder, int(t[folder + (batch_size * num_batches)].strip().split(';')[2])] = 1\n",
    "          yield batch_data, batch_labels #you yield the batch_data and the batch_labels, remember what does yield do\n",
    "\n",
    "\n"
   ]
  },
  {
   "cell_type": "code",
   "execution_count": null,
   "metadata": {
    "colab": {},
    "colab_type": "code",
    "id": "LZrrBgp80kSx"
   },
   "outputs": [],
   "source": []
  },
  {
   "cell_type": "code",
   "execution_count": null,
   "metadata": {
    "colab": {},
    "colab_type": "code",
    "id": "Y09JJTMx0kS1"
   },
   "outputs": [],
   "source": []
  },
  {
   "cell_type": "markdown",
   "metadata": {
    "colab_type": "text",
    "id": "4o9f7PwS0kS7"
   },
   "source": [
    "Note here that a video is represented above in the generator as (number of images, height, width, number of channels). Take this into consideration while creating the model architecture."
   ]
  },
  {
   "cell_type": "code",
   "execution_count": 5,
   "metadata": {
    "colab": {
     "base_uri": "https://localhost:8080/",
     "height": 67
    },
    "colab_type": "code",
    "id": "0AlosRni0kS7",
    "outputId": "bc5e19d2-1eed-44d9-a7d1-b69ee0afd4ad"
   },
   "outputs": [
    {
     "name": "stdout",
     "output_type": "stream",
     "text": [
      "# training sequences = 663\n",
      "# validation sequences = 100\n",
      "# epochs = 20\n"
     ]
    }
   ],
   "source": [
    "curr_dt_time = datetime.datetime.now()\n",
    "train_path ='./Project_data/train'\n",
    "val_path = './Project_data/val'\n",
    "num_train_sequences = len(train_doc)\n",
    "print('# training sequences =', num_train_sequences)\n",
    "num_val_sequences = len(val_doc)\n",
    "print('# validation sequences =', num_val_sequences)\n",
    "num_epochs = 20 # choose the number of epochs\n",
    "print ('# epochs =', num_epochs)\n",
    "num_classes = 5"
   ]
  },
  {
   "cell_type": "markdown",
   "metadata": {
    "colab_type": "text",
    "id": "XUSjfAo80kTB"
   },
   "source": [
    "## Model\n",
    "Here you make the model using different functionalities that Keras provides. Remember to use `Conv3D` and `MaxPooling3D` and not `Conv2D` and `Maxpooling2D` for a 3D convolution model. You would want to use `TimeDistributed` while building a Conv2D + RNN model. Also remember that the last layer is the softmax. Design the network in such a way that the model is able to give good accuracy on the least number of parameters so that it can fit in the memory of the webcam."
   ]
  },
  {
   "cell_type": "code",
   "execution_count": 21,
   "metadata": {
    "colab": {},
    "colab_type": "code",
    "id": "4mW0k5sPHQFf"
   },
   "outputs": [],
   "source": [
    "#Conv3D model\n",
    "def Conv3D_arch(input_shape):\n",
    "  from keras.models import Sequential, Model\n",
    "  from keras.layers import Dense, GRU, Flatten, TimeDistributed, Flatten, BatchNormalization, Activation ,Dropout\n",
    "  from keras.layers.convolutional import Conv3D, MaxPooling3D\n",
    "  from keras.callbacks import ModelCheckpoint, ReduceLROnPlateau\n",
    "  from keras import optimizers\n",
    "   \n",
    "  model = Sequential()\n",
    "  model.add(Conv3D(8, kernel_size=(3,3,3), input_shape=input_shape, padding='same'))\n",
    "  model.add(Activation('relu'))\n",
    "  model.add(Dropout(0.4))\n",
    "  model.add(MaxPooling3D(pool_size=(2,2,2)))\n",
    "  model.add(Conv3D(16, kernel_size=(3,3,3), padding='same'))\n",
    "  model.add(Activation('relu'))\n",
    "  model.add(Dropout(0.4))\n",
    "  model.add(MaxPooling3D(pool_size=(2,2,2)))\n",
    "  model.add(Conv3D(32, kernel_size=(3,3,3), padding='same'))\n",
    "  model.add(Activation('relu'))\n",
    "  model.add(Dropout(0.4))\n",
    "  model.add(MaxPooling3D(pool_size=(2,2,2)))\n",
    "  model.add(Conv3D(64, kernel_size=(3,3,3), padding='same'))\n",
    "  model.add(Activation('relu'))\n",
    "  model.add(Dropout(0.4))\n",
    "  model.add(MaxPooling3D(pool_size=(2,2,2)))\n",
    "\n",
    "  #Flatten Layers\n",
    "  model.add(Flatten())\n",
    "  model.add(Dense(512, activation='relu'))\n",
    "  model.add(Dropout(0.5))\n",
    "  model.add(Dense(256, activation='relu'))\n",
    "  model.add(Dropout(0.5))\n",
    "\n",
    "  #softmax layer\n",
    "  model.add(Dense(5, activation='softmax'))\n",
    "  return model"
   ]
  },
  {
   "cell_type": "code",
   "execution_count": 22,
   "metadata": {
    "colab": {},
    "colab_type": "code",
    "id": "PjFGlBrx0kTC"
   },
   "outputs": [],
   "source": [
    "from keras.models import Sequential, Model\n",
    "from keras.layers import Dense, GRU, Flatten, TimeDistributed, Flatten, BatchNormalization, Activation ,Dropout,LSTM\n",
    "from keras.layers.convolutional import Conv3D, MaxPooling3D ,Conv2D, MaxPooling2D\n",
    "from keras.callbacks import ModelCheckpoint, ReduceLROnPlateau\n",
    "from keras import optimizers\n",
    "from keras.applications import ResNet50\n",
    "from keras.applications import InceptionV3\n",
    "from keras.applications.vgg16 import VGG16\n",
    "from keras.applications.resnet50 import preprocess_input\n",
    "from keras.layers import Input, Add, AveragePooling2D,  GlobalAveragePooling2D ,GlobalMaxPool2D\n",
    "def get_model(input_shape):\n",
    "    #Get base model: ResNet50 or VGG16\n",
    "\n",
    "    base_model =  VGG16(weights='imagenet', include_top=False ,input_shape=input_shape)\n",
    "        \n",
    "    split_at = 8\n",
    "    for layer in base_model.layers[:split_at]: layer.trainable = False\n",
    "    for layer in base_model.layers[split_at:]: layer.trainable = True\n",
    "\n",
    "    # Get the output from the base model \n",
    "    base_model_output = base_model.output\n",
    "    \n",
    "    x = GlobalMaxPool2D()(base_model_output)\n",
    "\n",
    "    model = Model(inputs=base_model.input, outputs=x)\n",
    "    print (model.summary())\n",
    "    return model\n",
    "\n",
    "from keras.layers import TimeDistributed, GRU, Dense, Dropout\n",
    "def conv2dGRU_model(shape, classes=5):\n",
    "    \n",
    " \n",
    "    vgg = get_model(shape[1:])\n",
    "    # then create our final model\n",
    "    model = Sequential()\n",
    "    \n",
    "    model.add(TimeDistributed(vgg, input_shape=shape))\n",
    "    model.add(TimeDistributed(Flatten()))\n",
    "\n",
    "    model.add(GRU(64, dropout=0.2))\n",
    "\n",
    "    model.add(Dense(512,activation='relu'))\n",
    "    model.add(Dropout(0.3))\n",
    "    model.add(Dense(256,activation='relu'))\n",
    "    model.add(Dropout(0.3))\n",
    "    model.add(Dense(num_classes, activation='softmax'))\n",
    "\n",
    "    \n",
    "    return model"
   ]
  },
  {
   "cell_type": "markdown",
   "metadata": {
    "colab_type": "text",
    "id": "OZnGxfvNXHso"
   },
   "source": [
    "Tried with a basic model with 2 Convl3d and one maxpool layer - got a very bad result\n",
    "\n",
    "tried to increase the single layers of Convl3d with 8,16,32,64 layers. Some improvement in the model but not much\n",
    "\n",
    "Tried to use multiple contineous layers of Convl3d and this produced good result\n",
    "\n",
    "increased the time lenght from 15 to 30 , considering all the images and got a better result\n",
    "\n",
    "Tried this with batch normalization and got a reduced result and hecne removed this from furthur execution.\n",
    "Increase the batch size and epoch\n",
    "\n",
    "conv2d \n",
    "- Overfitting of data for the basic model with a batch size of 32"
   ]
  },
  {
   "cell_type": "markdown",
   "metadata": {
    "colab_type": "text",
    "id": "DYJWq67S0kTF"
   },
   "source": [
    "Now that you have written the model, the next step is to `compile` the model. When you print the `summary` of the model, you'll see the total number of parameters you have to train."
   ]
  },
  {
   "cell_type": "code",
   "execution_count": 23,
   "metadata": {
    "colab": {
     "base_uri": "https://localhost:8080/",
     "height": 907
    },
    "colab_type": "code",
    "id": "H3tbUmoh0kTG",
    "outputId": "e56b6216-e76b-4bf8-c9d1-3c6c4e01411f",
    "scrolled": true
   },
   "outputs": [
    {
     "name": "stdout",
     "output_type": "stream",
     "text": [
      "Model: \"sequential_4\"\n",
      "_________________________________________________________________\n",
      "Layer (type)                 Output Shape              Param #   \n",
      "=================================================================\n",
      "conv3d_13 (Conv3D)           (None, 30, 100, 100, 8)   656       \n",
      "_________________________________________________________________\n",
      "activation_13 (Activation)   (None, 30, 100, 100, 8)   0         \n",
      "_________________________________________________________________\n",
      "dropout_19 (Dropout)         (None, 30, 100, 100, 8)   0         \n",
      "_________________________________________________________________\n",
      "max_pooling3d_13 (MaxPooling (None, 15, 50, 50, 8)     0         \n",
      "_________________________________________________________________\n",
      "conv3d_14 (Conv3D)           (None, 15, 50, 50, 16)    3472      \n",
      "_________________________________________________________________\n",
      "activation_14 (Activation)   (None, 15, 50, 50, 16)    0         \n",
      "_________________________________________________________________\n",
      "dropout_20 (Dropout)         (None, 15, 50, 50, 16)    0         \n",
      "_________________________________________________________________\n",
      "max_pooling3d_14 (MaxPooling (None, 7, 25, 25, 16)     0         \n",
      "_________________________________________________________________\n",
      "conv3d_15 (Conv3D)           (None, 7, 25, 25, 32)     13856     \n",
      "_________________________________________________________________\n",
      "activation_15 (Activation)   (None, 7, 25, 25, 32)     0         \n",
      "_________________________________________________________________\n",
      "dropout_21 (Dropout)         (None, 7, 25, 25, 32)     0         \n",
      "_________________________________________________________________\n",
      "max_pooling3d_15 (MaxPooling (None, 3, 12, 12, 32)     0         \n",
      "_________________________________________________________________\n",
      "conv3d_16 (Conv3D)           (None, 3, 12, 12, 64)     55360     \n",
      "_________________________________________________________________\n",
      "activation_16 (Activation)   (None, 3, 12, 12, 64)     0         \n",
      "_________________________________________________________________\n",
      "dropout_22 (Dropout)         (None, 3, 12, 12, 64)     0         \n",
      "_________________________________________________________________\n",
      "max_pooling3d_16 (MaxPooling (None, 1, 6, 6, 64)       0         \n",
      "_________________________________________________________________\n",
      "flatten_4 (Flatten)          (None, 2304)              0         \n",
      "_________________________________________________________________\n",
      "dense_10 (Dense)             (None, 512)               1180160   \n",
      "_________________________________________________________________\n",
      "dropout_23 (Dropout)         (None, 512)               0         \n",
      "_________________________________________________________________\n",
      "dense_11 (Dense)             (None, 256)               131328    \n",
      "_________________________________________________________________\n",
      "dropout_24 (Dropout)         (None, 256)               0         \n",
      "_________________________________________________________________\n",
      "dense_12 (Dense)             (None, 5)                 1285      \n",
      "=================================================================\n",
      "Total params: 1,386,117\n",
      "Trainable params: 1,386,117\n",
      "Non-trainable params: 0\n",
      "_________________________________________________________________\n",
      "None\n"
     ]
    }
   ],
   "source": [
    "\n",
    "#print (input_shape)\n",
    "input_shape = (30,100,100,3)\n",
    "#model = conv2dGRU_model(input_shape, num_classes) #Use this line for the Conv2dGRU architecture\n",
    "model = Conv3D_arch(input_shape)  #Use this line for the Conv3d Model\n",
    "\n",
    "optimiser = optimizers.Adam() #This does not work for the Conv2dGRU model, but works for Conv3D\n",
    "#Needed to improve the model performance for conv2dGRU. Adam() does not work for VGG16 and GRU\n",
    "#optimiser = optimizers.SGD(lr=0.001, decay=1e-6, momentum=0.9, nesterov=True) \n",
    "model.compile(optimizer=optimiser, loss='categorical_crossentropy', metrics=['categorical_accuracy'])\n",
    "print (model.summary())"
   ]
  },
  {
   "cell_type": "code",
   "execution_count": null,
   "metadata": {
    "colab": {},
    "colab_type": "code",
    "id": "Lmb8T_ePcEog"
   },
   "outputs": [],
   "source": []
  },
  {
   "cell_type": "markdown",
   "metadata": {
    "colab_type": "text",
    "id": "ugswFaA40kTJ"
   },
   "source": [
    "\n",
    "Let us create the `train_generator` and the `val_generator` which will be used in `.fit_generator`."
   ]
  },
  {
   "cell_type": "code",
   "execution_count": 24,
   "metadata": {
    "colab": {},
    "colab_type": "code",
    "id": "F5hX4IQd0kTJ"
   },
   "outputs": [],
   "source": [
    "train_generator = generator(train_path, train_doc, batch_size)\n",
    "val_generator = generator(val_path, val_doc, batch_size)"
   ]
  },
  {
   "cell_type": "code",
   "execution_count": 25,
   "metadata": {
    "colab": {},
    "colab_type": "code",
    "id": "xZAmVZW-0kTM"
   },
   "outputs": [],
   "source": [
    "model_name = 'model_init' + '_' + str(curr_dt_time).replace(' ','').replace(':','_') + '/'\n",
    "    \n",
    "if not os.path.exists(model_name):\n",
    "    os.mkdir(model_name)\n",
    "        \n",
    "filepath = model_name + 'model-{epoch:05d}-{loss:.5f}-{categorical_accuracy:.5f}-{val_loss:.5f}-{val_categorical_accuracy:.5f}.h5'\n",
    "\n",
    "checkpoint = ModelCheckpoint(filepath, monitor='val_loss', verbose=1, save_best_only=False, save_weights_only=False, mode='auto', period=1)\n",
    "\n",
    "LR = ReduceLROnPlateau(monitor='val_loss', factor=0.2,patience=2, min_lr=0.001)# write the REducelronplateau code here\n",
    "callbacks_list = [checkpoint, LR]"
   ]
  },
  {
   "cell_type": "markdown",
   "metadata": {
    "colab_type": "text",
    "id": "bVzzx2M50kTP"
   },
   "source": [
    "The `steps_per_epoch` and `validation_steps` are used by `fit_generator` to decide the number of next() calls it need to make."
   ]
  },
  {
   "cell_type": "code",
   "execution_count": 26,
   "metadata": {
    "colab": {},
    "colab_type": "code",
    "id": "adwHb75f0kTQ"
   },
   "outputs": [],
   "source": [
    "if (num_train_sequences%batch_size) == 0:\n",
    "    steps_per_epoch = int(num_train_sequences/batch_size)\n",
    "else:\n",
    "    steps_per_epoch = (num_train_sequences//batch_size) + 1\n",
    "\n",
    "if (num_val_sequences%batch_size) == 0:\n",
    "    validation_steps = int(num_val_sequences/batch_size)\n",
    "else:\n",
    "    validation_steps = (num_val_sequences//batch_size) + 1"
   ]
  },
  {
   "cell_type": "markdown",
   "metadata": {
    "colab_type": "text",
    "id": "yQY2pW1J0kTT"
   },
   "source": [
    "Let us now fit the model. This will start training the model and with the help of the checkpoints, you'll be able to save the model at the end of each epoch."
   ]
  },
  {
   "cell_type": "code",
   "execution_count": 27,
   "metadata": {
    "colab": {
     "base_uri": "https://localhost:8080/",
     "height": 642
    },
    "colab_type": "code",
    "id": "nNglsCnP0kTT",
    "outputId": "aedc89b5-56df-403b-ad04-90351f9adb72"
   },
   "outputs": [
    {
     "name": "stdout",
     "output_type": "stream",
     "text": [
      "Epoch 1/20Source path =  ./Project_data/val\n",
      " ; batch size = 20\n",
      "Source path =  ./Project_data/train ; batch size = 20\n"
     ]
    },
    {
     "name": "stderr",
     "output_type": "stream",
     "text": [
      "C:\\tools\\Anaconda3\\lib\\site-packages\\skimage\\transform\\_warps.py:105: UserWarning: The default mode, 'constant', will be changed to 'reflect' in skimage 0.15.\n",
      "  warn(\"The default mode, 'constant', will be changed to 'reflect' in \"\n"
     ]
    },
    {
     "name": "stdout",
     "output_type": "stream",
     "text": [
      "34/34 [==============================] - 480s 14s/step - loss: 1.6583 - categorical_accuracy: 0.2006 - val_loss: 1.6011 - val_categorical_accuracy: 0.2600\n",
      "\n",
      "Epoch 00001: saving model to model_init_2020-06-2712_53_30.006047/model-00001-1.65982-0.20060-1.60112-0.26000.h5\n",
      "Epoch 2/20\n",
      "34/34 [==============================] - 472s 14s/step - loss: 1.5286 - categorical_accuracy: 0.2655 - val_loss: 1.5780 - val_categorical_accuracy: 0.3200\n",
      "\n",
      "Epoch 00002: saving model to model_init_2020-06-2712_53_30.006047/model-00002-1.53350-0.26546-1.57799-0.32000.h5\n",
      "Epoch 3/20\n",
      "34/34 [==============================] - 492s 14s/step - loss: 1.3026 - categorical_accuracy: 0.4148 - val_loss: 1.5903 - val_categorical_accuracy: 0.2100\n",
      "\n",
      "Epoch 00003: saving model to model_init_2020-06-2712_53_30.006047/model-00003-1.31750-0.41478-1.59027-0.21000.h5\n",
      "Epoch 4/20\n",
      "34/34 [==============================] - 476s 14s/step - loss: 1.1367 - categorical_accuracy: 0.5535 - val_loss: 1.4548 - val_categorical_accuracy: 0.4800\n",
      "\n",
      "Epoch 00004: saving model to model_init_2020-06-2712_53_30.006047/model-00004-1.13168-0.55354-1.45482-0.48000.h5\n",
      "Epoch 5/20\n",
      "34/34 [==============================] - 471s 14s/step - loss: 0.7762 - categorical_accuracy: 0.6757 - val_loss: 1.2354 - val_categorical_accuracy: 0.5200\n",
      "\n",
      "Epoch 00005: saving model to model_init_2020-06-2712_53_30.006047/model-00005-0.79009-0.67572-1.23545-0.52000.h5\n",
      "Epoch 6/20\n",
      "34/34 [==============================] - 471s 14s/step - loss: 0.6597 - categorical_accuracy: 0.7557 - val_loss: 1.0243 - val_categorical_accuracy: 0.6000\n",
      "\n",
      "Epoch 00006: saving model to model_init_2020-06-2712_53_30.006047/model-00006-0.63760-0.75566-1.02428-0.60000.h5\n",
      "Epoch 7/20\n",
      "34/34 [==============================] - 473s 14s/step - loss: 0.8249 - categorical_accuracy: 0.6953 - val_loss: 1.2647 - val_categorical_accuracy: 0.4600\n",
      "\n",
      "Epoch 00007: saving model to model_init_2020-06-2712_53_30.006047/model-00007-0.83283-0.69532-1.26469-0.46000.h5\n",
      "Epoch 8/20\n",
      "34/34 [==============================] - 474s 14s/step - loss: 0.5200 - categorical_accuracy: 0.7979 - val_loss: 1.0957 - val_categorical_accuracy: 0.6000\n",
      "\n",
      "Epoch 00008: saving model to model_init_2020-06-2712_53_30.006047/model-00008-0.52635-0.79789-1.09570-0.60000.h5\n",
      "Epoch 9/20\n",
      "34/34 [==============================] - 475s 14s/step - loss: 0.4123 - categorical_accuracy: 0.8431 - val_loss: 0.7181 - val_categorical_accuracy: 0.6400\n",
      "\n",
      "Epoch 00009: saving model to model_init_2020-06-2712_53_30.006047/model-00009-0.41460-0.84314-0.71809-0.64000.h5\n",
      "Epoch 10/20\n",
      "34/34 [==============================] - 470s 14s/step - loss: 0.3728 - categorical_accuracy: 0.8567 - val_loss: 1.0669 - val_categorical_accuracy: 0.6500\n",
      "\n",
      "Epoch 00010: saving model to model_init_2020-06-2712_53_30.006047/model-00010-0.37924-0.85671-1.06691-0.65000.h5\n",
      "Epoch 11/20\n",
      "34/34 [==============================] - 470s 14s/step - loss: 0.3642 - categorical_accuracy: 0.8658 - val_loss: 0.9125 - val_categorical_accuracy: 0.7100\n",
      "\n",
      "Epoch 00011: saving model to model_init_2020-06-2712_53_30.006047/model-00011-0.34676-0.86576-0.91251-0.71000.h5\n",
      "Epoch 12/20\n",
      "34/34 [==============================] - 470s 14s/step - loss: 0.2584 - categorical_accuracy: 0.9065 - val_loss: 0.7325 - val_categorical_accuracy: 0.7000\n",
      "\n",
      "Epoch 00012: saving model to model_init_2020-06-2712_53_30.006047/model-00012-0.26403-0.90649-0.73252-0.70000.h5\n",
      "Epoch 13/20\n",
      "34/34 [==============================] - 472s 14s/step - loss: 0.2270 - categorical_accuracy: 0.9110 - val_loss: 0.7011 - val_categorical_accuracy: 0.8000\n",
      "\n",
      "Epoch 00013: saving model to model_init_2020-06-2712_53_30.006047/model-00013-0.23195-0.91101-0.70111-0.80000.h5\n",
      "Epoch 14/20\n",
      "34/34 [==============================] - 470s 14s/step - loss: 0.2026 - categorical_accuracy: 0.9186 - val_loss: 0.8563 - val_categorical_accuracy: 0.7700\n",
      "\n",
      "Epoch 00014: saving model to model_init_2020-06-2712_53_30.006047/model-00014-0.20761-0.91855-0.85627-0.77000.h5\n",
      "Epoch 15/20\n",
      "34/34 [==============================] - 470s 14s/step - loss: 0.1890 - categorical_accuracy: 0.9321 - val_loss: 0.7680 - val_categorical_accuracy: 0.6600\n",
      "\n",
      "Epoch 00015: saving model to model_init_2020-06-2712_53_30.006047/model-00015-0.18799-0.93213-0.76798-0.66000.h5\n",
      "Epoch 16/20\n",
      "34/34 [==============================] - 470s 14s/step - loss: 0.1929 - categorical_accuracy: 0.9291 - val_loss: 0.6028 - val_categorical_accuracy: 0.7300\n",
      "\n",
      "Epoch 00016: saving model to model_init_2020-06-2712_53_30.006047/model-00016-0.19502-0.92911-0.60279-0.73000.h5\n",
      "Epoch 17/20\n",
      "34/34 [==============================] - 470s 14s/step - loss: 0.0995 - categorical_accuracy: 0.9638 - val_loss: 0.6292 - val_categorical_accuracy: 0.7800\n",
      "\n",
      "Epoch 00017: saving model to model_init_2020-06-2712_53_30.006047/model-00017-0.09869-0.96380-0.62919-0.78000.h5\n",
      "Epoch 18/20\n",
      "34/34 [==============================] - 473s 14s/step - loss: 0.1546 - categorical_accuracy: 0.9517 - val_loss: 0.7761 - val_categorical_accuracy: 0.6300\n",
      "\n",
      "Epoch 00018: saving model to model_init_2020-06-2712_53_30.006047/model-00018-0.14698-0.95173-0.77614-0.63000.h5\n",
      "Epoch 19/20\n",
      "34/34 [==============================] - 471s 14s/step - loss: 0.2444 - categorical_accuracy: 0.9005 - val_loss: 0.7953 - val_categorical_accuracy: 0.7600\n",
      "\n",
      "Epoch 00019: saving model to model_init_2020-06-2712_53_30.006047/model-00019-0.25053-0.90045-0.79531-0.76000.h5\n",
      "Epoch 20/20\n",
      "34/34 [==============================] - 471s 14s/step - loss: 0.1639 - categorical_accuracy: 0.9336 - val_loss: 0.5674 - val_categorical_accuracy: 0.8000\n",
      "\n",
      "Epoch 00020: saving model to model_init_2020-06-2712_53_30.006047/model-00020-0.16587-0.93363-0.56745-0.80000.h5\n"
     ]
    }
   ],
   "source": [
    "result = model.fit_generator(train_generator, steps_per_epoch=steps_per_epoch, epochs=num_epochs, verbose=1, \n",
    "                    callbacks=callbacks_list, validation_data=val_generator, \n",
    "               \n",
    "                    validation_steps=validation_steps, class_weight=None, workers=1, initial_epoch=0)\n",
    "\n",
    "\n"
   ]
  },
  {
   "cell_type": "code",
   "execution_count": 28,
   "metadata": {
    "colab": {
     "base_uri": "https://localhost:8080/",
     "height": 573
    },
    "colab_type": "code",
    "id": "Owms9cHgWgPH",
    "outputId": "a7760102-c424-4721-9f68-d3212376eb53"
   },
   "outputs": [
    {
     "data": {
      "image/png": "[encoded data removed]",
      "text/plain": [
       "<Figure size 432x288 with 1 Axes>"
      ]
     },
     "metadata": {
      "needs_background": "light"
     },
     "output_type": "display_data"
    },
    {
     "data": {
      "image/png": "[encoded data removed]",
      "text/plain": [
       "<Figure size 432x288 with 1 Axes>"
      ]
     },
     "metadata": {
      "needs_background": "light"
     },
     "output_type": "display_data"
    }
   ],
   "source": [
    "# plot train and validation loss\n",
    "plt.plot(result.history['loss'])\n",
    "plt.plot(result.history['val_loss'])\n",
    "plt.title('model train vs validation loss')\n",
    "plt.ylabel('loss')\n",
    "plt.xlabel('epoch')\n",
    "plt.legend(['train', 'validation'], loc='upper right')\n",
    "plt.show()\n",
    "\n",
    "plt.plot(result.history['categorical_accuracy'])\n",
    "plt.plot(result.history['val_categorical_accuracy'])\n",
    "plt.title('model train vs validation loss')\n",
    "plt.ylabel('loss')\n",
    "plt.xlabel('epoch')\n",
    "plt.legend(['train', 'validation'], loc='upper right')\n",
    "plt.show()"
   ]
  },
  {
   "cell_type": "code",
   "execution_count": null,
   "metadata": {
    "colab": {},
    "colab_type": "code",
    "id": "myhvej3K0kTX"
   },
   "outputs": [],
   "source": []
  },
  {
   "cell_type": "code",
   "execution_count": null,
   "metadata": {
    "colab": {},
    "colab_type": "code",
    "id": "bi-nHeLCHLr2"
   },
   "outputs": [],
   "source": []
  },
  {
   "cell_type": "code",
   "execution_count": null,
   "metadata": {
    "colab": {},
    "colab_type": "code",
    "id": "zyi62v0tHN-l"
   },
   "outputs": [],
   "source": []
  }
 ],
 "metadata": {
  "accelerator": "GPU",
  "colab": {
   "collapsed_sections": [],
   "name": "Neural_Nets_Project_Starter_Code.ipynb",
   "provenance": [],
   "toc_visible": true
  },
  "kernelspec": {
   "display_name": "Python 3",
   "language": "python",
   "name": "python3"
  },
  "language_info": {
   "codemirror_mode": {
    "name": "ipython",
    "version": 3
   },
   "file_extension": ".py",
   "mimetype": "text/x-python",
   "name": "python",
   "nbconvert_exporter": "python",
   "pygments_lexer": "ipython3",
   "version": "3.7.3"
  }
 },
 "nbformat": 4,
 "nbformat_minor": 1
}
