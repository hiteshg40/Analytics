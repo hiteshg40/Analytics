{
 "cells": [
  {
   "cell_type": "markdown",
   "metadata": {},
   "source": [
    "### Identify a model to determine the price of a car and the factors which impact this price\n",
    "- Data load\n",
    "    - Determine the encoding.\n",
    "- Process the data to clean the dataset , impute if needed, manage categorical data.\n",
    "    - Drop data with lot of 'NA' values\n",
    "    - convert the categorical into numeric\n",
    "    - Create Dummy variables ,if needed\n",
    "- Idenitfy the best feature to be used or the model\n",
    "    - Evaluate the features on the p-value scale and the adj-r-squar values\n",
    "- Build the Model\n",
    "    - Build the model using the training data\n",
    "- Use the model to predict the price"
   ]
  },
  {
   "cell_type": "code",
   "execution_count": 1,
   "metadata": {},
   "outputs": [],
   "source": [
    "# Supress Warnings\n",
    "\n",
    "import warnings\n",
    "warnings.filterwarnings('ignore')\n",
    "\n",
    "import numpy as np\n",
    "import pandas as pd\n",
    "\n",
    "df_cardata = pd.read_csv(\"CarPrice_Assignment.csv\")\n"
   ]
  },
  {
   "cell_type": "code",
   "execution_count": 2,
   "metadata": {},
   "outputs": [
    {
     "data": {
      "text/plain": [
       "(205, 26)"
      ]
     },
     "execution_count": 2,
     "metadata": {},
     "output_type": "execute_result"
    }
   ],
   "source": [
    "df_cardata.shape"
   ]
  },
  {
   "cell_type": "code",
   "execution_count": 3,
   "metadata": {},
   "outputs": [
    {
     "name": "stdout",
     "output_type": "stream",
     "text": [
      "<class 'pandas.core.frame.DataFrame'>\n",
      "RangeIndex: 205 entries, 0 to 204\n",
      "Data columns (total 26 columns):\n",
      "car_ID              205 non-null int64\n",
      "symboling           205 non-null int64\n",
      "CarName             205 non-null object\n",
      "fueltype            205 non-null object\n",
      "aspiration          205 non-null object\n",
      "doornumber          205 non-null object\n",
      "carbody             205 non-null object\n",
      "drivewheel          205 non-null object\n",
      "enginelocation      205 non-null object\n",
      "wheelbase           205 non-null float64\n",
      "carlength           205 non-null float64\n",
      "carwidth            205 non-null float64\n",
      "carheight           205 non-null float64\n",
      "curbweight          205 non-null int64\n",
      "enginetype          205 non-null object\n",
      "cylindernumber      205 non-null object\n",
      "enginesize          205 non-null int64\n",
      "fuelsystem          205 non-null object\n",
      "boreratio           205 non-null float64\n",
      "stroke              205 non-null float64\n",
      "compressionratio    205 non-null float64\n",
      "horsepower          205 non-null int64\n",
      "peakrpm             205 non-null int64\n",
      "citympg             205 non-null int64\n",
      "highwaympg          205 non-null int64\n",
      "price               205 non-null float64\n",
      "dtypes: float64(8), int64(8), object(10)\n",
      "memory usage: 41.7+ KB\n"
     ]
    }
   ],
   "source": [
    "# check the information about the data set\n",
    "df_cardata.info()"
   ]
  },
  {
   "cell_type": "markdown",
   "metadata": {},
   "source": [
    "### Convert the independent variables from categorical to Numbric.\n",
    "check if the performance is similar if dumy used instead of values"
   ]
  },
  {
   "cell_type": "code",
   "execution_count": 4,
   "metadata": {},
   "outputs": [],
   "source": [
    "#Create a 'Car' column which will hold the value for the car company name\n",
    "df_cardata['CarName'] = df_cardata['CarName'].str.strip()\n",
    "df_cardata['Car'] = df_cardata['CarName'].str.split(expand=True)[0]"
   ]
  },
  {
   "cell_type": "code",
   "execution_count": 5,
   "metadata": {},
   "outputs": [],
   "source": [
    "# convert categorical values into numeric\n",
    "\n",
    "df_cardata['fueltype'] = pd.Categorical(df_cardata['fueltype']).codes\n",
    "df_cardata['aspiration'] = pd.Categorical(df_cardata['aspiration']).codes\n",
    "df_cardata['enginelocation'] = pd.Categorical(df_cardata['enginelocation']).codes\n"
   ]
  },
  {
   "cell_type": "code",
   "execution_count": 6,
   "metadata": {},
   "outputs": [],
   "source": [
    "#df_cardata['fuelsystem'].value_counts()"
   ]
  },
  {
   "cell_type": "code",
   "execution_count": 7,
   "metadata": {},
   "outputs": [],
   "source": [
    "#Convert categorical to numeric\n",
    "df_cardata['doornumber'] = df_cardata['doornumber'].str.lower()\n",
    "df_cardata['doornumber'] = df_cardata['doornumber'].map({'two': 2, 'four': 4})"
   ]
  },
  {
   "cell_type": "code",
   "execution_count": 8,
   "metadata": {},
   "outputs": [],
   "source": [
    "#Convert categorical to numeric\n",
    "df_cardata['drivewheel'] = df_cardata['drivewheel'].str.strip()\n",
    "df_cardata['drivewheel'] = df_cardata['drivewheel'].str.lower()\n",
    "df_cardata['drivewheel'] = df_cardata['drivewheel'].map({'fwd': 1, 'rwd': 2,'4wd':3})"
   ]
  },
  {
   "cell_type": "code",
   "execution_count": 9,
   "metadata": {},
   "outputs": [],
   "source": [
    "df_cardata['cylindernumber'] = df_cardata['cylindernumber'].str.strip()\n",
    "df_cardata['cylindernumber'] = df_cardata['cylindernumber'].str.lower()\n",
    "df_cardata['cylindernumber'] = df_cardata['cylindernumber'] \\\n",
    ".map({'six': 6, 'four': 4, 'five':5,'eight' :8, 'two':2, 'twelve':12, 'three':3})"
   ]
  },
  {
   "cell_type": "code",
   "execution_count": 10,
   "metadata": {},
   "outputs": [],
   "source": [
    "df_cardata['enginetype'] = df_cardata['enginetype'].str.strip()\n",
    "df_cardata['enginetype'] = df_cardata['enginetype'].str.lower()\n",
    "df_cardata['enginetype'] = df_cardata['enginetype'] \\\n",
    ".map({'ohc': 1, 'ohcf': 2, 'ohcv':3,'dohc' :4, 'l':5, 'rotor':6, 'dohcv':7})"
   ]
  },
  {
   "cell_type": "code",
   "execution_count": 11,
   "metadata": {},
   "outputs": [],
   "source": [
    "df_cardata['fuelsystem'] = df_cardata['fuelsystem'].str.strip()\n",
    "df_cardata['fuelsystem'] = df_cardata['fuelsystem'].str.lower()\n",
    "df_cardata['fuelsystem'] = df_cardata['fuelsystem'] \\\n",
    ".map({'mpfi': 1, '2bbl': 2, 'idi':3,'1bbl' :4, 'spdi':5, '4bbl':6, 'spfi':7, 'mfi':8})"
   ]
  },
  {
   "cell_type": "code",
   "execution_count": 12,
   "metadata": {},
   "outputs": [],
   "source": [
    "#Convert categorical to numeric\n",
    "car_dict = {'nissan' : 1, 'alfa-romero': 2,'audi': 3,'bmw':4, 'buick':5, 'chevrolet':6 \\\n",
    "           ,'dodge' : 7, 'honda': 8,'isuzu': 9,'jaguar':10, 'porsche':11, 'renault':12 \\\n",
    "           ,'saab' : 13, 'subaru': 14,'toyota': 15,'toyouta':16, 'vokswagen':17, 'volkswagen':18 \\\n",
    "           ,'volvo' : 19, 'vw': 20,'mazda': 21,'mitsubishi':22, 'volvo':23, 'peugeot':24 \\\n",
    "           ,'plymouth' : 25, 'maxda': 26,'mercury ': 27}\n",
    "df_cardata['Car'] = df_cardata['Car'].str.strip()\n",
    "df_cardata['Car'] = df_cardata['Car'].str.lower()\n",
    "df_cardata['Car'] = df_cardata['Car'].map(car_dict)"
   ]
  },
  {
   "cell_type": "code",
   "execution_count": 13,
   "metadata": {},
   "outputs": [],
   "source": [
    "#Convert categorical to numeric - carbody\n",
    "carbody_dict = {'sedan' : 1, 'hatchback': 2,'wagon': 3,'hardtop':4, 'convertible':5}\n",
    "df_cardata['carbody'] = df_cardata['carbody'].str.strip()\n",
    "df_cardata['carbody'] = df_cardata['carbody'].str.lower()\n",
    "df_cardata['carbody'] = df_cardata['carbody'].map(carbody_dict)"
   ]
  },
  {
   "cell_type": "code",
   "execution_count": 14,
   "metadata": {},
   "outputs": [],
   "source": [
    "# Create dummy variable for the categorical values\n",
    "#car_catg = pd.get_dummies(df_cardata['Car'])\n",
    "#car_catg.head()"
   ]
  },
  {
   "cell_type": "code",
   "execution_count": null,
   "metadata": {},
   "outputs": [],
   "source": []
  },
  {
   "cell_type": "code",
   "execution_count": 15,
   "metadata": {},
   "outputs": [
    {
     "data": {
      "text/html": [
       "<div>\n",
       "<style scoped>\n",
       "    .dataframe tbody tr th:only-of-type {\n",
       "        vertical-align: middle;\n",
       "    }\n",
       "\n",
       "    .dataframe tbody tr th {\n",
       "        vertical-align: top;\n",
       "    }\n",
       "\n",
       "    .dataframe thead th {\n",
       "        text-align: right;\n",
       "    }\n",
       "</style>\n",
       "<table border=\"1\" class=\"dataframe\">\n",
       "  <thead>\n",
       "    <tr style=\"text-align: right;\">\n",
       "      <th></th>\n",
       "      <th>car_ID</th>\n",
       "      <th>symboling</th>\n",
       "      <th>CarName</th>\n",
       "      <th>fueltype</th>\n",
       "      <th>aspiration</th>\n",
       "      <th>doornumber</th>\n",
       "      <th>carbody</th>\n",
       "      <th>drivewheel</th>\n",
       "      <th>enginelocation</th>\n",
       "      <th>wheelbase</th>\n",
       "      <th>...</th>\n",
       "      <th>fuelsystem</th>\n",
       "      <th>boreratio</th>\n",
       "      <th>stroke</th>\n",
       "      <th>compressionratio</th>\n",
       "      <th>horsepower</th>\n",
       "      <th>peakrpm</th>\n",
       "      <th>citympg</th>\n",
       "      <th>highwaympg</th>\n",
       "      <th>price</th>\n",
       "      <th>Car</th>\n",
       "    </tr>\n",
       "  </thead>\n",
       "  <tbody>\n",
       "    <tr>\n",
       "      <th>0</th>\n",
       "      <td>1</td>\n",
       "      <td>3</td>\n",
       "      <td>alfa-romero giulia</td>\n",
       "      <td>1</td>\n",
       "      <td>0</td>\n",
       "      <td>2</td>\n",
       "      <td>5</td>\n",
       "      <td>2</td>\n",
       "      <td>0</td>\n",
       "      <td>88.6</td>\n",
       "      <td>...</td>\n",
       "      <td>1</td>\n",
       "      <td>3.47</td>\n",
       "      <td>2.68</td>\n",
       "      <td>9.0</td>\n",
       "      <td>111</td>\n",
       "      <td>5000</td>\n",
       "      <td>21</td>\n",
       "      <td>27</td>\n",
       "      <td>13495.0</td>\n",
       "      <td>2.0</td>\n",
       "    </tr>\n",
       "    <tr>\n",
       "      <th>1</th>\n",
       "      <td>2</td>\n",
       "      <td>3</td>\n",
       "      <td>alfa-romero stelvio</td>\n",
       "      <td>1</td>\n",
       "      <td>0</td>\n",
       "      <td>2</td>\n",
       "      <td>5</td>\n",
       "      <td>2</td>\n",
       "      <td>0</td>\n",
       "      <td>88.6</td>\n",
       "      <td>...</td>\n",
       "      <td>1</td>\n",
       "      <td>3.47</td>\n",
       "      <td>2.68</td>\n",
       "      <td>9.0</td>\n",
       "      <td>111</td>\n",
       "      <td>5000</td>\n",
       "      <td>21</td>\n",
       "      <td>27</td>\n",
       "      <td>16500.0</td>\n",
       "      <td>2.0</td>\n",
       "    </tr>\n",
       "    <tr>\n",
       "      <th>2</th>\n",
       "      <td>3</td>\n",
       "      <td>1</td>\n",
       "      <td>alfa-romero Quadrifoglio</td>\n",
       "      <td>1</td>\n",
       "      <td>0</td>\n",
       "      <td>2</td>\n",
       "      <td>2</td>\n",
       "      <td>2</td>\n",
       "      <td>0</td>\n",
       "      <td>94.5</td>\n",
       "      <td>...</td>\n",
       "      <td>1</td>\n",
       "      <td>2.68</td>\n",
       "      <td>3.47</td>\n",
       "      <td>9.0</td>\n",
       "      <td>154</td>\n",
       "      <td>5000</td>\n",
       "      <td>19</td>\n",
       "      <td>26</td>\n",
       "      <td>16500.0</td>\n",
       "      <td>2.0</td>\n",
       "    </tr>\n",
       "    <tr>\n",
       "      <th>3</th>\n",
       "      <td>4</td>\n",
       "      <td>2</td>\n",
       "      <td>audi 100 ls</td>\n",
       "      <td>1</td>\n",
       "      <td>0</td>\n",
       "      <td>4</td>\n",
       "      <td>1</td>\n",
       "      <td>1</td>\n",
       "      <td>0</td>\n",
       "      <td>99.8</td>\n",
       "      <td>...</td>\n",
       "      <td>1</td>\n",
       "      <td>3.19</td>\n",
       "      <td>3.40</td>\n",
       "      <td>10.0</td>\n",
       "      <td>102</td>\n",
       "      <td>5500</td>\n",
       "      <td>24</td>\n",
       "      <td>30</td>\n",
       "      <td>13950.0</td>\n",
       "      <td>3.0</td>\n",
       "    </tr>\n",
       "    <tr>\n",
       "      <th>4</th>\n",
       "      <td>5</td>\n",
       "      <td>2</td>\n",
       "      <td>audi 100ls</td>\n",
       "      <td>1</td>\n",
       "      <td>0</td>\n",
       "      <td>4</td>\n",
       "      <td>1</td>\n",
       "      <td>3</td>\n",
       "      <td>0</td>\n",
       "      <td>99.4</td>\n",
       "      <td>...</td>\n",
       "      <td>1</td>\n",
       "      <td>3.19</td>\n",
       "      <td>3.40</td>\n",
       "      <td>8.0</td>\n",
       "      <td>115</td>\n",
       "      <td>5500</td>\n",
       "      <td>18</td>\n",
       "      <td>22</td>\n",
       "      <td>17450.0</td>\n",
       "      <td>3.0</td>\n",
       "    </tr>\n",
       "  </tbody>\n",
       "</table>\n",
       "<p>5 rows × 27 columns</p>\n",
       "</div>"
      ],
      "text/plain": [
       "   car_ID  symboling                   CarName  fueltype  aspiration  \\\n",
       "0       1          3        alfa-romero giulia         1           0   \n",
       "1       2          3       alfa-romero stelvio         1           0   \n",
       "2       3          1  alfa-romero Quadrifoglio         1           0   \n",
       "3       4          2               audi 100 ls         1           0   \n",
       "4       5          2                audi 100ls         1           0   \n",
       "\n",
       "   doornumber  carbody  drivewheel  enginelocation  wheelbase  ...  \\\n",
       "0           2        5           2               0       88.6  ...   \n",
       "1           2        5           2               0       88.6  ...   \n",
       "2           2        2           2               0       94.5  ...   \n",
       "3           4        1           1               0       99.8  ...   \n",
       "4           4        1           3               0       99.4  ...   \n",
       "\n",
       "   fuelsystem  boreratio  stroke  compressionratio  horsepower  peakrpm  \\\n",
       "0           1       3.47    2.68               9.0         111     5000   \n",
       "1           1       3.47    2.68               9.0         111     5000   \n",
       "2           1       2.68    3.47               9.0         154     5000   \n",
       "3           1       3.19    3.40              10.0         102     5500   \n",
       "4           1       3.19    3.40               8.0         115     5500   \n",
       "\n",
       "   citympg  highwaympg    price  Car  \n",
       "0       21          27  13495.0  2.0  \n",
       "1       21          27  16500.0  2.0  \n",
       "2       19          26  16500.0  2.0  \n",
       "3       24          30  13950.0  3.0  \n",
       "4       18          22  17450.0  3.0  \n",
       "\n",
       "[5 rows x 27 columns]"
      ]
     },
     "execution_count": 15,
     "metadata": {},
     "output_type": "execute_result"
    }
   ],
   "source": [
    "df_cardata.head()"
   ]
  }
 ],
 "metadata": {
  "kernelspec": {
   "display_name": "Python 3",
   "language": "python",
   "name": "python3"
  },
  "language_info": {
   "codemirror_mode": {
    "name": "ipython",
    "version": 3
   },
   "file_extension": ".py",
   "mimetype": "text/x-python",
   "name": "python",
   "nbconvert_exporter": "python",
   "pygments_lexer": "ipython3",
   "version": "3.7.3"
  }
 },
 "nbformat": 4,
 "nbformat_minor": 2
}
