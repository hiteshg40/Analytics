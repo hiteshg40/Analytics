{
 "cells": [
  {
   "cell_type": "markdown",
   "metadata": {},
   "source": [
    "### Identify a model to determine the price of a car and the factors which impact this price\n",
    "- Load the data from .csv file\n",
    "    - Determine the encoding.\n",
    "- Data Preprocessing\n",
    "    - Convert the independent variables from categorical to Numeric.\n",
    "    - Convert the categorigcal variables to dummy variables\n",
    "- Splitting the data into Train and Test and Feature selection\n",
    "    - Split the data set into a Train and Test. Distribution of 70-30 between Train and Test Data\n",
    "    - use the standardized scaling to scale features.\n",
    "- Build the Model\n",
    "    - Use RFE to identify the best 25 Features for the Model. Take the RFE output as the starting Model\n",
    "    - Create Multiple models , Manual changes in the features verify the significance(P-value) and R square of the model.\n",
    "    - Build model on the training data\n",
    "- Residual Analysis for the Model\n",
    "    - Check for the Residual error in the training set. It should be a normal curve and its mean should be ~ zero\n",
    "- Making the prediction on the test data using appropriate Model\n",
    "- Model Evaluation by looking at the R square score and scatter plot distribution\n",
    "\n",
    "### Conclusion based on the Model\n",
    "- `Price` of the car is a factor of the following inouts and these inputs are able to explain upto 90% of the variation in the Price\n",
    "    - `fueltype` - Type of Fuel used by the Car\n",
    "    - `aspiration` -\n",
    "    - `enginelocation` - Location of the engine in the car\n",
    "    - `carwidth` - Width of the car\n",
    "    - `cylindernumber` - \n",
    "    - `enginesize` - \n",
    "    - `boreratio` -\n",
    "    - `Car_bmw`,`Car_buick`,`Car_mitsubushi`, `Car_peugeot`,`Car_porsche`,`Car_saab`,`Car_subaru`,`Car_volvo` - Brand of the Car\n",
    "    - `carbody_convertible` - Type of the Car body\n",
    "    - `enginetype_dohc`,`enginetype_ohc`,`enginetype_ohcv` - Engine Type of the car\n",
    "    - `fuelsystem_idi` - Type of Fuel used by the Car\n"
   ]
  },
  {
   "cell_type": "markdown",
   "metadata": {},
   "source": [
    "### 1 - Load the data from .csv file"
   ]
  },
  {
   "cell_type": "code",
   "execution_count": 1,
   "metadata": {},
   "outputs": [],
   "source": [
    "# Supress Warnings\n",
    "\n",
    "import warnings\n",
    "warnings.filterwarnings('ignore')\n",
    "\n",
    "import numpy as np\n",
    "import pandas as pd\n",
    "\n",
    "df_cardata = pd.read_csv(\"CarPrice_Assignment.csv\",encoding='cp1252')"
   ]
  },
  {
   "cell_type": "code",
   "execution_count": 2,
   "metadata": {},
   "outputs": [
    {
     "data": {
      "text/plain": [
       "(205, 26)"
      ]
     },
     "execution_count": 2,
     "metadata": {},
     "output_type": "execute_result"
    }
   ],
   "source": [
    "df_cardata.shape"
   ]
  },
  {
   "cell_type": "code",
   "execution_count": 3,
   "metadata": {},
   "outputs": [
    {
     "name": "stdout",
     "output_type": "stream",
     "text": [
      "<class 'pandas.core.frame.DataFrame'>\n",
      "RangeIndex: 205 entries, 0 to 204\n",
      "Data columns (total 26 columns):\n",
      "car_ID              205 non-null int64\n",
      "symboling           205 non-null int64\n",
      "CarName             205 non-null object\n",
      "fueltype            205 non-null object\n",
      "aspiration          205 non-null object\n",
      "doornumber          205 non-null object\n",
      "carbody             205 non-null object\n",
      "drivewheel          205 non-null object\n",
      "enginelocation      205 non-null object\n",
      "wheelbase           205 non-null float64\n",
      "carlength           205 non-null float64\n",
      "carwidth            205 non-null float64\n",
      "carheight           205 non-null float64\n",
      "curbweight          205 non-null int64\n",
      "enginetype          205 non-null object\n",
      "cylindernumber      205 non-null object\n",
      "enginesize          205 non-null int64\n",
      "fuelsystem          205 non-null object\n",
      "boreratio           205 non-null float64\n",
      "stroke              205 non-null float64\n",
      "compressionratio    205 non-null float64\n",
      "horsepower          205 non-null int64\n",
      "peakrpm             205 non-null int64\n",
      "citympg             205 non-null int64\n",
      "highwaympg          205 non-null int64\n",
      "price               205 non-null float64\n",
      "dtypes: float64(8), int64(8), object(10)\n",
      "memory usage: 41.7+ KB\n"
     ]
    }
   ],
   "source": [
    "# check the information about the data set\n",
    "df_cardata.info()"
   ]
  },
  {
   "cell_type": "code",
   "execution_count": null,
   "metadata": {},
   "outputs": [],
   "source": []
  },
  {
   "cell_type": "markdown",
   "metadata": {},
   "source": [
    "### 2- Data Pre Processing\n",
    "- Convert the independent variables from categorical to Numeric.\n",
    "- Convert the categorigcal variables to dummy variables"
   ]
  },
  {
   "cell_type": "code",
   "execution_count": 4,
   "metadata": {},
   "outputs": [],
   "source": [
    "#Create a 'Car' column which will hold the value for the car company name\n",
    "df_cardata['CarName'] = df_cardata['CarName'].str.strip()\n",
    "df_cardata['Car'] = df_cardata['CarName'].str.split(expand=True)[0]"
   ]
  },
  {
   "cell_type": "code",
   "execution_count": 5,
   "metadata": {},
   "outputs": [],
   "source": [
    "#Drop the column 'CarName'\n",
    "#Remove the unwanted colun 'CarName' from the dataset\n",
    "df_cardata = df_cardata.drop(\"CarName\", axis=1)"
   ]
  },
  {
   "cell_type": "code",
   "execution_count": 6,
   "metadata": {},
   "outputs": [],
   "source": [
    "# convert categorical values into numeric\n",
    "\n",
    "df_cardata['fueltype'] = pd.Categorical(df_cardata['fueltype']).codes\n",
    "df_cardata['aspiration'] = pd.Categorical(df_cardata['aspiration']).codes\n",
    "df_cardata['enginelocation'] = pd.Categorical(df_cardata['enginelocation']).codes\n"
   ]
  },
  {
   "cell_type": "code",
   "execution_count": 7,
   "metadata": {},
   "outputs": [],
   "source": [
    "#df_cardata['fuelsystem'].value_counts()"
   ]
  },
  {
   "cell_type": "code",
   "execution_count": 8,
   "metadata": {},
   "outputs": [],
   "source": [
    "#Convert categorical to numeric\n",
    "df_cardata['doornumber'] = df_cardata['doornumber'].str.lower()\n",
    "df_cardata['doornumber'] = df_cardata['doornumber'].map({'two': 2, 'four': 4})"
   ]
  },
  {
   "cell_type": "code",
   "execution_count": 9,
   "metadata": {},
   "outputs": [],
   "source": [
    "df_cardata['cylindernumber'] = df_cardata['cylindernumber'].str.strip()\n",
    "df_cardata['cylindernumber'] = df_cardata['cylindernumber'].str.lower()\n",
    "df_cardata['cylindernumber'] = df_cardata['cylindernumber'] \\\n",
    ".map({'six': 6, 'four': 4, 'five':5,'eight' :8, 'two':2, 'twelve':12, 'three':3})"
   ]
  },
  {
   "cell_type": "code",
   "execution_count": null,
   "metadata": {},
   "outputs": [],
   "source": []
  },
  {
   "cell_type": "markdown",
   "metadata": {},
   "source": [
    "#### - Create Dummy variables for the `Car` , `carbody`, `enginetype`,`fuelsystem`,`drivewheel`"
   ]
  },
  {
   "cell_type": "code",
   "execution_count": 10,
   "metadata": {},
   "outputs": [],
   "source": [
    "# Create dummy variable for the categorical values\n",
    "car_catg = pd.get_dummies(df_cardata[['Car','carbody','enginetype','fuelsystem','drivewheel']])\n"
   ]
  },
  {
   "cell_type": "markdown",
   "metadata": {},
   "source": [
    "#### - Concat  the `categorical` dataset with the orignal dataset and drop the appropriate columns such as `car`,`carbody`,`enginetype`,`fuelsystem`,`drivewheel`"
   ]
  },
  {
   "cell_type": "code",
   "execution_count": 11,
   "metadata": {},
   "outputs": [],
   "source": [
    "df_cardata = pd.concat([df_cardata,car_catg], axis=1)"
   ]
  },
  {
   "cell_type": "code",
   "execution_count": 12,
   "metadata": {},
   "outputs": [],
   "source": [
    "#drop the columns\n",
    "df_cardata = df_cardata.drop(['Car','carbody','enginetype','fuelsystem','drivewheel'],axis=1)"
   ]
  },
  {
   "cell_type": "code",
   "execution_count": null,
   "metadata": {},
   "outputs": [],
   "source": [
    "\n"
   ]
  },
  {
   "cell_type": "markdown",
   "metadata": {},
   "source": [
    "### 3 - Splitting the data into Train and Test and Feature selection\n",
    "- Split the data set into a Train and Test. Distribution of 70-30 between Train and Test Data\n",
    "- Use RFE to identify the best 25 Features for the Model. Take the RFE output as the starting Model\n",
    "- Create Multiple models , Remove one feature at a time to verify the significance and R square of the model."
   ]
  },
  {
   "cell_type": "code",
   "execution_count": 13,
   "metadata": {},
   "outputs": [],
   "source": [
    "from sklearn.model_selection import train_test_split\n",
    "from sklearn.linear_model import LinearRegression\n",
    "\n",
    "#define X and y sets\n",
    "X = df_cardata.copy()\n",
    "y = X.pop(\"price\")\n",
    "\n",
    "X_train ,X_test ,y_train, y_test = train_test_split(X ,y ,test_size=0.3 ,random_state=100)"
   ]
  },
  {
   "cell_type": "code",
   "execution_count": 14,
   "metadata": {},
   "outputs": [],
   "source": [
    "from sklearn.preprocessing import StandardScaler\n",
    "lst_scaler_col = ['wheelbase','carlength','carwidth','carheight','curbweight','enginesize','boreratio','stroke', \\\n",
    "                  'compressionratio','horsepower','peakrpm','citympg','highwaympg']\n",
    "scaler = StandardScaler()\n",
    "X_train[lst_scaler_col] = scaler.fit_transform(X_train[lst_scaler_col])"
   ]
  },
  {
   "cell_type": "code",
   "execution_count": null,
   "metadata": {},
   "outputs": [],
   "source": []
  },
  {
   "cell_type": "code",
   "execution_count": null,
   "metadata": {},
   "outputs": [],
   "source": []
  },
  {
   "cell_type": "markdown",
   "metadata": {},
   "source": [
    "####  - Feature selection using RFE since the number of columns are 77 and it cannot be done manually"
   ]
  },
  {
   "cell_type": "code",
   "execution_count": 15,
   "metadata": {},
   "outputs": [
    {
     "data": {
      "text/plain": [
       "Index(['fueltype', 'aspiration', 'enginelocation', 'carwidth',\n",
       "       'cylindernumber', 'enginesize', 'boreratio', 'compressionratio',\n",
       "       'Car_bmw', 'Car_buick', 'Car_mitsubishi', 'Car_peugeot', 'Car_porsche',\n",
       "       'Car_saab', 'Car_subaru', 'Car_volvo', 'carbody_convertible',\n",
       "       'enginetype_dohc', 'enginetype_ohc', 'enginetype_ohcv',\n",
       "       'fuelsystem_1bbl', 'fuelsystem_2bbl', 'fuelsystem_4bbl',\n",
       "       'fuelsystem_idi', 'fuelsystem_spdi'],\n",
       "      dtype='object')"
      ]
     },
     "execution_count": 15,
     "metadata": {},
     "output_type": "execute_result"
    }
   ],
   "source": [
    "# Importing RFE and LinearRegression\n",
    "from sklearn.feature_selection import RFE\n",
    "from sklearn.linear_model import LinearRegression\n",
    "\n",
    "# Running RFE with the output number of the variable equal to 25\n",
    "sk_lm = LinearRegression()\n",
    "sk_lm.fit(X_train, y_train)\n",
    "\n",
    "rfe = RFE(sk_lm, 25)             \n",
    "rfe = rfe.fit(X_train, y_train)\n",
    "\n",
    "col = X_train.columns[rfe.support_]\n",
    "\n",
    "col"
   ]
  },
  {
   "cell_type": "markdown",
   "metadata": {},
   "source": [
    "#### - Create Model 1 using the RFE suggested columns\n"
   ]
  },
  {
   "cell_type": "code",
   "execution_count": 16,
   "metadata": {},
   "outputs": [],
   "source": [
    "import statsmodels.api as sm\n",
    "lst_vars = ['fueltype','aspiration', 'enginelocation', 'carwidth', 'cylindernumber','compressionratio','enginesize',\\\n",
    "            'boreratio','Car_bmw', \\\n",
    "       'Car_buick', 'Car_mitsubishi', 'Car_peugeot', \\\n",
    "       'Car_porsche',  'Car_saab', 'Car_subaru', 'Car_volvo', \\\n",
    "       'carbody_convertible', 'enginetype_dohc', 'enginetype_ohc', \\\n",
    "       'enginetype_ohcv','fuelsystem_1bbl','fuelsystem_2bbl', \\\n",
    "       'fuelsystem_4bbl', 'fuelsystem_idi', 'fuelsystem_spdi']    \n",
    "X_train_lm1 = sm.add_constant(X_train[lst_vars])\n",
    "lr1 = sm.OLS(y_train, X_train_lm1).fit()\n"
   ]
  },
  {
   "cell_type": "code",
   "execution_count": 17,
   "metadata": {},
   "outputs": [
    {
     "name": "stdout",
     "output_type": "stream",
     "text": [
      "                            OLS Regression Results                            \n",
      "==============================================================================\n",
      "Dep. Variable:                  price   R-squared:                       0.946\n",
      "Model:                            OLS   Adj. R-squared:                  0.935\n",
      "Method:                 Least Squares   F-statistic:                     85.68\n",
      "Date:                Thu, 28 Nov 2019   Prob (F-statistic):           2.58e-63\n",
      "Time:                        22:37:32   Log-Likelihood:                -1275.7\n",
      "No. Observations:                 143   AIC:                             2601.\n",
      "Df Residuals:                     118   BIC:                             2676.\n",
      "Df Model:                          24                                         \n",
      "Covariance Type:            nonrobust                                         \n",
      "=======================================================================================\n",
      "                          coef    std err          t      P>|t|      [0.025      0.975]\n",
      "---------------------------------------------------------------------------------------\n",
      "const                1.687e+04   2065.192      8.168      0.000    1.28e+04     2.1e+04\n",
      "fueltype             7478.0040   2774.496      2.695      0.008    1983.747     1.3e+04\n",
      "aspiration           2221.5941    762.744      2.913      0.004     711.153    3732.035\n",
      "enginelocation       5823.6583   2814.857      2.069      0.041     249.475    1.14e+04\n",
      "carwidth             2551.1091    387.521      6.583      0.000    1783.712    3318.506\n",
      "cylindernumber      -1722.6519    572.795     -3.007      0.003   -2856.943    -588.361\n",
      "compressionratio     -743.6866   1737.343     -0.428      0.669   -4184.099    2696.726\n",
      "enginesize           6818.0387    842.237      8.095      0.000    5150.180    8485.898\n",
      "boreratio           -2314.4572    510.976     -4.529      0.000   -3326.329   -1302.585\n",
      "Car_bmw              1.071e+04   1043.497     10.262      0.000    8641.673    1.28e+04\n",
      "Car_buick            4470.8021   1264.583      3.535      0.001    1966.584    6975.020\n",
      "Car_mitsubishi      -2420.8535    957.066     -2.529      0.013   -4316.105    -525.602\n",
      "Car_peugeot         -5870.8760   1679.101     -3.496      0.001   -9195.953   -2545.799\n",
      "Car_porsche          7377.1522   2037.271      3.621      0.000    3342.801    1.14e+04\n",
      "Car_saab             4615.7354   1359.226      3.396      0.001    1924.097    7307.374\n",
      "Car_subaru          -3087.7709   1672.295     -1.846      0.067   -6399.369     223.828\n",
      "Car_volvo            4268.4714   1087.051      3.927      0.000    2115.815    6421.128\n",
      "carbody_convertible  4504.7591   1171.439      3.845      0.000    2184.991    6824.527\n",
      "enginetype_dohc     -5232.8881   1572.849     -3.327      0.001   -8347.557   -2118.219\n",
      "enginetype_ohc      -5910.6174   1308.693     -4.516      0.000   -8502.186   -3319.049\n",
      "enginetype_ohcv     -6952.4421   1726.315     -4.027      0.000   -1.04e+04   -3533.868\n",
      "fuelsystem_1bbl      -859.5915    901.737     -0.953      0.342   -2645.276     926.093\n",
      "fuelsystem_2bbl       474.9797    588.058      0.808      0.421    -689.535    1639.494\n",
      "fuelsystem_4bbl       655.6331   1830.987      0.358      0.721   -2970.220    4281.486\n",
      "fuelsystem_idi       9390.1442   3930.915      2.389      0.018    1605.863    1.72e+04\n",
      "fuelsystem_spdi      -967.1594   1349.434     -0.717      0.475   -3639.407    1705.088\n",
      "==============================================================================\n",
      "Omnibus:                       32.748   Durbin-Watson:                   2.167\n",
      "Prob(Omnibus):                  0.000   Jarque-Bera (JB):               79.240\n",
      "Skew:                           0.920   Prob(JB):                     6.21e-18\n",
      "Kurtosis:                       6.148   Cond. No.                     6.75e+15\n",
      "==============================================================================\n",
      "\n",
      "Warnings:\n",
      "[1] Standard Errors assume that the covariance matrix of the errors is correctly specified.\n",
      "[2] The smallest eigenvalue is 7.26e-29. This might indicate that there are\n",
      "strong multicollinearity problems or that the design matrix is singular.\n"
     ]
    }
   ],
   "source": [
    "print(lr1.summary())"
   ]
  },
  {
   "cell_type": "markdown",
   "metadata": {},
   "source": [
    "- The Model created has a veyr high Adg R Square of 0.935\n",
    "- p-Value of column `fuelsystem_4bbl` is high and this column can be dropped from the Model"
   ]
  },
  {
   "cell_type": "markdown",
   "metadata": {},
   "source": [
    "#### - Create Model 2 using the RFE suggested columns and removing `fuelsystem_4bbl`\n"
   ]
  },
  {
   "cell_type": "code",
   "execution_count": 18,
   "metadata": {},
   "outputs": [
    {
     "name": "stdout",
     "output_type": "stream",
     "text": [
      "                            OLS Regression Results                            \n",
      "==============================================================================\n",
      "Dep. Variable:                  price   R-squared:                       0.946\n",
      "Model:                            OLS   Adj. R-squared:                  0.935\n",
      "Method:                 Least Squares   F-statistic:                     90.06\n",
      "Date:                Thu, 28 Nov 2019   Prob (F-statistic):           2.86e-64\n",
      "Time:                        22:37:32   Log-Likelihood:                -1275.8\n",
      "No. Observations:                 143   AIC:                             2600.\n",
      "Df Residuals:                     119   BIC:                             2671.\n",
      "Df Model:                          23                                         \n",
      "Covariance Type:            nonrobust                                         \n",
      "=======================================================================================\n",
      "                          coef    std err          t      P>|t|      [0.025      0.975]\n",
      "---------------------------------------------------------------------------------------\n",
      "const                1.708e+04   1968.236      8.680      0.000    1.32e+04     2.1e+04\n",
      "fueltype             7750.0580   2658.650      2.915      0.004    2485.666     1.3e+04\n",
      "aspiration           2229.2081    759.650      2.935      0.004     725.026    3733.390\n",
      "enginelocation       5742.6256   2795.450      2.054      0.042     207.356    1.13e+04\n",
      "carwidth             2574.8356    380.413      6.769      0.000    1821.580    3328.091\n",
      "cylindernumber      -1759.2629    561.528     -3.133      0.002   -2871.145    -647.381\n",
      "compressionratio     -655.8374   1713.622     -0.383      0.703   -4048.980    2737.305\n",
      "enginesize           6819.2646    839.140      8.126      0.000    5157.684    8480.845\n",
      "boreratio           -2313.8487    509.098     -4.545      0.000   -3321.914   -1305.783\n",
      "Car_bmw              1.074e+04   1036.391     10.361      0.000    8685.564    1.28e+04\n",
      "Car_buick            4466.5397   1259.886      3.545      0.001    1971.839    6961.241\n",
      "Car_mitsubishi      -2421.1947    953.553     -2.539      0.012   -4309.326    -533.064\n",
      "Car_peugeot         -6184.9243   1426.589     -4.335      0.000   -9009.713   -3360.135\n",
      "Car_porsche          7208.9966   1975.133      3.650      0.000    3298.036    1.11e+04\n",
      "Car_saab             4568.2453   1347.776      3.389      0.001    1899.513    7236.977\n",
      "Car_subaru          -3381.3966   1452.100     -2.329      0.022   -6256.699    -506.095\n",
      "Car_volvo            4226.1540   1076.642      3.925      0.000    2094.295    6358.013\n",
      "carbody_convertible  4500.1147   1167.069      3.856      0.000    2189.202    6811.027\n",
      "enginetype_dohc     -5509.8367   1364.519     -4.038      0.000   -8211.720   -2807.953\n",
      "enginetype_ohc      -6198.1977   1029.488     -6.021      0.000   -8236.686   -4159.709\n",
      "enginetype_ohcv     -7179.7680   1599.452     -4.489      0.000   -1.03e+04   -4012.693\n",
      "fuelsystem_1bbl      -876.0999    897.253     -0.976      0.331   -2652.750     900.551\n",
      "fuelsystem_2bbl       455.7540    583.453      0.781      0.436    -699.540    1611.048\n",
      "fuelsystem_idi       9333.6735   3913.336      2.385      0.019    1584.877    1.71e+04\n",
      "fuelsystem_spdi      -958.2512   1344.254     -0.713      0.477   -3620.008    1703.506\n",
      "==============================================================================\n",
      "Omnibus:                       32.557   Durbin-Watson:                   2.154\n",
      "Prob(Omnibus):                  0.000   Jarque-Bera (JB):               78.845\n",
      "Skew:                           0.914   Prob(JB):                     7.57e-18\n",
      "Kurtosis:                       6.145   Cond. No.                     8.56e+16\n",
      "==============================================================================\n",
      "\n",
      "Warnings:\n",
      "[1] Standard Errors assume that the covariance matrix of the errors is correctly specified.\n",
      "[2] The smallest eigenvalue is 4.51e-31. This might indicate that there are\n",
      "strong multicollinearity problems or that the design matrix is singular.\n"
     ]
    }
   ],
   "source": [
    "# Remove the col - fuelsystem_4bbl\n",
    "lst_vars = ['fueltype','aspiration', 'enginelocation', 'carwidth', 'cylindernumber','compressionratio','enginesize',\\\n",
    "            'boreratio','Car_bmw', \\\n",
    "       'Car_buick', 'Car_mitsubishi', 'Car_peugeot', \\\n",
    "       'Car_porsche',  'Car_saab', 'Car_subaru', 'Car_volvo', \\\n",
    "       'carbody_convertible', 'enginetype_dohc', 'enginetype_ohc', \\\n",
    "       'enginetype_ohcv','fuelsystem_1bbl','fuelsystem_2bbl', \\\n",
    "        'fuelsystem_idi', 'fuelsystem_spdi']  \n",
    "\n",
    "X_train_lm2 = sm.add_constant(X_train[lst_vars])\n",
    "lr2 = sm.OLS(y_train, X_train_lm2).fit()\n",
    "print(lr2.summary())"
   ]
  },
  {
   "cell_type": "markdown",
   "metadata": {},
   "source": [
    "- The Model created has a veyr high Adg R Square of 0.935\n",
    "- P-Value of column `compressionratio` is high and this column can be dropped from the Model"
   ]
  },
  {
   "cell_type": "markdown",
   "metadata": {},
   "source": [
    "#### - Create Model 3 using the RFE suggested columns\n"
   ]
  },
  {
   "cell_type": "code",
   "execution_count": 19,
   "metadata": {},
   "outputs": [
    {
     "name": "stdout",
     "output_type": "stream",
     "text": [
      "                            OLS Regression Results                            \n",
      "==============================================================================\n",
      "Dep. Variable:                  price   R-squared:                       0.946\n",
      "Model:                            OLS   Adj. R-squared:                  0.936\n",
      "Method:                 Least Squares   F-statistic:                     94.82\n",
      "Date:                Thu, 28 Nov 2019   Prob (F-statistic):           3.11e-65\n",
      "Time:                        22:37:32   Log-Likelihood:                -1275.9\n",
      "No. Observations:                 143   AIC:                             2598.\n",
      "Df Residuals:                     120   BIC:                             2666.\n",
      "Df Model:                          22                                         \n",
      "Covariance Type:            nonrobust                                         \n",
      "=======================================================================================\n",
      "                          coef    std err          t      P>|t|      [0.025      0.975]\n",
      "---------------------------------------------------------------------------------------\n",
      "const                1.659e+04   1479.229     11.215      0.000    1.37e+04    1.95e+04\n",
      "fueltype             8717.4846    820.968     10.619      0.000    7092.024    1.03e+04\n",
      "aspiration           2386.3452    636.857      3.747      0.000    1125.413    3647.277\n",
      "enginelocation       5793.1703   2782.380      2.082      0.039     284.252    1.13e+04\n",
      "carwidth             2579.5941    378.855      6.809      0.000    1829.487    3329.701\n",
      "cylindernumber      -1848.5275    508.978     -3.632      0.000   -2856.268    -840.787\n",
      "enginesize           6922.1942    792.042      8.740      0.000    5354.005    8490.383\n",
      "boreratio           -2346.7004    500.022     -4.693      0.000   -3336.709   -1356.692\n",
      "Car_bmw              1.079e+04   1022.992     10.549      0.000    8766.525    1.28e+04\n",
      "Car_buick            4524.5089   1246.292      3.630      0.000    2056.937    6992.081\n",
      "Car_mitsubishi      -2406.0785    949.341     -2.534      0.013   -4285.707    -526.450\n",
      "Car_peugeot         -5960.7532   1296.164     -4.599      0.000   -8527.067   -3394.439\n",
      "Car_porsche          7199.4587   1967.940      3.658      0.000    3303.075    1.11e+04\n",
      "Car_saab             4476.4145   1321.521      3.387      0.001    1859.895    7092.934\n",
      "Car_subaru          -3201.3919   1368.926     -2.339      0.021   -5911.770    -491.014\n",
      "Car_volvo            4132.2280   1044.563      3.956      0.000    2064.065    6200.391\n",
      "carbody_convertible  4540.6398   1158.114      3.921      0.000    2247.654    6833.626\n",
      "enginetype_dohc     -5438.6133   1346.953     -4.038      0.000   -8105.487   -2771.740\n",
      "enginetype_ohc      -6070.4475    970.402     -6.256      0.000   -7991.776   -4149.119\n",
      "enginetype_ohcv     -7051.2815   1558.251     -4.525      0.000   -1.01e+04   -3966.054\n",
      "fuelsystem_1bbl      -936.9660    879.900     -1.065      0.289   -2679.107     805.175\n",
      "fuelsystem_2bbl       415.8645    572.023      0.727      0.469    -716.700    1548.429\n",
      "fuelsystem_idi       7871.6403    846.060      9.304      0.000    6196.501    9546.780\n",
      "fuelsystem_spdi      -900.8703   1331.107     -0.677      0.500   -3536.370    1734.630\n",
      "==============================================================================\n",
      "Omnibus:                       33.930   Durbin-Watson:                   2.152\n",
      "Prob(Omnibus):                  0.000   Jarque-Bera (JB):               85.803\n",
      "Skew:                           0.937   Prob(JB):                     2.33e-19\n",
      "Kurtosis:                       6.300   Cond. No.                     8.56e+16\n",
      "==============================================================================\n",
      "\n",
      "Warnings:\n",
      "[1] Standard Errors assume that the covariance matrix of the errors is correctly specified.\n",
      "[2] The smallest eigenvalue is 4.51e-31. This might indicate that there are\n",
      "strong multicollinearity problems or that the design matrix is singular.\n"
     ]
    }
   ],
   "source": [
    "# Remove the col - 'compressionratio'\n",
    "lst_vars = ['fueltype','aspiration', 'enginelocation', 'carwidth', 'cylindernumber','enginesize',\\\n",
    "            'boreratio','Car_bmw', \\\n",
    "       'Car_buick', 'Car_mitsubishi', 'Car_peugeot', \\\n",
    "       'Car_porsche',  'Car_saab', 'Car_subaru', 'Car_volvo', \\\n",
    "       'carbody_convertible', 'enginetype_dohc', 'enginetype_ohc', \\\n",
    "       'enginetype_ohcv','fuelsystem_1bbl','fuelsystem_2bbl', \\\n",
    "        'fuelsystem_idi', 'fuelsystem_spdi']   \n",
    "\n",
    "X_train_lm3 = sm.add_constant(X_train[lst_vars])\n",
    "lr3 = sm.OLS(y_train, X_train_lm3).fit()\n",
    "print(lr3.summary())"
   ]
  },
  {
   "cell_type": "markdown",
   "metadata": {},
   "source": [
    "- The Model created has a veyr high Adg R Square of 0.936\n",
    "- P-Value of column `fuelsystem_2bbl` is high and this column can be dropped from the Model"
   ]
  },
  {
   "cell_type": "markdown",
   "metadata": {},
   "source": [
    "#### - Create Model 4 using the RFE suggested columns"
   ]
  },
  {
   "cell_type": "code",
   "execution_count": 20,
   "metadata": {},
   "outputs": [
    {
     "name": "stdout",
     "output_type": "stream",
     "text": [
      "                            OLS Regression Results                            \n",
      "==============================================================================\n",
      "Dep. Variable:                  price   R-squared:                       0.945\n",
      "Model:                            OLS   Adj. R-squared:                  0.936\n",
      "Method:                 Least Squares   F-statistic:                     99.70\n",
      "Date:                Thu, 28 Nov 2019   Prob (F-statistic):           3.99e-66\n",
      "Time:                        22:37:32   Log-Likelihood:                -1276.2\n",
      "No. Observations:                 143   AIC:                             2596.\n",
      "Df Residuals:                     121   BIC:                             2662.\n",
      "Df Model:                          21                                         \n",
      "Covariance Type:            nonrobust                                         \n",
      "=======================================================================================\n",
      "                          coef    std err          t      P>|t|      [0.025      0.975]\n",
      "---------------------------------------------------------------------------------------\n",
      "const                1.647e+04   1467.809     11.223      0.000    1.36e+04    1.94e+04\n",
      "fueltype             8713.9150    819.353     10.635      0.000    7091.790    1.03e+04\n",
      "aspiration           2299.4063    624.309      3.683      0.000    1063.423    3535.390\n",
      "enginelocation       5611.1709   2765.691      2.029      0.045     135.756    1.11e+04\n",
      "carwidth             2475.5430    350.097      7.071      0.000    1782.434    3168.652\n",
      "cylindernumber      -1798.2686    503.278     -3.573      0.001   -2794.640    -801.898\n",
      "enginesize           6886.7725    789.001      8.728      0.000    5324.737    8448.808\n",
      "boreratio           -2353.0845    498.970     -4.716      0.000   -3340.927   -1365.242\n",
      "Car_bmw              1.059e+04    983.382     10.771      0.000    8645.101    1.25e+04\n",
      "Car_buick            4752.7462   1203.752      3.948      0.000    2369.602    7135.890\n",
      "Car_mitsubishi      -2259.8008    925.965     -2.440      0.016   -4092.992    -426.610\n",
      "Car_peugeot         -5795.8507   1273.674     -4.550      0.000   -8317.425   -3274.277\n",
      "Car_porsche          7229.8573   1963.658      3.682      0.000    3342.277    1.11e+04\n",
      "Car_saab             4383.6633   1312.783      3.339      0.001    1784.662    6982.664\n",
      "Car_subaru          -3047.8753   1349.904     -2.258      0.026   -5720.366    -375.384\n",
      "Car_volvo            4120.9321   1042.411      3.953      0.000    2057.204    6184.660\n",
      "carbody_convertible  4364.0867   1130.158      3.861      0.000    2126.641    6601.533\n",
      "enginetype_dohc     -5451.5687   1344.209     -4.056      0.000   -8112.784   -2790.353\n",
      "enginetype_ohc      -5954.2517    955.283     -6.233      0.000   -7845.486   -4063.017\n",
      "enginetype_ohcv     -7115.9127   1552.679     -4.583      0.000   -1.02e+04   -4041.976\n",
      "fuelsystem_1bbl     -1232.1265    779.114     -1.581      0.116   -2774.588     310.335\n",
      "fuelsystem_idi       7759.7356    830.318      9.346      0.000    6115.903    9403.568\n",
      "fuelsystem_spdi     -1170.0307   1276.090     -0.917      0.361   -3696.388    1356.327\n",
      "==============================================================================\n",
      "Omnibus:                       33.132   Durbin-Watson:                   2.157\n",
      "Prob(Omnibus):                  0.000   Jarque-Bera (JB):               85.047\n",
      "Skew:                           0.907   Prob(JB):                     3.41e-19\n",
      "Kurtosis:                       6.314   Cond. No.                     8.53e+16\n",
      "==============================================================================\n",
      "\n",
      "Warnings:\n",
      "[1] Standard Errors assume that the covariance matrix of the errors is correctly specified.\n",
      "[2] The smallest eigenvalue is 4.53e-31. This might indicate that there are\n",
      "strong multicollinearity problems or that the design matrix is singular.\n"
     ]
    }
   ],
   "source": [
    "#Removing 'fuelsystem_2bbl'\n",
    "lst_vars =['fueltype','aspiration', 'enginelocation', 'carwidth', 'cylindernumber','enginesize',\\\n",
    "            'boreratio','Car_bmw', \\\n",
    "       'Car_buick', 'Car_mitsubishi', 'Car_peugeot', \\\n",
    "       'Car_porsche',  'Car_saab', 'Car_subaru', 'Car_volvo', \\\n",
    "       'carbody_convertible', 'enginetype_dohc', 'enginetype_ohc', \\\n",
    "       'enginetype_ohcv','fuelsystem_1bbl', \\\n",
    "        'fuelsystem_idi', 'fuelsystem_spdi'] \n",
    "\n",
    "X_train_lm4 = sm.add_constant(X_train[lst_vars])\n",
    "lr4 = sm.OLS(y_train, X_train_lm4).fit()\n",
    "print(lr4.summary())"
   ]
  },
  {
   "cell_type": "markdown",
   "metadata": {},
   "source": [
    "- The Model created has a veyr high Adg R Square of 0.936\n",
    "- P-Value of column `fuelsystem_spdi` is high and this column can be dropped from the Model"
   ]
  },
  {
   "cell_type": "markdown",
   "metadata": {},
   "source": [
    "#### - Create Model 5 using the RFE suggested columns"
   ]
  },
  {
   "cell_type": "code",
   "execution_count": 21,
   "metadata": {},
   "outputs": [
    {
     "name": "stdout",
     "output_type": "stream",
     "text": [
      "                            OLS Regression Results                            \n",
      "==============================================================================\n",
      "Dep. Variable:                  price   R-squared:                       0.945\n",
      "Model:                            OLS   Adj. R-squared:                  0.936\n",
      "Method:                 Least Squares   F-statistic:                     104.8\n",
      "Date:                Thu, 28 Nov 2019   Prob (F-statistic):           5.82e-67\n",
      "Time:                        22:37:32   Log-Likelihood:                -1276.7\n",
      "No. Observations:                 143   AIC:                             2595.\n",
      "Df Residuals:                     122   BIC:                             2658.\n",
      "Df Model:                          20                                         \n",
      "Covariance Type:            nonrobust                                         \n",
      "=======================================================================================\n",
      "                          coef    std err          t      P>|t|      [0.025      0.975]\n",
      "---------------------------------------------------------------------------------------\n",
      "const                1.644e+04   1466.381     11.211      0.000    1.35e+04    1.93e+04\n",
      "fueltype             8628.8922    813.557     10.606      0.000    7018.375    1.02e+04\n",
      "aspiration           2019.0866    543.970      3.712      0.000     942.243    3095.930\n",
      "enginelocation       5777.0665   2757.964      2.095      0.038     317.402    1.12e+04\n",
      "carwidth             2528.2831    345.114      7.326      0.000    1845.096    3211.470\n",
      "cylindernumber      -1777.3190    502.430     -3.537      0.001   -2771.930    -782.708\n",
      "enginesize           6815.9864    784.702      8.686      0.000    5262.591    8369.382\n",
      "boreratio           -2355.5799    498.637     -4.724      0.000   -3342.681   -1368.479\n",
      "Car_bmw              1.063e+04    981.970     10.823      0.000    8683.742    1.26e+04\n",
      "Car_buick            4812.7001   1201.189      4.007      0.000    2434.826    7190.574\n",
      "Car_mitsubishi      -2740.3172    762.887     -3.592      0.000   -4250.528   -1230.106\n",
      "Car_peugeot         -5689.3374   1267.537     -4.488      0.000   -8198.553   -3180.121\n",
      "Car_porsche          7201.2309   1962.128      3.670      0.000    3317.003    1.11e+04\n",
      "Car_saab             4446.3655   1310.145      3.394      0.001    1852.803    7039.928\n",
      "Car_subaru          -2971.0230   1346.419     -2.207      0.029   -5636.394    -305.652\n",
      "Car_volvo            4215.8556   1036.580      4.067      0.000    2163.842    6267.869\n",
      "carbody_convertible  4346.8164   1129.263      3.849      0.000    2111.327    6582.305\n",
      "enginetype_dohc     -5361.4721   1339.737     -4.002      0.000   -8013.615   -2709.330\n",
      "enginetype_ohc      -5930.9357    954.321     -6.215      0.000   -7820.109   -4041.763\n",
      "enginetype_ohcv     -7059.8047   1550.459     -4.553      0.000   -1.01e+04   -3990.516\n",
      "fuelsystem_1bbl     -1234.7488    778.600     -1.586      0.115   -2776.065     306.568\n",
      "fuelsystem_idi       7810.7348    827.911      9.434      0.000    6171.802    9449.668\n",
      "==============================================================================\n",
      "Omnibus:                       32.157   Durbin-Watson:                   2.136\n",
      "Prob(Omnibus):                  0.000   Jarque-Bera (JB):               80.075\n",
      "Skew:                           0.891   Prob(JB):                     4.09e-18\n",
      "Kurtosis:                       6.204   Cond. No.                     8.53e+16\n",
      "==============================================================================\n",
      "\n",
      "Warnings:\n",
      "[1] Standard Errors assume that the covariance matrix of the errors is correctly specified.\n",
      "[2] The smallest eigenvalue is 4.53e-31. This might indicate that there are\n",
      "strong multicollinearity problems or that the design matrix is singular.\n"
     ]
    }
   ],
   "source": [
    "#Removing column - fuelsystem_spdi\n",
    "lst_vars = ['fueltype','aspiration', 'enginelocation', 'carwidth', 'cylindernumber','enginesize',\\\n",
    "            'boreratio','Car_bmw', \\\n",
    "       'Car_buick', 'Car_mitsubishi', 'Car_peugeot', \\\n",
    "       'Car_porsche',  'Car_saab', 'Car_subaru', 'Car_volvo', \\\n",
    "       'carbody_convertible', 'enginetype_dohc', 'enginetype_ohc', \\\n",
    "       'enginetype_ohcv','fuelsystem_1bbl', \\\n",
    "        'fuelsystem_idi']  \n",
    "\n",
    "X_train_lm5 = sm.add_constant(X_train[lst_vars])\n",
    "lr5 = sm.OLS(y_train, X_train_lm5).fit()\n",
    "print(lr5.summary())\n"
   ]
  },
  {
   "cell_type": "markdown",
   "metadata": {},
   "source": [
    "- The Model created has a veyr high Adg R Square of 0.936\n",
    "- P-Value of column `fuelsystem_1bbl` is high and this column can be dropped from the Model\n",
    "\n",
    "#### - Create Model 6 by removing `fuelsystem_1bbl`"
   ]
  },
  {
   "cell_type": "code",
   "execution_count": 22,
   "metadata": {},
   "outputs": [
    {
     "name": "stdout",
     "output_type": "stream",
     "text": [
      "                            OLS Regression Results                            \n",
      "==============================================================================\n",
      "Dep. Variable:                  price   R-squared:                       0.944\n",
      "Model:                            OLS   Adj. R-squared:                  0.935\n",
      "Method:                 Least Squares   F-statistic:                     108.8\n",
      "Date:                Thu, 28 Nov 2019   Prob (F-statistic):           1.89e-67\n",
      "Time:                        22:37:32   Log-Likelihood:                -1278.2\n",
      "No. Observations:                 143   AIC:                             2596.\n",
      "Df Residuals:                     123   BIC:                             2656.\n",
      "Df Model:                          19                                         \n",
      "Covariance Type:            nonrobust                                         \n",
      "=======================================================================================\n",
      "                          coef    std err          t      P>|t|      [0.025      0.975]\n",
      "---------------------------------------------------------------------------------------\n",
      "const                1.604e+04   1453.285     11.036      0.000    1.32e+04    1.89e+04\n",
      "fueltype             8379.5995    803.126     10.434      0.000    6789.861    9969.338\n",
      "aspiration           2078.7152    546.001      3.807      0.000     997.940    3159.490\n",
      "enginelocation       6021.1377   2770.572      2.173      0.032     536.960    1.15e+04\n",
      "carwidth             2533.5040    347.217      7.297      0.000    1846.210    3220.798\n",
      "cylindernumber      -1623.4063    495.994     -3.273      0.001   -2605.196    -641.616\n",
      "enginesize           6571.4797    774.130      8.489      0.000    5039.137    8103.822\n",
      "boreratio           -2127.4075    480.359     -4.429      0.000   -3078.248   -1176.567\n",
      "Car_bmw              1.064e+04    987.956     10.772      0.000    8686.646    1.26e+04\n",
      "Car_buick            4735.3135   1207.566      3.921      0.000    2345.010    7125.617\n",
      "Car_mitsubishi      -2632.9799    764.544     -3.444      0.001   -4146.347   -1119.613\n",
      "Car_peugeot         -5925.8055   1266.464     -4.679      0.000   -8432.693   -3418.918\n",
      "Car_porsche          6719.8766   1950.410      3.445      0.001    2859.160    1.06e+04\n",
      "Car_saab             4284.2947   1314.172      3.260      0.001    1682.972    6885.617\n",
      "Car_subaru          -3327.1593   1335.710     -2.491      0.014   -5971.114    -683.204\n",
      "Car_volvo            4045.6105   1037.336      3.900      0.000    1992.268    6098.953\n",
      "carbody_convertible  4334.5013   1136.169      3.815      0.000    2085.524    6583.479\n",
      "enginetype_dohc     -5336.0378   1347.865     -3.959      0.000   -8004.055   -2668.021\n",
      "enginetype_ohc      -6022.4014    958.424     -6.284      0.000   -7919.544   -4125.259\n",
      "enginetype_ohcv     -7066.9741   1559.971     -4.530      0.000   -1.02e+04   -3979.106\n",
      "fuelsystem_idi       7659.0483    827.416      9.257      0.000    6021.228    9296.868\n",
      "==============================================================================\n",
      "Omnibus:                       31.905   Durbin-Watson:                   2.105\n",
      "Prob(Omnibus):                  0.000   Jarque-Bera (JB):               75.263\n",
      "Skew:                           0.906   Prob(JB):                     4.54e-17\n",
      "Kurtosis:                       6.057   Cond. No.                     8.50e+16\n",
      "==============================================================================\n",
      "\n",
      "Warnings:\n",
      "[1] Standard Errors assume that the covariance matrix of the errors is correctly specified.\n",
      "[2] The smallest eigenvalue is 4.56e-31. This might indicate that there are\n",
      "strong multicollinearity problems or that the design matrix is singular.\n"
     ]
    }
   ],
   "source": [
    "#Removing column - fuelsystem_1bbl\n",
    "lst_vars = ['fueltype','aspiration', 'enginelocation', 'carwidth', 'cylindernumber','enginesize',\\\n",
    "            'boreratio','Car_bmw', \\\n",
    "       'Car_buick', 'Car_mitsubishi', 'Car_peugeot', \\\n",
    "       'Car_porsche',  'Car_saab', 'Car_subaru', 'Car_volvo', \\\n",
    "       'carbody_convertible', 'enginetype_dohc', 'enginetype_ohc', \\\n",
    "       'enginetype_ohcv', \\\n",
    "        'fuelsystem_idi']  \n",
    "\n",
    "X_train_lm6 = sm.add_constant(X_train[lst_vars])\n",
    "lr6 = sm.OLS(y_train, X_train_lm6).fit()\n",
    "print(lr6.summary())"
   ]
  },
  {
   "cell_type": "markdown",
   "metadata": {},
   "source": [
    "- The Model created has a very high Adg R Square of 0.935\n",
    "- All the columns have a low P-Value (<0.05) and hecne this Model is a good one"
   ]
  },
  {
   "cell_type": "markdown",
   "metadata": {},
   "source": [
    "### 4 - Residual Analysis for the Model\n",
    "- Check for the Residual error in the training set. It should be a normal curve and its mean should be ~ zero"
   ]
  },
  {
   "cell_type": "code",
   "execution_count": 23,
   "metadata": {},
   "outputs": [],
   "source": [
    "y_train_pred = lr6.predict(X_train_lm6)"
   ]
  },
  {
   "cell_type": "code",
   "execution_count": 24,
   "metadata": {},
   "outputs": [
    {
     "data": {
      "text/plain": [
       "Text(0.5, 0, 'Errors')"
      ]
     },
     "execution_count": 24,
     "metadata": {},
     "output_type": "execute_result"
    }
   ],
   "source": [
    "import seaborn as sb\n",
    "import matplotlib.pyplot as plt\n",
    "\n",
    "fig = plt.figure()\n",
    "sb.distplot(lr6.resid, bins = 20)\n",
    "fig.suptitle('Error Terms', fontsize = 20)                  \n",
    "plt.xlabel('Errors', fontsize = 18)   \n"
   ]
  },
  {
   "cell_type": "markdown",
   "metadata": {},
   "source": [
    "#### Error have a normal distribution and mean is near 0. Other assumptions related to variance and homoscedasticity can be looked at"
   ]
  },
  {
   "cell_type": "code",
   "execution_count": null,
   "metadata": {},
   "outputs": [],
   "source": []
  },
  {
   "cell_type": "code",
   "execution_count": null,
   "metadata": {},
   "outputs": [],
   "source": []
  },
  {
   "cell_type": "code",
   "execution_count": 25,
   "metadata": {},
   "outputs": [
    {
     "data": {
      "text/plain": [
       "Text(0, 0.5, 'Residual - (y_train - Y_train_pred)')"
      ]
     },
     "execution_count": 25,
     "metadata": {},
     "output_type": "execute_result"
    },
    {
     "data": {
      "image/png": "[encoded data removed]",
      "text/plain": [
       "<Figure size 432x288 with 1 Axes>"
      ]
     },
     "metadata": {
      "needs_background": "light"
     },
     "output_type": "display_data"
    }
   ],
   "source": [
    "#Plotting the Residual Vs predicted graph\n",
    "plt.scatter( y_train_pred,lr6.resid)\n",
    "fig.suptitle('Error Terms', fontsize = 20)                  \n",
    "plt.xlabel('Y_train_pred', fontsize = 18)\n",
    "plt.ylabel('Residual - (y_train - Y_train_pred)', fontsize = 18)"
   ]
  },
  {
   "cell_type": "markdown",
   "metadata": {},
   "source": [
    "#### The Residual shows no pattern of a funnel and seems to have a constant variance. Homoscedasticity can be looked at"
   ]
  },
  {
   "cell_type": "code",
   "execution_count": 26,
   "metadata": {},
   "outputs": [
    {
     "name": "stdout",
     "output_type": "stream",
     "text": [
      "[('Lagrange multiplier statistic', 32.65949215878868), ('p-value', 0.03675842098357339), ('f-value', 1.9161343630611052), ('f p-value', 0.018290364789152448)]\n"
     ]
    }
   ],
   "source": [
    "import statsmodels.stats.api as sms\n",
    "from statsmodels.compat import lzip\n",
    "name = ['Lagrange multiplier statistic', 'p-value','f-value', 'f p-value']\n",
    "test = sms.het_breuschpagan(lr6.resid, lr6.model.exog)\n",
    "print (lzip(name, test))\n"
   ]
  },
  {
   "cell_type": "markdown",
   "metadata": {},
   "source": [
    "#### Null hypothesis of the residuals having constant variance is rejected since the -value < 0.05. "
   ]
  },
  {
   "cell_type": "markdown",
   "metadata": {},
   "source": [
    "#### Model 5 seems to be a good Model\n",
    "- Error are at mean ~ 0 and normally distributed. \n",
    "- Residual Vs Prediction seems to show homoscedasticity when plotted and has a lower value than 0.05 when looked at statistically"
   ]
  },
  {
   "cell_type": "markdown",
   "metadata": {},
   "source": [
    "### 5 - Making the prediction on the test data using Model 6"
   ]
  },
  {
   "cell_type": "code",
   "execution_count": 27,
   "metadata": {},
   "outputs": [],
   "source": [
    "# Scale the Test set as per the Train dataset\n",
    "lst_scaler_col = ['wheelbase','carlength','carwidth','carheight','curbweight','enginesize','boreratio','stroke', \\\n",
    "                  'compressionratio','horsepower','peakrpm','citympg','highwaympg']\n",
    "\n",
    "X_test[lst_scaler_col] = scaler.transform(X_test[lst_scaler_col])"
   ]
  },
  {
   "cell_type": "code",
   "execution_count": 28,
   "metadata": {},
   "outputs": [],
   "source": [
    "#Add the next best co-related column - 'Car'\n",
    "lst_vars = ['fueltype','aspiration', 'enginelocation', 'carwidth', 'cylindernumber','enginesize',\\\n",
    "            'boreratio','Car_bmw', \\\n",
    "       'Car_buick', 'Car_mitsubishi', 'Car_peugeot', \\\n",
    "       'Car_porsche',  'Car_saab', 'Car_subaru', 'Car_volvo', \\\n",
    "       'carbody_convertible', 'enginetype_dohc', 'enginetype_ohc', \\\n",
    "       'enginetype_ohcv', \\\n",
    "        'fuelsystem_idi']  \n",
    "\n",
    "X_test_lm = sm.add_constant(X_test[lst_vars])\n",
    "y_test_pred = lr6.predict(X_test_lm)\n"
   ]
  },
  {
   "cell_type": "code",
   "execution_count": null,
   "metadata": {},
   "outputs": [],
   "source": []
  },
  {
   "cell_type": "code",
   "execution_count": 29,
   "metadata": {},
   "outputs": [
    {
     "data": {
      "text/plain": [
       "Text(0, 0.5, 'Residual - (y_test - Y_test_pred)')"
      ]
     },
     "execution_count": 29,
     "metadata": {},
     "output_type": "execute_result"
    },
    {
     "data": {
      "image/png": "[encoded data removed]",
      "text/plain": [
       "<Figure size 432x288 with 1 Axes>"
      ]
     },
     "metadata": {
      "needs_background": "light"
     },
     "output_type": "display_data"
    }
   ],
   "source": [
    "#Plotting the Residual Vs predicted graph\n",
    "#plt.scatter( y_train_pred,(y_train - y_train_pred))\n",
    "plt.scatter( y_test_pred,(y_test - y_test_pred))\n",
    "fig.suptitle('Error Terms', fontsize = 20)                  \n",
    "plt.xlabel('Y_test_pred', fontsize = 18)\n",
    "plt.ylabel('Residual - (y_test - Y_test_pred)', fontsize = 18)"
   ]
  },
  {
   "cell_type": "code",
   "execution_count": 30,
   "metadata": {},
   "outputs": [
    {
     "name": "stdout",
     "output_type": "stream",
     "text": [
      "[('Lagrange multiplier statistic', 31.35621152270831), ('p-value', 0.05066008133942191), ('f-value', 2.444427044644184), ('f p-value', 0.008352628777348077)]\n"
     ]
    }
   ],
   "source": [
    "import statsmodels.stats.api as sms\n",
    "from statsmodels.compat import lzip\n",
    "name = ['Lagrange multiplier statistic', 'p-value','f-value', 'f p-value']\n",
    "test = sms.het_breuschpagan((y_test - y_test_pred), X_test_lm)\n",
    "print (lzip(name, test))"
   ]
  },
  {
   "cell_type": "code",
   "execution_count": 31,
   "metadata": {},
   "outputs": [
    {
     "data": {
      "text/plain": [
       "0.9145812691505445"
      ]
     },
     "execution_count": 31,
     "metadata": {},
     "output_type": "execute_result"
    }
   ],
   "source": [
    "from sklearn.metrics import r2_score\n",
    "r2_score(y_test, y_test_pred)\n"
   ]
  },
  {
   "cell_type": "markdown",
   "metadata": {},
   "source": [
    "### 6- Model Evaluation by looking at the R square score . Score of 0.914 achieved on the Test data. Also statistically the residual qualify the homoscedasticity test p > 0.05"
   ]
  },
  {
   "cell_type": "code",
   "execution_count": 32,
   "metadata": {},
   "outputs": [
    {
     "data": {
      "text/plain": [
       "Text(0, 0.5, 'y_pred')"
      ]
     },
     "execution_count": 32,
     "metadata": {},
     "output_type": "execute_result"
    },
    {
     "data": {
      "image/png": "[encoded data removed]",
      "text/plain": [
       "<Figure size 432x288 with 1 Axes>"
      ]
     },
     "metadata": {
      "needs_background": "light"
     },
     "output_type": "display_data"
    }
   ],
   "source": [
    "fig = plt.figure()\n",
    "plt.scatter(y_test, y_test_pred)\n",
    "fig.suptitle('y_test vs y_pred', fontsize = 20)             \n",
    "plt.xlabel('y_test', fontsize = 18)                          \n",
    "plt.ylabel('y_pred', fontsize = 16)    "
   ]
  },
  {
   "cell_type": "markdown",
   "metadata": {},
   "source": [
    "#### The test values and the predicted values are more or less in the same range and hence this seems like a good model"
   ]
  }
 ],
 "metadata": {
  "kernelspec": {
   "display_name": "Python 3",
   "language": "python",
   "name": "python3"
  },
  "language_info": {
   "codemirror_mode": {
    "name": "ipython",
    "version": 3
   },
   "file_extension": ".py",
   "mimetype": "text/x-python",
   "name": "python",
   "nbconvert_exporter": "python",
   "pygments_lexer": "ipython3",
   "version": "3.7.3"
  }
 },
 "nbformat": 4,
 "nbformat_minor": 2
}
