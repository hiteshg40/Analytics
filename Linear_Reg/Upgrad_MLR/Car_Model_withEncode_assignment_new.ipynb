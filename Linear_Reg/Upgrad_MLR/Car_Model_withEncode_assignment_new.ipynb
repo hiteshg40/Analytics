{
 "cells": [
  {
   "cell_type": "markdown",
   "metadata": {},
   "source": [
    "### Identify a model to determine the price of a car and the factors which impact this price\n",
    "- Load the data from .csv file\n",
    "    - Determine the encoding.\n",
    "- Data Preprocessing\n",
    "    - Convert the independent variables from categorical to Numeric.\n",
    "    - Convert the categorigcal variables to dummy variables\n",
    "- Splitting the data into Train and Test and Feature selection\n",
    "    - Split the data set into a Train and Test. Distribution of 70-30 between Train and Test Data\n",
    "    - use the standardized scaling to scale features.\n",
    "- Build the Model\n",
    "    - Use RFE to identify the best 25 Features for the Model. Take the RFE output as the starting Model\n",
    "    - Create Multiple models , Manual changes in the features verify the significance(P-value) and R square of the model.\n",
    "    - Build model on the training data\n",
    "- Residual Analysis for the Model\n",
    "    - Check for the Residual error in the training set. It should be a normal curve and its mean should be ~ zero\n",
    "- Making the prediction on the test data using appropriate Model\n",
    "- Model Evaluation by looking at the R square score and scatter plot distribution\n",
    "\n",
    "### Conclusion based on the Model\n",
    "- `Price` of the car is a factor of the following inouts and these inputs are able to explain upto 90% of the variation in the Price\n",
    "    - `fueltype` - Type of Fuel used by the Car\n",
    "    - `aspiration` -\n",
    "    - `enginelocation` - Location of the engine in the car\n",
    "    - `carwidth` - Width of the car\n",
    "    - `cylindernumber` - \n",
    "    - `enginesize` - \n",
    "    - `boreratio` -\n",
    "    - `Car_bmw`,`Car_buick`,`Car_mitsubushi`, `Car_peugeot`,`Car_porsche`,`Car_saab`,`Car_subaru`,`Car_volvo` - Brand of the Car\n",
    "    - `carbody_convertible` - Type of the Car body\n",
    "    - `enginetype_dohc`,`enginetype_ohc`,`enginetype_ohcv` - Engine Type of the car\n",
    "    - `fuelsystem_idi` - Type of Fuel used by the Car\n"
   ]
  },
  {
   "cell_type": "markdown",
   "metadata": {},
   "source": [
    "### 1 - Load the data from .csv file"
   ]
  },
  {
   "cell_type": "code",
   "execution_count": 1,
   "metadata": {},
   "outputs": [],
   "source": [
    "# Supress Warnings\n",
    "\n",
    "import warnings\n",
    "warnings.filterwarnings('ignore')\n",
    "\n",
    "import numpy as np\n",
    "import pandas as pd\n",
    "\n",
    "df_cardata = pd.read_csv(\"CarPrice_Assignment.csv\",encoding='cp1252')"
   ]
  },
  {
   "cell_type": "code",
   "execution_count": 2,
   "metadata": {},
   "outputs": [
    {
     "data": {
      "text/plain": [
       "(205, 26)"
      ]
     },
     "execution_count": 2,
     "metadata": {},
     "output_type": "execute_result"
    }
   ],
   "source": [
    "df_cardata.shape"
   ]
  },
  {
   "cell_type": "code",
   "execution_count": 3,
   "metadata": {},
   "outputs": [
    {
     "name": "stdout",
     "output_type": "stream",
     "text": [
      "<class 'pandas.core.frame.DataFrame'>\n",
      "RangeIndex: 205 entries, 0 to 204\n",
      "Data columns (total 26 columns):\n",
      "car_ID              205 non-null int64\n",
      "symboling           205 non-null int64\n",
      "CarName             205 non-null object\n",
      "fueltype            205 non-null object\n",
      "aspiration          205 non-null object\n",
      "doornumber          205 non-null object\n",
      "carbody             205 non-null object\n",
      "drivewheel          205 non-null object\n",
      "enginelocation      205 non-null object\n",
      "wheelbase           205 non-null float64\n",
      "carlength           205 non-null float64\n",
      "carwidth            205 non-null float64\n",
      "carheight           205 non-null float64\n",
      "curbweight          205 non-null int64\n",
      "enginetype          205 non-null object\n",
      "cylindernumber      205 non-null object\n",
      "enginesize          205 non-null int64\n",
      "fuelsystem          205 non-null object\n",
      "boreratio           205 non-null float64\n",
      "stroke              205 non-null float64\n",
      "compressionratio    205 non-null float64\n",
      "horsepower          205 non-null int64\n",
      "peakrpm             205 non-null int64\n",
      "citympg             205 non-null int64\n",
      "highwaympg          205 non-null int64\n",
      "price               205 non-null float64\n",
      "dtypes: float64(8), int64(8), object(10)\n",
      "memory usage: 41.7+ KB\n"
     ]
    }
   ],
   "source": [
    "# check the information about the data set\n",
    "df_cardata.info()"
   ]
  },
  {
   "cell_type": "code",
   "execution_count": null,
   "metadata": {},
   "outputs": [],
   "source": []
  },
  {
   "cell_type": "markdown",
   "metadata": {},
   "source": [
    "### 2- Data Pre Processing\n",
    "- Convert the independent variables from categorical to Numeric.\n",
    "- Convert the categorigcal variables to dummy variables"
   ]
  },
  {
   "cell_type": "code",
   "execution_count": 4,
   "metadata": {},
   "outputs": [],
   "source": [
    "#Create a 'Car' column which will hold the value for the car company name\n",
    "df_cardata['CarName'] = df_cardata['CarName'].str.strip()\n",
    "df_cardata['Car'] = df_cardata['CarName'].str.split(expand=True)[0]"
   ]
  },
  {
   "cell_type": "code",
   "execution_count": 5,
   "metadata": {},
   "outputs": [],
   "source": [
    "#Drop the column 'CarName'\n",
    "#Remove the unwanted colun 'CarName' from the dataset\n",
    "df_cardata = df_cardata.drop(\"CarName\", axis=1)"
   ]
  },
  {
   "cell_type": "code",
   "execution_count": 6,
   "metadata": {},
   "outputs": [],
   "source": [
    "# convert categorical values into numeric\n",
    "\n",
    "df_cardata['fueltype'] = pd.Categorical(df_cardata['fueltype']).codes\n",
    "df_cardata['aspiration'] = pd.Categorical(df_cardata['aspiration']).codes\n",
    "df_cardata['enginelocation'] = pd.Categorical(df_cardata['enginelocation']).codes\n",
    "df_cardata['doornumber'] = pd.Categorical(df_cardata['doornumber']).codes"
   ]
  },
  {
   "cell_type": "code",
   "execution_count": 7,
   "metadata": {},
   "outputs": [],
   "source": [
    "#df_cardata['fuelsystem'].value_counts()"
   ]
  },
  {
   "cell_type": "code",
   "execution_count": 8,
   "metadata": {},
   "outputs": [],
   "source": [
    "#Convert categorical to numeric\n",
    "# df_cardata['doornumber'] = df_cardata['doornumber'].str.lower()\n",
    "# df_cardata['doornumber'] = df_cardata['doornumber'].map({'two': 2, 'four': 4})"
   ]
  },
  {
   "cell_type": "code",
   "execution_count": 9,
   "metadata": {},
   "outputs": [],
   "source": [
    "# df_cardata['cylindernumber'] = df_cardata['cylindernumber'].str.strip()\n",
    "# df_cardata['cylindernumber'] = df_cardata['cylindernumber'].str.lower()\n",
    "# df_cardata['cylindernumber'] = df_cardata['cylindernumber'] \\\n",
    "# .map({'six': 6, 'four': 4, 'five':5,'eight' :8, 'two':2, 'twelve':12, 'three':3})"
   ]
  },
  {
   "cell_type": "code",
   "execution_count": null,
   "metadata": {},
   "outputs": [],
   "source": []
  },
  {
   "cell_type": "markdown",
   "metadata": {},
   "source": [
    "#### - Create Dummy variables for the `Car` , `carbody`, `enginetype`,`fuelsystem`,`drivewheel`"
   ]
  },
  {
   "cell_type": "code",
   "execution_count": 10,
   "metadata": {},
   "outputs": [],
   "source": [
    "# Create dummy variable for the categorical values\n",
    "car_catg = pd.get_dummies(df_cardata[['Car','carbody','enginetype','fuelsystem','drivewheel','cylindernumber']],drop_first=True)\n"
   ]
  },
  {
   "cell_type": "markdown",
   "metadata": {},
   "source": [
    "#### - Concat  the `categorical` dataset with the orignal dataset and drop the appropriate columns such as `car`,`carbody`,`enginetype`,`fuelsystem`,`drivewheel`"
   ]
  },
  {
   "cell_type": "code",
   "execution_count": 11,
   "metadata": {},
   "outputs": [],
   "source": [
    "df_cardata = pd.concat([df_cardata,car_catg], axis=1)"
   ]
  },
  {
   "cell_type": "code",
   "execution_count": 12,
   "metadata": {},
   "outputs": [],
   "source": [
    "#drop the columns\n",
    "df_cardata = df_cardata.drop(['car_ID','Car','carbody','enginetype','fuelsystem','drivewheel','cylindernumber'],axis=1)"
   ]
  },
  {
   "cell_type": "code",
   "execution_count": null,
   "metadata": {},
   "outputs": [],
   "source": [
    "\n"
   ]
  },
  {
   "cell_type": "markdown",
   "metadata": {},
   "source": [
    "### 3 - Splitting the data into Train and Test and Feature selection\n",
    "- Split the data set into a Train and Test. Distribution of 70-30 between Train and Test Data\n",
    "- Use RFE to identify the best 25 Features for the Model. Take the RFE output as the starting Model\n",
    "- Create Multiple models , Remove one feature at a time to verify the significance and R square of the model."
   ]
  },
  {
   "cell_type": "code",
   "execution_count": 13,
   "metadata": {},
   "outputs": [],
   "source": [
    "from sklearn.model_selection import train_test_split\n",
    "from sklearn.linear_model import LinearRegression\n",
    "\n",
    "#define X and y sets\n",
    "X = df_cardata.copy()\n",
    "y = X.pop(\"price\")\n",
    "\n",
    "X_train ,X_test ,y_train, y_test = train_test_split(X ,y ,test_size=0.3 ,random_state=100)"
   ]
  },
  {
   "cell_type": "code",
   "execution_count": 14,
   "metadata": {},
   "outputs": [],
   "source": [
    "from sklearn.preprocessing import StandardScaler\n",
    "lst_scaler_col = ['wheelbase','carlength','carwidth','carheight','curbweight','enginesize','boreratio','stroke', \\\n",
    "                  'compressionratio','horsepower','peakrpm','citympg','highwaympg']\n",
    "scaler = StandardScaler()\n",
    "X_train[lst_scaler_col] = scaler.fit_transform(X_train[lst_scaler_col])"
   ]
  },
  {
   "cell_type": "code",
   "execution_count": 15,
   "metadata": {},
   "outputs": [
    {
     "name": "stdout",
     "output_type": "stream",
     "text": [
      "<class 'pandas.core.frame.DataFrame'>\n",
      "RangeIndex: 205 entries, 0 to 204\n",
      "Data columns (total 71 columns):\n",
      "symboling                205 non-null int64\n",
      "fueltype                 205 non-null int8\n",
      "aspiration               205 non-null int8\n",
      "doornumber               205 non-null int8\n",
      "enginelocation           205 non-null int8\n",
      "wheelbase                205 non-null float64\n",
      "carlength                205 non-null float64\n",
      "carwidth                 205 non-null float64\n",
      "carheight                205 non-null float64\n",
      "curbweight               205 non-null int64\n",
      "enginesize               205 non-null int64\n",
      "boreratio                205 non-null float64\n",
      "stroke                   205 non-null float64\n",
      "compressionratio         205 non-null float64\n",
      "horsepower               205 non-null int64\n",
      "peakrpm                  205 non-null int64\n",
      "citympg                  205 non-null int64\n",
      "highwaympg               205 non-null int64\n",
      "price                    205 non-null float64\n",
      "Car_alfa-romero          205 non-null uint8\n",
      "Car_audi                 205 non-null uint8\n",
      "Car_bmw                  205 non-null uint8\n",
      "Car_buick                205 non-null uint8\n",
      "Car_chevrolet            205 non-null uint8\n",
      "Car_dodge                205 non-null uint8\n",
      "Car_honda                205 non-null uint8\n",
      "Car_isuzu                205 non-null uint8\n",
      "Car_jaguar               205 non-null uint8\n",
      "Car_maxda                205 non-null uint8\n",
      "Car_mazda                205 non-null uint8\n",
      "Car_mercury              205 non-null uint8\n",
      "Car_mitsubishi           205 non-null uint8\n",
      "Car_nissan               205 non-null uint8\n",
      "Car_peugeot              205 non-null uint8\n",
      "Car_plymouth             205 non-null uint8\n",
      "Car_porcshce             205 non-null uint8\n",
      "Car_porsche              205 non-null uint8\n",
      "Car_renault              205 non-null uint8\n",
      "Car_saab                 205 non-null uint8\n",
      "Car_subaru               205 non-null uint8\n",
      "Car_toyota               205 non-null uint8\n",
      "Car_toyouta              205 non-null uint8\n",
      "Car_vokswagen            205 non-null uint8\n",
      "Car_volkswagen           205 non-null uint8\n",
      "Car_volvo                205 non-null uint8\n",
      "Car_vw                   205 non-null uint8\n",
      "carbody_hardtop          205 non-null uint8\n",
      "carbody_hatchback        205 non-null uint8\n",
      "carbody_sedan            205 non-null uint8\n",
      "carbody_wagon            205 non-null uint8\n",
      "enginetype_dohcv         205 non-null uint8\n",
      "enginetype_l             205 non-null uint8\n",
      "enginetype_ohc           205 non-null uint8\n",
      "enginetype_ohcf          205 non-null uint8\n",
      "enginetype_ohcv          205 non-null uint8\n",
      "enginetype_rotor         205 non-null uint8\n",
      "fuelsystem_2bbl          205 non-null uint8\n",
      "fuelsystem_4bbl          205 non-null uint8\n",
      "fuelsystem_idi           205 non-null uint8\n",
      "fuelsystem_mfi           205 non-null uint8\n",
      "fuelsystem_mpfi          205 non-null uint8\n",
      "fuelsystem_spdi          205 non-null uint8\n",
      "fuelsystem_spfi          205 non-null uint8\n",
      "drivewheel_fwd           205 non-null uint8\n",
      "drivewheel_rwd           205 non-null uint8\n",
      "cylindernumber_five      205 non-null uint8\n",
      "cylindernumber_four      205 non-null uint8\n",
      "cylindernumber_six       205 non-null uint8\n",
      "cylindernumber_three     205 non-null uint8\n",
      "cylindernumber_twelve    205 non-null uint8\n",
      "cylindernumber_two       205 non-null uint8\n",
      "dtypes: float64(8), int64(7), int8(4), uint8(52)\n",
      "memory usage: 35.3 KB\n"
     ]
    }
   ],
   "source": [
    "df_cardata.info()"
   ]
  },
  {
   "cell_type": "code",
   "execution_count": null,
   "metadata": {},
   "outputs": [],
   "source": []
  },
  {
   "cell_type": "markdown",
   "metadata": {},
   "source": [
    "####  - Feature selection using RFE since the number of columns are 77 and it cannot be done manually"
   ]
  },
  {
   "cell_type": "code",
   "execution_count": 16,
   "metadata": {},
   "outputs": [
    {
     "data": {
      "text/plain": [
       "Index(['aspiration', 'enginelocation', 'carwidth', 'enginesize', 'boreratio',\n",
       "       'stroke', 'Car_audi', 'Car_bmw', 'Car_buick', 'Car_mitsubishi',\n",
       "       'Car_peugeot', 'Car_porsche', 'Car_saab', 'Car_subaru', 'Car_volvo',\n",
       "       'enginetype_dohcv', 'enginetype_l', 'enginetype_ohcf',\n",
       "       'enginetype_rotor', 'cylindernumber_five', 'cylindernumber_four',\n",
       "       'cylindernumber_six', 'cylindernumber_three', 'cylindernumber_twelve',\n",
       "       'cylindernumber_two'],\n",
       "      dtype='object')"
      ]
     },
     "execution_count": 16,
     "metadata": {},
     "output_type": "execute_result"
    }
   ],
   "source": [
    "# Importing RFE and LinearRegression\n",
    "from sklearn.feature_selection import RFE\n",
    "from sklearn.linear_model import LinearRegression\n",
    "\n",
    "# Running RFE with the output number of the variable equal to 25\n",
    "sk_lm = LinearRegression()\n",
    "sk_lm.fit(X_train, y_train)\n",
    "\n",
    "rfe = RFE(sk_lm, 25)             \n",
    "rfe = rfe.fit(X_train, y_train)\n",
    "\n",
    "col = X_train.columns[rfe.support_]\n",
    "\n",
    "col"
   ]
  },
  {
   "cell_type": "markdown",
   "metadata": {},
   "source": [
    "#### - Create Model 1 using the RFE suggested columns\n"
   ]
  },
  {
   "cell_type": "code",
   "execution_count": 17,
   "metadata": {},
   "outputs": [],
   "source": [
    "import statsmodels.api as sm\n",
    "lst_vars = ['aspiration', 'enginelocation', 'carwidth', 'enginesize', 'boreratio', \\\n",
    "       'stroke', 'Car_audi', 'Car_bmw', 'Car_buick', 'Car_mitsubishi', \\\n",
    "       'Car_peugeot', 'Car_porsche', 'Car_saab', 'Car_subaru', 'Car_volvo', \\\n",
    "       'enginetype_dohcv', 'enginetype_l', 'enginetype_ohcf', \\\n",
    "       'enginetype_rotor', 'cylindernumber_five', 'cylindernumber_four', \\\n",
    "        'cylindernumber_six', 'cylindernumber_three', 'cylindernumber_twelve', \\\n",
    "       'cylindernumber_two']    \n",
    "X_train_lm1 = sm.add_constant(X_train[lst_vars])\n",
    "lr1 = sm.OLS(y_train, X_train_lm1).fit()\n"
   ]
  },
  {
   "cell_type": "code",
   "execution_count": 18,
   "metadata": {},
   "outputs": [
    {
     "name": "stdout",
     "output_type": "stream",
     "text": [
      "                            OLS Regression Results                            \n",
      "==============================================================================\n",
      "Dep. Variable:                  price   R-squared:                       0.955\n",
      "Model:                            OLS   Adj. R-squared:                  0.946\n",
      "Method:                 Least Squares   F-statistic:                     114.9\n",
      "Date:                Sun, 01 Dec 2019   Prob (F-statistic):           6.06e-70\n",
      "Time:                        08:22:25   Log-Likelihood:                -1262.9\n",
      "No. Observations:                 143   AIC:                             2572.\n",
      "Df Residuals:                     120   BIC:                             2640.\n",
      "Df Model:                          22                                         \n",
      "Covariance Type:            nonrobust                                         \n",
      "=========================================================================================\n",
      "                            coef    std err          t      P>|t|      [0.025      0.975]\n",
      "-----------------------------------------------------------------------------------------\n",
      "const                 -2951.4213   3341.254     -0.883      0.379   -9566.872    3664.030\n",
      "aspiration             2498.1821    502.997      4.967      0.000    1502.283    3494.081\n",
      "enginelocation         6407.9362   1883.007      3.403      0.001    2679.712    1.01e+04\n",
      "carwidth               2196.5736    394.596      5.567      0.000    1415.302    2977.846\n",
      "enginesize             1.153e+04   1007.791     11.441      0.000    9534.304    1.35e+04\n",
      "boreratio             -3905.1244    556.335     -7.019      0.000   -5006.630   -2803.619\n",
      "stroke                -1937.4543    316.075     -6.130      0.000   -2563.261   -1311.648\n",
      "Car_audi               2566.9246   2016.316      1.273      0.205   -1425.241    6559.090\n",
      "Car_bmw                1.097e+04    921.829     11.903      0.000    9147.500    1.28e+04\n",
      "Car_buick              2901.2126   2218.085      1.308      0.193   -1490.442    7292.867\n",
      "Car_mitsubishi        -2716.9434    691.696     -3.928      0.000   -4086.454   -1347.433\n",
      "Car_peugeot           -9118.7529   1622.662     -5.620      0.000   -1.23e+04   -5905.994\n",
      "Car_porsche            7240.6820   2034.995      3.558      0.001    3211.533    1.13e+04\n",
      "Car_saab               3725.1032   1211.268      3.075      0.003    1326.877    6123.329\n",
      "Car_subaru            -2622.1858   1182.368     -2.218      0.028   -4963.193    -281.179\n",
      "Car_volvo              3716.4269   1036.029      3.587      0.000    1665.161    5767.693\n",
      "enginetype_dohcv       7269.5158   3785.430      1.920      0.057    -225.372    1.48e+04\n",
      "enginetype_l           7611.4597   1435.499      5.302      0.000    4769.271    1.05e+04\n",
      "enginetype_ohcf        3785.7504    969.746      3.904      0.000    1865.722    5705.779\n",
      "enginetype_rotor       1.565e+04   2211.018      7.077      0.000    1.13e+04       2e+04\n",
      "cylindernumber_five    1.124e+04   2509.846      4.479      0.000    6273.475    1.62e+04\n",
      "cylindernumber_four    1.655e+04   3526.768      4.693      0.000    9570.043    2.35e+04\n",
      "cylindernumber_six     5202.6572   2732.002      1.904      0.059    -206.517    1.06e+04\n",
      "cylindernumber_three   1.673e+04   2900.752      5.768      0.000     1.1e+04    2.25e+04\n",
      "cylindernumber_twelve -2.211e+04   4051.470     -5.458      0.000   -3.01e+04   -1.41e+04\n",
      "cylindernumber_two     1.565e+04   2211.018      7.077      0.000    1.13e+04       2e+04\n",
      "==============================================================================\n",
      "Omnibus:                       36.462   Durbin-Watson:                   1.888\n",
      "Prob(Omnibus):                  0.000   Jarque-Bera (JB):               99.292\n",
      "Skew:                           0.980   Prob(JB):                     2.75e-22\n",
      "Kurtosis:                       6.581   Cond. No.                     1.46e+16\n",
      "==============================================================================\n",
      "\n",
      "Warnings:\n",
      "[1] Standard Errors assume that the covariance matrix of the errors is correctly specified.\n",
      "[2] The smallest eigenvalue is 1.63e-30. This might indicate that there are\n",
      "strong multicollinearity problems or that the design matrix is singular.\n"
     ]
    }
   ],
   "source": [
    "print(lr1.summary())"
   ]
  },
  {
   "cell_type": "markdown",
   "metadata": {},
   "source": [
    "- The Model created has a veyr high Adg R Square of 0.935\n",
    "- p-Value of column `fuelsystem_4bbl` is high and this column can be dropped from the Model"
   ]
  },
  {
   "cell_type": "markdown",
   "metadata": {},
   "source": [
    "#### - Create Model 2 using the RFE suggested columns and removing `fuelsystem_4bbl`\n"
   ]
  },
  {
   "cell_type": "code",
   "execution_count": 19,
   "metadata": {},
   "outputs": [
    {
     "name": "stdout",
     "output_type": "stream",
     "text": [
      "                            OLS Regression Results                            \n",
      "==============================================================================\n",
      "Dep. Variable:                  price   R-squared:                       0.954\n",
      "Model:                            OLS   Adj. R-squared:                  0.946\n",
      "Method:                 Least Squares   F-statistic:                     119.7\n",
      "Date:                Sun, 01 Dec 2019   Prob (F-statistic):           1.21e-70\n",
      "Time:                        08:22:25   Log-Likelihood:                -1263.8\n",
      "No. Observations:                 143   AIC:                             2572.\n",
      "Df Residuals:                     121   BIC:                             2637.\n",
      "Df Model:                          21                                         \n",
      "Covariance Type:            nonrobust                                         \n",
      "=========================================================================================\n",
      "                            coef    std err          t      P>|t|      [0.025      0.975]\n",
      "-----------------------------------------------------------------------------------------\n",
      "const                  -868.7374   2920.823     -0.297      0.767   -6651.276    4913.801\n",
      "aspiration             2555.6981    502.247      5.089      0.000    1561.367    3550.029\n",
      "enginelocation         6526.7478   1885.511      3.462      0.001    2793.881    1.03e+04\n",
      "carwidth               2276.3140    390.591      5.828      0.000    1503.037    3049.591\n",
      "enginesize              1.15e+04   1010.088     11.384      0.000    9499.448    1.35e+04\n",
      "boreratio             -3917.1791    557.680     -7.024      0.000   -5021.253   -2813.105\n",
      "stroke                -1956.5622    316.527     -6.181      0.000   -2583.211   -1329.913\n",
      "Car_bmw                1.098e+04    924.188     11.876      0.000    9146.020    1.28e+04\n",
      "Car_buick               707.6868   1400.408      0.505      0.614   -2064.790    3480.164\n",
      "Car_mitsubishi        -2744.4208    693.130     -3.959      0.000   -4116.655   -1372.186\n",
      "Car_peugeot           -8551.9516   1564.385     -5.467      0.000   -1.16e+04   -5454.838\n",
      "Car_porsche            7167.1160   2039.385      3.514      0.001    3129.615    1.12e+04\n",
      "Car_saab               3654.0295   1213.080      3.012      0.003    1252.417    6055.642\n",
      "Car_subaru            -2703.9952   1183.645     -2.284      0.024   -5047.333    -360.657\n",
      "Car_volvo              3613.6559   1035.525      3.490      0.001    1563.560    5663.752\n",
      "enginetype_dohcv       5105.9100   3391.142      1.506      0.135   -1607.749    1.18e+04\n",
      "enginetype_l           6913.7914   1330.175      5.198      0.000    4280.359    9547.224\n",
      "enginetype_ohcf        3822.7526    971.793      3.934      0.000    1898.832    5746.673\n",
      "enginetype_rotor       1.459e+04   2054.227      7.102      0.000    1.05e+04    1.87e+04\n",
      "cylindernumber_five     1.12e+04   2516.027      4.451      0.000    6216.811    1.62e+04\n",
      "cylindernumber_four    1.449e+04   3142.545      4.612      0.000    8273.439    2.07e+04\n",
      "cylindernumber_six     3118.1854   2192.591      1.422      0.158   -1222.627    7458.998\n",
      "cylindernumber_three   1.547e+04   2732.388      5.660      0.000    1.01e+04    2.09e+04\n",
      "cylindernumber_twelve -2.424e+04   3701.479     -6.548      0.000   -3.16e+04   -1.69e+04\n",
      "cylindernumber_two     1.459e+04   2054.227      7.102      0.000    1.05e+04    1.87e+04\n",
      "==============================================================================\n",
      "Omnibus:                       36.072   Durbin-Watson:                   1.883\n",
      "Prob(Omnibus):                  0.000   Jarque-Bera (JB):               93.753\n",
      "Skew:                           0.988   Prob(JB):                     4.38e-21\n",
      "Kurtosis:                       6.439   Cond. No.                     1.76e+17\n",
      "==============================================================================\n",
      "\n",
      "Warnings:\n",
      "[1] Standard Errors assume that the covariance matrix of the errors is correctly specified.\n",
      "[2] The smallest eigenvalue is 1.12e-32. This might indicate that there are\n",
      "strong multicollinearity problems or that the design matrix is singular.\n"
     ]
    }
   ],
   "source": [
    "# Remove the col - fuelsystem_4bbl\n",
    "lst_vars = ['aspiration', 'enginelocation', 'carwidth', 'enginesize', 'boreratio', \\\n",
    "       'stroke','Car_bmw', 'Car_buick', 'Car_mitsubishi', \\\n",
    "       'Car_peugeot', 'Car_porsche', 'Car_saab', 'Car_subaru', 'Car_volvo', \\\n",
    "       'enginetype_dohcv', 'enginetype_l', 'enginetype_ohcf', \\\n",
    "       'enginetype_rotor', 'cylindernumber_five', 'cylindernumber_four', \\\n",
    "        'cylindernumber_six', 'cylindernumber_three', 'cylindernumber_twelve', \\\n",
    "       'cylindernumber_two'] \n",
    "\n",
    "X_train_lm2 = sm.add_constant(X_train[lst_vars])\n",
    "lr2 = sm.OLS(y_train, X_train_lm2).fit()\n",
    "print(lr2.summary())"
   ]
  },
  {
   "cell_type": "markdown",
   "metadata": {},
   "source": [
    "- The Model created has a veyr high Adg R Square of 0.935\n",
    "- P-Value of column `compressionratio` is high and this column can be dropped from the Model"
   ]
  },
  {
   "cell_type": "markdown",
   "metadata": {},
   "source": [
    "#### - Create Model 3 using the RFE suggested columns\n"
   ]
  },
  {
   "cell_type": "code",
   "execution_count": 20,
   "metadata": {},
   "outputs": [
    {
     "name": "stdout",
     "output_type": "stream",
     "text": [
      "                            OLS Regression Results                            \n",
      "==============================================================================\n",
      "Dep. Variable:                  price   R-squared:                       0.954\n",
      "Model:                            OLS   Adj. R-squared:                  0.946\n",
      "Method:                 Least Squares   F-statistic:                     126.4\n",
      "Date:                Sun, 01 Dec 2019   Prob (F-statistic):           1.21e-71\n",
      "Time:                        08:22:25   Log-Likelihood:                -1264.0\n",
      "No. Observations:                 143   AIC:                             2570.\n",
      "Df Residuals:                     122   BIC:                             2632.\n",
      "Df Model:                          20                                         \n",
      "Covariance Type:            nonrobust                                         \n",
      "=========================================================================================\n",
      "                            coef    std err          t      P>|t|      [0.025      0.975]\n",
      "-----------------------------------------------------------------------------------------\n",
      "const                  -427.9088   2778.994     -0.154      0.878   -5929.206    5073.388\n",
      "aspiration             2614.9755    486.865      5.371      0.000    1651.178    3578.773\n",
      "enginelocation         6577.8049   1877.048      3.504      0.001    2862.002    1.03e+04\n",
      "carwidth               2287.8922    388.726      5.886      0.000    1518.369    3057.415\n",
      "enginesize             1.159e+04    991.624     11.686      0.000    9625.026    1.36e+04\n",
      "boreratio             -3933.0976    555.088     -7.086      0.000   -5031.949   -2834.246\n",
      "stroke                -1979.9762    312.161     -6.343      0.000   -2597.929   -1362.023\n",
      "Car_bmw                1.097e+04    921.314     11.908      0.000    9147.049    1.28e+04\n",
      "Car_mitsubishi        -2785.7822    686.177     -4.060      0.000   -4144.138   -1427.426\n",
      "Car_peugeot           -8516.6018   1558.044     -5.466      0.000   -1.16e+04   -5432.298\n",
      "Car_porsche            7083.7720   2026.493      3.496      0.001    3072.127    1.11e+04\n",
      "Car_saab               3598.1726   1204.342      2.988      0.003    1214.058    5982.287\n",
      "Car_subaru            -2748.6072   1176.741     -2.336      0.021   -5078.083    -419.131\n",
      "Car_volvo              3549.9244   1024.676      3.464      0.001    1521.477    5578.372\n",
      "enginetype_dohcv       4572.8675   3213.069      1.423      0.157   -1787.724    1.09e+04\n",
      "enginetype_l           6774.7499   1297.430      5.222      0.000    4206.358    9343.142\n",
      "enginetype_ohcf        3829.1977    968.739      3.953      0.000    1911.481    5746.914\n",
      "enginetype_rotor       1.443e+04   2022.830      7.132      0.000    1.04e+04    1.84e+04\n",
      "cylindernumber_five     1.09e+04   2440.430      4.468      0.000    6073.028    1.57e+04\n",
      "cylindernumber_four     1.41e+04   3032.503      4.648      0.000    8092.910    2.01e+04\n",
      "cylindernumber_six     2557.5048   1885.372      1.356      0.177   -1174.777    6289.787\n",
      "cylindernumber_three   1.529e+04   2702.224      5.659      0.000    9942.030    2.06e+04\n",
      "cylindernumber_twelve -2.516e+04   3206.308     -7.848      0.000   -3.15e+04   -1.88e+04\n",
      "cylindernumber_two     1.443e+04   2022.830      7.132      0.000    1.04e+04    1.84e+04\n",
      "==============================================================================\n",
      "Omnibus:                       35.057   Durbin-Watson:                   1.888\n",
      "Prob(Omnibus):                  0.000   Jarque-Bera (JB):               88.700\n",
      "Skew:                           0.970   Prob(JB):                     5.48e-20\n",
      "Kurtosis:                       6.335   Cond. No.                     1.21e+17\n",
      "==============================================================================\n",
      "\n",
      "Warnings:\n",
      "[1] Standard Errors assume that the covariance matrix of the errors is correctly specified.\n",
      "[2] The smallest eigenvalue is 2.35e-32. This might indicate that there are\n",
      "strong multicollinearity problems or that the design matrix is singular.\n"
     ]
    }
   ],
   "source": [
    "# Remove the col - 'compressionratio'\n",
    "lst_vars = ['aspiration', 'enginelocation', 'carwidth', 'enginesize', 'boreratio', \\\n",
    "       'stroke',  'Car_bmw',  'Car_mitsubishi', \\\n",
    "       'Car_peugeot', 'Car_porsche', 'Car_saab', 'Car_subaru', 'Car_volvo', \\\n",
    "       'enginetype_dohcv', 'enginetype_l', 'enginetype_ohcf', \\\n",
    "       'enginetype_rotor', 'cylindernumber_five', 'cylindernumber_four', \\\n",
    "        'cylindernumber_six', 'cylindernumber_three', 'cylindernumber_twelve', \\\n",
    "       'cylindernumber_two']\n",
    "\n",
    "X_train_lm3 = sm.add_constant(X_train[lst_vars])\n",
    "lr3 = sm.OLS(y_train, X_train_lm3).fit()\n",
    "print(lr3.summary())"
   ]
  },
  {
   "cell_type": "markdown",
   "metadata": {},
   "source": [
    "- The Model created has a veyr high Adg R Square of 0.936\n",
    "- P-Value of column `fuelsystem_2bbl` is high and this column can be dropped from the Model"
   ]
  },
  {
   "cell_type": "markdown",
   "metadata": {},
   "source": [
    "#### - Create Model 4 using the RFE suggested columns"
   ]
  },
  {
   "cell_type": "code",
   "execution_count": 21,
   "metadata": {},
   "outputs": [
    {
     "name": "stdout",
     "output_type": "stream",
     "text": [
      "                            OLS Regression Results                            \n",
      "==============================================================================\n",
      "Dep. Variable:                  price   R-squared:                       0.953\n",
      "Model:                            OLS   Adj. R-squared:                  0.946\n",
      "Method:                 Least Squares   F-statistic:                     132.1\n",
      "Date:                Sun, 01 Dec 2019   Prob (F-statistic):           2.56e-72\n",
      "Time:                        08:22:25   Log-Likelihood:                -1265.1\n",
      "No. Observations:                 143   AIC:                             2570.\n",
      "Df Residuals:                     123   BIC:                             2629.\n",
      "Df Model:                          19                                         \n",
      "Covariance Type:            nonrobust                                         \n",
      "=========================================================================================\n",
      "                            coef    std err          t      P>|t|      [0.025      0.975]\n",
      "-----------------------------------------------------------------------------------------\n",
      "const                  2935.2169   1259.682      2.330      0.021     441.754    5428.680\n",
      "aspiration             2624.6826    488.472      5.373      0.000    1657.783    3591.582\n",
      "enginelocation         6548.8487   1883.325      3.477      0.001    2820.922    1.03e+04\n",
      "carwidth               2148.3298    376.142      5.711      0.000    1403.780    2892.880\n",
      "enginesize             1.085e+04    833.695     13.019      0.000    9203.549    1.25e+04\n",
      "boreratio             -3557.7445    482.842     -7.368      0.000   -4513.501   -2601.988\n",
      "stroke                -1741.6418    258.900     -6.727      0.000   -2254.118   -1229.166\n",
      "Car_bmw                1.105e+04    922.610     11.977      0.000    9223.554    1.29e+04\n",
      "Car_mitsubishi        -2773.4513    688.456     -4.029      0.000   -4136.208   -1410.695\n",
      "Car_peugeot           -6970.0698   1065.550     -6.541      0.000   -9079.260   -4860.880\n",
      "Car_porsche            7182.7695   2032.083      3.535      0.001    3160.387    1.12e+04\n",
      "Car_saab               3648.4910   1207.874      3.021      0.003    1257.578    6039.404\n",
      "Car_subaru            -2763.2815   1180.703     -2.340      0.021   -5100.410    -426.153\n",
      "Car_volvo              3637.1333   1026.143      3.544      0.001    1605.946    5668.321\n",
      "enginetype_dohcv       2117.0114   2663.504      0.795      0.428   -3155.232    7389.254\n",
      "enginetype_l           5487.1590    887.516      6.183      0.000    3730.376    7243.942\n",
      "enginetype_ohcf        3785.5673    971.506      3.897      0.000    1862.531    5708.604\n",
      "enginetype_rotor       1.225e+04   1236.672      9.907      0.000    9803.184    1.47e+04\n",
      "cylindernumber_five    8032.1443   1217.904      6.595      0.000    5621.378    1.04e+04\n",
      "cylindernumber_four    1.045e+04   1411.865      7.403      0.000    7657.383    1.32e+04\n",
      "cylindernumber_three   1.246e+04   1719.572      7.244      0.000    9053.442    1.59e+04\n",
      "cylindernumber_twelve -2.457e+04   3187.234     -7.709      0.000   -3.09e+04   -1.83e+04\n",
      "cylindernumber_two     1.225e+04   1236.672      9.907      0.000    9803.184    1.47e+04\n",
      "==============================================================================\n",
      "Omnibus:                       36.568   Durbin-Watson:                   1.917\n",
      "Prob(Omnibus):                  0.000   Jarque-Bera (JB):               98.958\n",
      "Skew:                           0.986   Prob(JB):                     3.25e-22\n",
      "Kurtosis:                       6.566   Cond. No.                     8.42e+16\n",
      "==============================================================================\n",
      "\n",
      "Warnings:\n",
      "[1] Standard Errors assume that the covariance matrix of the errors is correctly specified.\n",
      "[2] The smallest eigenvalue is 4.83e-32. This might indicate that there are\n",
      "strong multicollinearity problems or that the design matrix is singular.\n"
     ]
    }
   ],
   "source": [
    "#Removing 'fuelsystem_2bbl'\n",
    "lst_vars =  ['aspiration', 'enginelocation', 'carwidth', 'enginesize', 'boreratio', \\\n",
    "       'stroke',  'Car_bmw',  'Car_mitsubishi', \\\n",
    "       'Car_peugeot', 'Car_porsche', 'Car_saab', 'Car_subaru', 'Car_volvo', \\\n",
    "       'enginetype_dohcv', 'enginetype_l', 'enginetype_ohcf', \\\n",
    "       'enginetype_rotor', 'cylindernumber_five', 'cylindernumber_four', \\\n",
    "        'cylindernumber_three', 'cylindernumber_twelve', \\\n",
    "       'cylindernumber_two'] \n",
    "\n",
    "X_train_lm4 = sm.add_constant(X_train[lst_vars])\n",
    "lr4 = sm.OLS(y_train, X_train_lm4).fit()\n",
    "print(lr4.summary())"
   ]
  },
  {
   "cell_type": "markdown",
   "metadata": {},
   "source": [
    "- The Model created has a veyr high Adg R Square of 0.936\n",
    "- P-Value of column `fuelsystem_spdi` is high and this column can be dropped from the Model"
   ]
  },
  {
   "cell_type": "markdown",
   "metadata": {},
   "source": [
    "#### - Create Model 5 using the RFE suggested columns"
   ]
  },
  {
   "cell_type": "code",
   "execution_count": 22,
   "metadata": {},
   "outputs": [
    {
     "name": "stdout",
     "output_type": "stream",
     "text": [
      "                            OLS Regression Results                            \n",
      "==============================================================================\n",
      "Dep. Variable:                  price   R-squared:                       0.953\n",
      "Model:                            OLS   Adj. R-squared:                  0.946\n",
      "Method:                 Least Squares   F-statistic:                     139.8\n",
      "Date:                Sun, 01 Dec 2019   Prob (F-statistic):           2.91e-73\n",
      "Time:                        08:22:25   Log-Likelihood:                -1265.4\n",
      "No. Observations:                 143   AIC:                             2569.\n",
      "Df Residuals:                     124   BIC:                             2625.\n",
      "Df Model:                          18                                         \n",
      "Covariance Type:            nonrobust                                         \n",
      "=========================================================================================\n",
      "                            coef    std err          t      P>|t|      [0.025      0.975]\n",
      "-----------------------------------------------------------------------------------------\n",
      "const                  3134.4704   1232.650      2.543      0.012     694.710    5574.231\n",
      "aspiration             2623.1722    487.742      5.378      0.000    1657.794    3588.550\n",
      "enginelocation         5906.6800   1698.691      3.477      0.001    2544.495    9268.865\n",
      "carwidth               2190.6855    371.795      5.892      0.000    1454.800    2926.571\n",
      "enginesize             1.074e+04    820.373     13.093      0.000    9117.558    1.24e+04\n",
      "boreratio             -3518.9253    479.652     -7.336      0.000   -4468.291   -2569.559\n",
      "stroke                -1735.2447    258.390     -6.716      0.000   -2246.671   -1223.818\n",
      "Car_bmw                1.098e+04    916.437     11.976      0.000    9161.143    1.28e+04\n",
      "Car_mitsubishi        -2754.1952    687.007     -4.009      0.000   -4113.975   -1394.415\n",
      "Car_peugeot           -6924.3857   1062.417     -6.518      0.000   -9027.207   -4821.565\n",
      "Car_porsche            8118.7331   1653.641      4.910      0.000    4845.715    1.14e+04\n",
      "Car_saab               3616.1277   1205.394      3.000      0.003    1230.316    6001.940\n",
      "Car_subaru            -2465.1977   1117.894     -2.205      0.029   -4677.823    -252.572\n",
      "Car_volvo              3558.9365   1019.898      3.490      0.001    1540.272    5577.601\n",
      "enginetype_l           5407.3601    880.508      6.141      0.000    3664.588    7150.133\n",
      "enginetype_ohcf        3441.4823    868.428      3.963      0.000    1722.619    5160.345\n",
      "enginetype_rotor       1.208e+04   1215.718      9.936      0.000    9672.569    1.45e+04\n",
      "cylindernumber_five    7835.5661   1190.755      6.580      0.000    5478.728    1.02e+04\n",
      "cylindernumber_four    1.023e+04   1382.163      7.402      0.000    7495.416     1.3e+04\n",
      "cylindernumber_three   1.233e+04   1709.764      7.213      0.000    8947.643    1.57e+04\n",
      "cylindernumber_twelve -2.433e+04   3168.349     -7.680      0.000   -3.06e+04   -1.81e+04\n",
      "cylindernumber_two     1.208e+04   1215.718      9.936      0.000    9672.569    1.45e+04\n",
      "==============================================================================\n",
      "Omnibus:                       36.522   Durbin-Watson:                   1.939\n",
      "Prob(Omnibus):                  0.000   Jarque-Bera (JB):               98.121\n",
      "Skew:                           0.988   Prob(JB):                     4.94e-22\n",
      "Kurtosis:                       6.545   Cond. No.                     7.21e+16\n",
      "==============================================================================\n",
      "\n",
      "Warnings:\n",
      "[1] Standard Errors assume that the covariance matrix of the errors is correctly specified.\n",
      "[2] The smallest eigenvalue is 6.6e-32. This might indicate that there are\n",
      "strong multicollinearity problems or that the design matrix is singular.\n"
     ]
    }
   ],
   "source": [
    "#Removing column - fuelsystem_spdi\n",
    "lst_vars = ['aspiration', 'enginelocation', 'carwidth', 'enginesize', 'boreratio', \\\n",
    "       'stroke',  'Car_bmw',  'Car_mitsubishi', \\\n",
    "       'Car_peugeot', 'Car_porsche', 'Car_saab', 'Car_subaru', 'Car_volvo', \\\n",
    "       'enginetype_l', 'enginetype_ohcf', \\\n",
    "       'enginetype_rotor', 'cylindernumber_five', 'cylindernumber_four', \\\n",
    "        'cylindernumber_three', 'cylindernumber_twelve', \\\n",
    "       'cylindernumber_two']   \n",
    "\n",
    "X_train_lm5 = sm.add_constant(X_train[lst_vars])\n",
    "lr5 = sm.OLS(y_train, X_train_lm5).fit()\n",
    "print(lr5.summary())\n"
   ]
  },
  {
   "cell_type": "markdown",
   "metadata": {},
   "source": [
    "- The Model created has a veyr high Adg R Square of 0.936\n",
    "- P-Value of column `fuelsystem_1bbl` is high and this column can be dropped from the Model\n",
    "\n",
    "#### - Create Model 6 by removing `fuelsystem_1bbl`"
   ]
  },
  {
   "cell_type": "code",
   "execution_count": 23,
   "metadata": {},
   "outputs": [
    {
     "name": "stdout",
     "output_type": "stream",
     "text": [
      "                            OLS Regression Results                            \n",
      "==============================================================================\n",
      "Dep. Variable:                  price   R-squared:                       0.953\n",
      "Model:                            OLS   Adj. R-squared:                  0.946\n",
      "Method:                 Least Squares   F-statistic:                     139.8\n",
      "Date:                Sun, 01 Dec 2019   Prob (F-statistic):           2.91e-73\n",
      "Time:                        08:22:26   Log-Likelihood:                -1265.4\n",
      "No. Observations:                 143   AIC:                             2569.\n",
      "Df Residuals:                     124   BIC:                             2625.\n",
      "Df Model:                          18                                         \n",
      "Covariance Type:            nonrobust                                         \n",
      "=========================================================================================\n",
      "                            coef    std err          t      P>|t|      [0.025      0.975]\n",
      "-----------------------------------------------------------------------------------------\n",
      "const                  3134.4704   1232.650      2.543      0.012     694.710    5574.231\n",
      "aspiration             2623.1722    487.742      5.378      0.000    1657.794    3588.550\n",
      "enginelocation         5906.6800   1698.691      3.477      0.001    2544.495    9268.865\n",
      "carwidth               2190.6855    371.795      5.892      0.000    1454.800    2926.571\n",
      "enginesize             1.074e+04    820.373     13.093      0.000    9117.558    1.24e+04\n",
      "boreratio             -3518.9253    479.652     -7.336      0.000   -4468.291   -2569.559\n",
      "stroke                -1735.2447    258.390     -6.716      0.000   -2246.671   -1223.818\n",
      "Car_bmw                1.098e+04    916.437     11.976      0.000    9161.143    1.28e+04\n",
      "Car_mitsubishi        -2754.1952    687.007     -4.009      0.000   -4113.975   -1394.415\n",
      "Car_porsche            8118.7331   1653.641      4.910      0.000    4845.715    1.14e+04\n",
      "Car_saab               3616.1277   1205.394      3.000      0.003    1230.316    6001.940\n",
      "Car_subaru            -2465.1977   1117.894     -2.205      0.029   -4677.823    -252.572\n",
      "Car_volvo              3558.9365   1019.898      3.490      0.001    1540.272    5577.601\n",
      "enginetype_l          -1517.0256    940.614     -1.613      0.109   -3378.765     344.713\n",
      "enginetype_ohcf        3441.4823    868.428      3.963      0.000    1722.619    5160.345\n",
      "enginetype_rotor       1.208e+04   1215.718      9.936      0.000    9672.569    1.45e+04\n",
      "cylindernumber_five    7835.5661   1190.755      6.580      0.000    5478.728    1.02e+04\n",
      "cylindernumber_four    1.023e+04   1382.163      7.402      0.000    7495.416     1.3e+04\n",
      "cylindernumber_three   1.926e+04   2707.167      7.113      0.000    1.39e+04    2.46e+04\n",
      "cylindernumber_twelve -2.433e+04   3168.349     -7.680      0.000   -3.06e+04   -1.81e+04\n",
      "cylindernumber_two     1.208e+04   1215.718      9.936      0.000    9672.569    1.45e+04\n",
      "==============================================================================\n",
      "Omnibus:                       36.522   Durbin-Watson:                   1.939\n",
      "Prob(Omnibus):                  0.000   Jarque-Bera (JB):               98.121\n",
      "Skew:                           0.988   Prob(JB):                     4.94e-22\n",
      "Kurtosis:                       6.545   Cond. No.                     5.32e+16\n",
      "==============================================================================\n",
      "\n",
      "Warnings:\n",
      "[1] Standard Errors assume that the covariance matrix of the errors is correctly specified.\n",
      "[2] The smallest eigenvalue is 1.21e-31. This might indicate that there are\n",
      "strong multicollinearity problems or that the design matrix is singular.\n"
     ]
    }
   ],
   "source": [
    "#Removing column - fuelsystem_1bbl\n",
    "lst_vars = ['aspiration', 'enginelocation', 'carwidth', 'enginesize', 'boreratio', \\\n",
    "       'stroke',  'Car_bmw',  'Car_mitsubishi', \\\n",
    "        'Car_porsche', 'Car_saab', 'Car_subaru', 'Car_volvo', \\\n",
    "       'enginetype_l', 'enginetype_ohcf', \\\n",
    "       'enginetype_rotor', 'cylindernumber_five', 'cylindernumber_four', \\\n",
    "        'cylindernumber_three', 'cylindernumber_twelve', \\\n",
    "       'cylindernumber_two']  \n",
    "\n",
    "X_train_lm6 = sm.add_constant(X_train[lst_vars])\n",
    "lr6 = sm.OLS(y_train, X_train_lm6).fit()\n",
    "print(lr6.summary())"
   ]
  },
  {
   "cell_type": "code",
   "execution_count": null,
   "metadata": {},
   "outputs": [],
   "source": []
  },
  {
   "cell_type": "code",
   "execution_count": 24,
   "metadata": {},
   "outputs": [
    {
     "name": "stdout",
     "output_type": "stream",
     "text": [
      "                            OLS Regression Results                            \n",
      "==============================================================================\n",
      "Dep. Variable:                  price   R-squared:                       0.952\n",
      "Model:                            OLS   Adj. R-squared:                  0.946\n",
      "Method:                 Least Squares   F-statistic:                     146.0\n",
      "Date:                Sun, 01 Dec 2019   Prob (F-statistic):           8.52e-74\n",
      "Time:                        08:22:26   Log-Likelihood:                -1266.9\n",
      "No. Observations:                 143   AIC:                             2570.\n",
      "Df Residuals:                     125   BIC:                             2623.\n",
      "Df Model:                          17                                         \n",
      "Covariance Type:            nonrobust                                         \n",
      "=========================================================================================\n",
      "                            coef    std err          t      P>|t|      [0.025      0.975]\n",
      "-----------------------------------------------------------------------------------------\n",
      "const                  2824.6286   1225.361      2.305      0.023     399.488    5249.770\n",
      "aspiration             2402.0752    471.068      5.099      0.000    1469.772    3334.378\n",
      "enginelocation         5106.8739   1635.064      3.123      0.002    1870.879    8342.868\n",
      "carwidth               1928.7841    336.592      5.730      0.000    1262.627    2594.941\n",
      "enginesize             1.105e+04    802.537     13.771      0.000    9463.598    1.26e+04\n",
      "boreratio             -3749.4096    460.791     -8.137      0.000   -4661.372   -2837.447\n",
      "stroke                -1646.2874    254.046     -6.480      0.000   -2149.076   -1143.499\n",
      "Car_bmw                1.117e+04    914.517     12.210      0.000    9356.550     1.3e+04\n",
      "Car_mitsubishi        -2569.4263    681.712     -3.769      0.000   -3918.620   -1220.233\n",
      "Car_porsche            9111.7069   1544.550      5.899      0.000    6054.850    1.22e+04\n",
      "Car_saab               4263.7256   1143.805      3.728      0.000    1999.994    6527.457\n",
      "Car_subaru            -1690.2851   1015.815     -1.664      0.099   -3700.709     320.139\n",
      "Car_volvo              4301.8731    915.751      4.698      0.000    2489.488    6114.258\n",
      "enginetype_ohcf        3416.5888    873.835      3.910      0.000    1687.162    5146.016\n",
      "enginetype_rotor       1.243e+04   1203.206     10.334      0.000    1.01e+04    1.48e+04\n",
      "cylindernumber_five    8403.3770   1144.781      7.341      0.000    6137.714    1.07e+04\n",
      "cylindernumber_four    1.033e+04   1389.531      7.436      0.000    7583.012    1.31e+04\n",
      "cylindernumber_three   1.759e+04   2517.920      6.985      0.000    1.26e+04    2.26e+04\n",
      "cylindernumber_twelve -2.464e+04   3182.762     -7.742      0.000   -3.09e+04   -1.83e+04\n",
      "cylindernumber_two     1.243e+04   1203.206     10.334      0.000    1.01e+04    1.48e+04\n",
      "==============================================================================\n",
      "Omnibus:                       35.357   Durbin-Watson:                   1.942\n",
      "Prob(Omnibus):                  0.000   Jarque-Bera (JB):               97.864\n",
      "Skew:                           0.941   Prob(JB):                     5.61e-22\n",
      "Kurtosis:                       6.589   Cond. No.                     2.31e+17\n",
      "==============================================================================\n",
      "\n",
      "Warnings:\n",
      "[1] Standard Errors assume that the covariance matrix of the errors is correctly specified.\n",
      "[2] The smallest eigenvalue is 6.43e-33. This might indicate that there are\n",
      "strong multicollinearity problems or that the design matrix is singular.\n"
     ]
    }
   ],
   "source": [
    "#Try removing the fuelsystem_idi since it has a VIF as infinity\n",
    "#Removing column - fuelsystem_1bbl\n",
    "lst_vars = ['aspiration', 'enginelocation', 'carwidth', 'enginesize', 'boreratio', \\\n",
    "       'stroke',  'Car_bmw',  'Car_mitsubishi', \\\n",
    "        'Car_porsche', 'Car_saab', 'Car_subaru', 'Car_volvo', \\\n",
    "        'enginetype_ohcf', \\\n",
    "       'enginetype_rotor', 'cylindernumber_five', 'cylindernumber_four', \\\n",
    "        'cylindernumber_three', 'cylindernumber_twelve', \\\n",
    "       'cylindernumber_two']   \n",
    "\n",
    "X_train_lm7 = sm.add_constant(X_train[lst_vars])\n",
    "lr7 = sm.OLS(y_train, X_train_lm7).fit()\n",
    "print(lr7.summary())"
   ]
  },
  {
   "cell_type": "code",
   "execution_count": 25,
   "metadata": {},
   "outputs": [
    {
     "name": "stdout",
     "output_type": "stream",
     "text": [
      "                            OLS Regression Results                            \n",
      "==============================================================================\n",
      "Dep. Variable:                  price   R-squared:                       0.952\n",
      "Model:                            OLS   Adj. R-squared:                  0.946\n",
      "Method:                 Least Squares   F-statistic:                     146.0\n",
      "Date:                Sun, 01 Dec 2019   Prob (F-statistic):           8.52e-74\n",
      "Time:                        08:22:26   Log-Likelihood:                -1266.9\n",
      "No. Observations:                 143   AIC:                             2570.\n",
      "Df Residuals:                     125   BIC:                             2623.\n",
      "Df Model:                          17                                         \n",
      "Covariance Type:            nonrobust                                         \n",
      "=========================================================================================\n",
      "                            coef    std err          t      P>|t|      [0.025      0.975]\n",
      "-----------------------------------------------------------------------------------------\n",
      "const                  2824.6286   1225.361      2.305      0.023     399.488    5249.770\n",
      "aspiration             2402.0752    471.068      5.099      0.000    1469.772    3334.378\n",
      "enginelocation         6797.1589   2578.186      2.636      0.009    1694.609    1.19e+04\n",
      "carwidth               1928.7841    336.592      5.730      0.000    1262.627    2594.941\n",
      "enginesize             1.105e+04    802.537     13.771      0.000    9463.598    1.26e+04\n",
      "boreratio             -3749.4096    460.791     -8.137      0.000   -4661.372   -2837.447\n",
      "stroke                -1646.2874    254.046     -6.480      0.000   -2149.076   -1143.499\n",
      "Car_bmw                1.117e+04    914.517     12.210      0.000    9356.550     1.3e+04\n",
      "Car_mitsubishi        -2569.4263    681.712     -3.769      0.000   -3918.620   -1220.233\n",
      "Car_porsche            9111.7069   1544.550      5.899      0.000    6054.850    1.22e+04\n",
      "Car_saab               4263.7256   1143.805      3.728      0.000    1999.994    6527.457\n",
      "Car_volvo              4301.8731    915.751      4.698      0.000    2489.488    6114.258\n",
      "enginetype_ohcf        1726.3037    957.863      1.802      0.074    -169.425    3622.033\n",
      "enginetype_rotor       1.243e+04   1203.206     10.334      0.000    1.01e+04    1.48e+04\n",
      "cylindernumber_five    8403.3770   1144.781      7.341      0.000    6137.714    1.07e+04\n",
      "cylindernumber_four    1.033e+04   1389.531      7.436      0.000    7583.012    1.31e+04\n",
      "cylindernumber_three   1.759e+04   2517.920      6.985      0.000    1.26e+04    2.26e+04\n",
      "cylindernumber_twelve -2.464e+04   3182.762     -7.742      0.000   -3.09e+04   -1.83e+04\n",
      "cylindernumber_two     1.243e+04   1203.206     10.334      0.000    1.01e+04    1.48e+04\n",
      "==============================================================================\n",
      "Omnibus:                       35.357   Durbin-Watson:                   1.942\n",
      "Prob(Omnibus):                  0.000   Jarque-Bera (JB):               97.864\n",
      "Skew:                           0.941   Prob(JB):                     5.61e-22\n",
      "Kurtosis:                       6.589   Cond. No.                     6.56e+16\n",
      "==============================================================================\n",
      "\n",
      "Warnings:\n",
      "[1] Standard Errors assume that the covariance matrix of the errors is correctly specified.\n",
      "[2] The smallest eigenvalue is 7.96e-32. This might indicate that there are\n",
      "strong multicollinearity problems or that the design matrix is singular.\n"
     ]
    }
   ],
   "source": [
    "#Try removing the fueltype since it has a insignificant p-value in the mode 7\n",
    "#Removing column - fuelsystem_1bbl\n",
    "lst_vars = ['aspiration', 'enginelocation', 'carwidth', 'enginesize', 'boreratio', \\\n",
    "       'stroke',  'Car_bmw',  'Car_mitsubishi', \\\n",
    "        'Car_porsche', 'Car_saab', 'Car_volvo', \\\n",
    "        'enginetype_ohcf', \\\n",
    "       'enginetype_rotor', 'cylindernumber_five', 'cylindernumber_four', \\\n",
    "        'cylindernumber_three', 'cylindernumber_twelve', \\\n",
    "       'cylindernumber_two']   \n",
    "\n",
    "X_train_lm8 = sm.add_constant(X_train[lst_vars])\n",
    "lr8 = sm.OLS(y_train, X_train_lm8).fit()\n",
    "print(lr8.summary())"
   ]
  },
  {
   "cell_type": "code",
   "execution_count": null,
   "metadata": {},
   "outputs": [],
   "source": []
  },
  {
   "cell_type": "code",
   "execution_count": 26,
   "metadata": {},
   "outputs": [
    {
     "name": "stdout",
     "output_type": "stream",
     "text": [
      "                            OLS Regression Results                            \n",
      "==============================================================================\n",
      "Dep. Variable:                  price   R-squared:                       0.951\n",
      "Model:                            OLS   Adj. R-squared:                  0.945\n",
      "Method:                 Least Squares   F-statistic:                     152.2\n",
      "Date:                Sun, 01 Dec 2019   Prob (F-statistic):           3.34e-74\n",
      "Time:                        08:22:26   Log-Likelihood:                -1268.7\n",
      "No. Observations:                 143   AIC:                             2571.\n",
      "Df Residuals:                     126   BIC:                             2622.\n",
      "Df Model:                          16                                         \n",
      "Covariance Type:            nonrobust                                         \n",
      "=========================================================================================\n",
      "                            coef    std err          t      P>|t|      [0.025      0.975]\n",
      "-----------------------------------------------------------------------------------------\n",
      "const                  3813.5052   1105.380      3.450      0.001    1625.991    6001.020\n",
      "aspiration             2461.8785    474.072      5.193      0.000    1523.705    3400.052\n",
      "enginelocation         8417.5142   2437.802      3.453      0.001    3593.175    1.32e+04\n",
      "carwidth               1874.9512    338.241      5.543      0.000    1205.581    2544.321\n",
      "enginesize             1.051e+04    751.471     13.991      0.000    9026.346     1.2e+04\n",
      "boreratio             -3268.9306    379.174     -8.621      0.000   -4019.305   -2518.556\n",
      "stroke                -1783.7056    244.486     -7.296      0.000   -2267.536   -1299.875\n",
      "Car_bmw                1.067e+04    879.255     12.132      0.000    8927.010    1.24e+04\n",
      "Car_mitsubishi        -2523.1756    687.279     -3.671      0.000   -3883.281   -1163.070\n",
      "Car_porsche            8165.1142   1465.405      5.572      0.000    5265.121    1.11e+04\n",
      "Car_saab               3664.9661   1104.213      3.319      0.001    1479.762    5850.171\n",
      "Car_volvo              3668.8671    853.228      4.300      0.000    1980.354    5357.380\n",
      "enginetype_rotor       1.157e+04   1113.910     10.389      0.000    9368.076    1.38e+04\n",
      "cylindernumber_five    7903.1027   1120.481      7.053      0.000    5685.704    1.01e+04\n",
      "cylindernumber_four    9377.7879   1295.871      7.237      0.000    6813.298    1.19e+04\n",
      "cylindernumber_three   1.626e+04   2428.665      6.694      0.000    1.15e+04    2.11e+04\n",
      "cylindernumber_twelve -2.351e+04   3147.827     -7.468      0.000   -2.97e+04   -1.73e+04\n",
      "cylindernumber_two     1.157e+04   1113.910     10.389      0.000    9368.076    1.38e+04\n",
      "==============================================================================\n",
      "Omnibus:                       33.869   Durbin-Watson:                   1.978\n",
      "Prob(Omnibus):                  0.000   Jarque-Bera (JB):              101.581\n",
      "Skew:                           0.866   Prob(JB):                     8.75e-23\n",
      "Kurtosis:                       6.748   Cond. No.                     8.65e+16\n",
      "==============================================================================\n",
      "\n",
      "Warnings:\n",
      "[1] Standard Errors assume that the covariance matrix of the errors is correctly specified.\n",
      "[2] The smallest eigenvalue is 4.57e-32. This might indicate that there are\n",
      "strong multicollinearity problems or that the design matrix is singular.\n"
     ]
    }
   ],
   "source": [
    "#Try removing the 'énginesize'since it has a high VIF\n",
    "\n",
    "lst_vars = ['aspiration', 'enginelocation', 'carwidth', 'enginesize', 'boreratio', \\\n",
    "       'stroke',  'Car_bmw',  'Car_mitsubishi', \\\n",
    "        'Car_porsche', 'Car_saab', 'Car_volvo', \\\n",
    "        'enginetype_rotor', 'cylindernumber_five', 'cylindernumber_four', \\\n",
    "        'cylindernumber_three', 'cylindernumber_twelve', \\\n",
    "       'cylindernumber_two']    \n",
    "\n",
    "X_train_lm9 = sm.add_constant(X_train[lst_vars])\n",
    "lr9 = sm.OLS(y_train, X_train_lm9).fit()\n",
    "print(lr9.summary())"
   ]
  },
  {
   "cell_type": "code",
   "execution_count": null,
   "metadata": {},
   "outputs": [],
   "source": []
  },
  {
   "cell_type": "code",
   "execution_count": 27,
   "metadata": {},
   "outputs": [
    {
     "name": "stdout",
     "output_type": "stream",
     "text": [
      "                            OLS Regression Results                            \n",
      "==============================================================================\n",
      "Dep. Variable:                  price   R-squared:                       0.866\n",
      "Model:                            OLS   Adj. R-squared:                  0.857\n",
      "Method:                 Least Squares   F-statistic:                     95.60\n",
      "Date:                Sun, 01 Dec 2019   Prob (F-statistic):           1.19e-53\n",
      "Time:                        08:22:26   Log-Likelihood:                -1340.3\n",
      "No. Observations:                 143   AIC:                             2701.\n",
      "Df Residuals:                     133   BIC:                             2730.\n",
      "Df Model:                           9                                         \n",
      "Covariance Type:            nonrobust                                         \n",
      "=========================================================================================\n",
      "                            coef    std err          t      P>|t|      [0.025      0.975]\n",
      "-----------------------------------------------------------------------------------------\n",
      "const                  1.734e+04    783.352     22.135      0.000    1.58e+04    1.89e+04\n",
      "aspiration             1430.5629    705.086      2.029      0.044      35.930    2825.196\n",
      "enginelocation         1.684e+04   3185.022      5.287      0.000    1.05e+04    2.31e+04\n",
      "carwidth               4092.5498    432.918      9.453      0.000    3236.254    4948.846\n",
      "boreratio               846.0105    342.172      2.472      0.015     169.208    1522.813\n",
      "Car_bmw                8599.2722   1365.058      6.300      0.000    5899.240    1.13e+04\n",
      "enginetype_rotor      -4133.4951   1680.865     -2.459      0.015   -7458.181    -808.810\n",
      "cylindernumber_five   -3118.6312   1265.637     -2.464      0.015   -5622.013    -615.250\n",
      "cylindernumber_four   -6439.4748    901.111     -7.146      0.000   -8221.837   -4657.112\n",
      "cylindernumber_twelve  9074.8174   3066.360      2.959      0.004    3009.676    1.51e+04\n",
      "==============================================================================\n",
      "Omnibus:                       30.726   Durbin-Watson:                   2.087\n",
      "Prob(Omnibus):                  0.000   Jarque-Bera (JB):               52.714\n",
      "Skew:                           1.018   Prob(JB):                     3.58e-12\n",
      "Kurtosis:                       5.168   Cond. No.                         17.5\n",
      "==============================================================================\n",
      "\n",
      "Warnings:\n",
      "[1] Standard Errors assume that the covariance matrix of the errors is correctly specified.\n"
     ]
    }
   ],
   "source": [
    "lst_vars = ['aspiration', 'enginelocation', 'carwidth',  'boreratio', \\\n",
    "         'Car_bmw',   \\\n",
    "        'enginetype_rotor', 'cylindernumber_five', 'cylindernumber_four', \\\n",
    "         'cylindernumber_twelve']\n",
    "  \n",
    "\n",
    "X_train_lm10 = sm.add_constant(X_train[lst_vars])\n",
    "lr10 = sm.OLS(y_train, X_train_lm10).fit()\n",
    "print(lr10.summary())"
   ]
  },
  {
   "cell_type": "code",
   "execution_count": 28,
   "metadata": {},
   "outputs": [
    {
     "data": {
      "text/html": [
       "<div>\n",
       "<style scoped>\n",
       "    .dataframe tbody tr th:only-of-type {\n",
       "        vertical-align: middle;\n",
       "    }\n",
       "\n",
       "    .dataframe tbody tr th {\n",
       "        vertical-align: top;\n",
       "    }\n",
       "\n",
       "    .dataframe thead th {\n",
       "        text-align: right;\n",
       "    }\n",
       "</style>\n",
       "<table border=\"1\" class=\"dataframe\">\n",
       "  <thead>\n",
       "    <tr style=\"text-align: right;\">\n",
       "      <th></th>\n",
       "      <th>Features</th>\n",
       "      <th>VIF</th>\n",
       "    </tr>\n",
       "  </thead>\n",
       "  <tbody>\n",
       "    <tr>\n",
       "      <th>0</th>\n",
       "      <td>const</td>\n",
       "      <td>10.07</td>\n",
       "    </tr>\n",
       "    <tr>\n",
       "      <th>3</th>\n",
       "      <td>carwidth</td>\n",
       "      <td>3.08</td>\n",
       "    </tr>\n",
       "    <tr>\n",
       "      <th>8</th>\n",
       "      <td>cylindernumber_four</td>\n",
       "      <td>2.56</td>\n",
       "    </tr>\n",
       "    <tr>\n",
       "      <th>4</th>\n",
       "      <td>boreratio</td>\n",
       "      <td>1.92</td>\n",
       "    </tr>\n",
       "    <tr>\n",
       "      <th>7</th>\n",
       "      <td>cylindernumber_five</td>\n",
       "      <td>1.55</td>\n",
       "    </tr>\n",
       "    <tr>\n",
       "      <th>6</th>\n",
       "      <td>enginetype_rotor</td>\n",
       "      <td>1.26</td>\n",
       "    </tr>\n",
       "    <tr>\n",
       "      <th>5</th>\n",
       "      <td>Car_bmw</td>\n",
       "      <td>1.23</td>\n",
       "    </tr>\n",
       "    <tr>\n",
       "      <th>1</th>\n",
       "      <td>aspiration</td>\n",
       "      <td>1.21</td>\n",
       "    </tr>\n",
       "    <tr>\n",
       "      <th>2</th>\n",
       "      <td>enginelocation</td>\n",
       "      <td>1.16</td>\n",
       "    </tr>\n",
       "    <tr>\n",
       "      <th>9</th>\n",
       "      <td>cylindernumber_twelve</td>\n",
       "      <td>1.07</td>\n",
       "    </tr>\n",
       "  </tbody>\n",
       "</table>\n",
       "</div>"
      ],
      "text/plain": [
       "                Features    VIF\n",
       "0                  const  10.07\n",
       "3               carwidth   3.08\n",
       "8    cylindernumber_four   2.56\n",
       "4              boreratio   1.92\n",
       "7    cylindernumber_five   1.55\n",
       "6       enginetype_rotor   1.26\n",
       "5                Car_bmw   1.23\n",
       "1             aspiration   1.21\n",
       "2         enginelocation   1.16\n",
       "9  cylindernumber_twelve   1.07"
      ]
     },
     "execution_count": 28,
     "metadata": {},
     "output_type": "execute_result"
    }
   ],
   "source": [
    "# Calculate the VIFs for the new model 8\n",
    "from statsmodels.stats.outliers_influence import variance_inflation_factor\n",
    "\n",
    "vif = pd.DataFrame()\n",
    "X = X_train_lm10\n",
    "vif['Features'] = X.columns\n",
    "vif['VIF'] = [variance_inflation_factor(X.values, i) for i in range(X.shape[1])]\n",
    "vif['VIF'] = round(vif['VIF'], 2)\n",
    "vif = vif.sort_values(by = \"VIF\", ascending = False)\n",
    "vif"
   ]
  },
  {
   "cell_type": "markdown",
   "metadata": {},
   "source": [
    "- The Model created has a very high Adg R Square of 0.935\n",
    "- All the columns have a low P-Value (<0.05) and hecne this Model is a good one"
   ]
  },
  {
   "cell_type": "markdown",
   "metadata": {},
   "source": [
    "### 4 - Residual Analysis for the Model\n",
    "- Check for the Residual error in the training set. It should be a normal curve and its mean should be ~ zero"
   ]
  },
  {
   "cell_type": "code",
   "execution_count": 29,
   "metadata": {},
   "outputs": [],
   "source": [
    "y_train_pred = lr10.predict(X_train_lm10)"
   ]
  },
  {
   "cell_type": "code",
   "execution_count": 30,
   "metadata": {},
   "outputs": [
    {
     "data": {
      "text/plain": [
       "Text(0.5, 0, 'Errors')"
      ]
     },
     "execution_count": 30,
     "metadata": {},
     "output_type": "execute_result"
    }
   ],
   "source": [
    "import seaborn as sb\n",
    "import matplotlib.pyplot as plt\n",
    "\n",
    "fig = plt.figure()\n",
    "sb.distplot(lr5.resid, bins = 20)\n",
    "fig.suptitle('Error Terms', fontsize = 20)                  \n",
    "plt.xlabel('Errors', fontsize = 18)   \n"
   ]
  },
  {
   "cell_type": "markdown",
   "metadata": {},
   "source": [
    "#### Error have a normal distribution and mean is near 0. Other assumptions related to variance and homoscedasticity can be looked at"
   ]
  },
  {
   "cell_type": "code",
   "execution_count": null,
   "metadata": {},
   "outputs": [],
   "source": []
  },
  {
   "cell_type": "code",
   "execution_count": null,
   "metadata": {},
   "outputs": [],
   "source": []
  },
  {
   "cell_type": "code",
   "execution_count": 31,
   "metadata": {},
   "outputs": [
    {
     "data": {
      "text/plain": [
       "Text(0, 0.5, 'Residual - (y_train - Y_train_pred)')"
      ]
     },
     "execution_count": 31,
     "metadata": {},
     "output_type": "execute_result"
    },
    {
     "data": {
      "image/png": "[encoded data removed]",
      "text/plain": [
       "<Figure size 432x288 with 1 Axes>"
      ]
     },
     "metadata": {
      "needs_background": "light"
     },
     "output_type": "display_data"
    }
   ],
   "source": [
    "#Plotting the Residual Vs predicted graph\n",
    "plt.scatter( y_train_pred,lr10.resid)\n",
    "fig.suptitle('Error Terms', fontsize = 20)                  \n",
    "plt.xlabel('Y_train_pred', fontsize = 18)\n",
    "plt.ylabel('Residual - (y_train - Y_train_pred)', fontsize = 18)"
   ]
  },
  {
   "cell_type": "markdown",
   "metadata": {},
   "source": [
    "#### The Residual shows no pattern of a funnel and seems to have a constant variance. Homoscedasticity can be looked at"
   ]
  },
  {
   "cell_type": "code",
   "execution_count": 32,
   "metadata": {},
   "outputs": [
    {
     "name": "stdout",
     "output_type": "stream",
     "text": [
      "[('Lagrange multiplier statistic', 38.38991297831702), ('p-value', 1.4835790768164738e-05), ('f-value', 5.423163473558773), ('f p-value', 2.515166286116944e-06)]\n"
     ]
    }
   ],
   "source": [
    "import statsmodels.stats.api as sms\n",
    "from statsmodels.compat import lzip\n",
    "name = ['Lagrange multiplier statistic', 'p-value','f-value', 'f p-value']\n",
    "test = sms.het_breuschpagan(lr10.resid, lr10.model.exog)\n",
    "print (lzip(name, test))\n"
   ]
  },
  {
   "cell_type": "markdown",
   "metadata": {},
   "source": [
    "#### Null hypothesis of the residuals having constant variance is rejected since the -value < 0.05. "
   ]
  },
  {
   "cell_type": "markdown",
   "metadata": {},
   "source": [
    "#### Model 5 seems to be a good Model\n",
    "- Error are at mean ~ 0 and normally distributed. \n",
    "- Residual Vs Prediction seems to show homoscedasticity when plotted and has a lower value than 0.05 when looked at statistically"
   ]
  },
  {
   "cell_type": "markdown",
   "metadata": {},
   "source": [
    "### 5 - Making the prediction on the test data using Model 6"
   ]
  },
  {
   "cell_type": "code",
   "execution_count": 33,
   "metadata": {},
   "outputs": [],
   "source": [
    "# Scale the Test set as per the Train dataset\n",
    "lst_scaler_col = ['wheelbase','carlength','carwidth','carheight','curbweight','enginesize','boreratio','stroke', \\\n",
    "                  'compressionratio','horsepower','peakrpm','citympg','highwaympg']\n",
    "\n",
    "X_test[lst_scaler_col] = scaler.transform(X_test[lst_scaler_col])"
   ]
  },
  {
   "cell_type": "code",
   "execution_count": 34,
   "metadata": {},
   "outputs": [],
   "source": [
    "#Add the next best co-related column - 'Car'\n",
    "lst_vars = ['aspiration', 'enginelocation', 'carwidth',  'boreratio', \\\n",
    "         'Car_bmw',   \\\n",
    "        'enginetype_rotor', 'cylindernumber_five', 'cylindernumber_four', \\\n",
    "         'cylindernumber_twelve']\n",
    "\n",
    "X_test_lm = sm.add_constant(X_test[lst_vars])\n",
    "y_test_pred = lr10.predict(X_test_lm)\n"
   ]
  },
  {
   "cell_type": "code",
   "execution_count": 35,
   "metadata": {},
   "outputs": [],
   "source": [
    "#X_test_lm.info()"
   ]
  },
  {
   "cell_type": "code",
   "execution_count": null,
   "metadata": {},
   "outputs": [],
   "source": []
  },
  {
   "cell_type": "code",
   "execution_count": 36,
   "metadata": {},
   "outputs": [
    {
     "data": {
      "text/plain": [
       "Text(0, 0.5, 'Residual - (y_test - Y_test_pred)')"
      ]
     },
     "execution_count": 36,
     "metadata": {},
     "output_type": "execute_result"
    },
    {
     "data": {
      "image/png": "[encoded data removed]",
      "text/plain": [
       "<Figure size 432x288 with 1 Axes>"
      ]
     },
     "metadata": {
      "needs_background": "light"
     },
     "output_type": "display_data"
    }
   ],
   "source": [
    "#Plotting the Residual Vs predicted graph\n",
    "#plt.scatter( y_train_pred,(y_train - y_train_pred))\n",
    "plt.scatter( y_test_pred,(y_test - y_test_pred))\n",
    "fig.suptitle('Error Terms', fontsize = 20)                  \n",
    "plt.xlabel('Y_test_pred', fontsize = 18)\n",
    "plt.ylabel('Residual - (y_test - Y_test_pred)', fontsize = 18)"
   ]
  },
  {
   "cell_type": "code",
   "execution_count": 37,
   "metadata": {},
   "outputs": [
    {
     "name": "stdout",
     "output_type": "stream",
     "text": [
      "[('Lagrange multiplier statistic', 33.41898852612405), ('p-value', 0.00011287564963549674), ('f-value', 9.020101545692272), ('f p-value', 2.5503036951409886e-07)]\n"
     ]
    }
   ],
   "source": [
    "import statsmodels.stats.api as sms\n",
    "from statsmodels.compat import lzip\n",
    "name = ['Lagrange multiplier statistic', 'p-value','f-value', 'f p-value']\n",
    "test = sms.het_breuschpagan((y_test - y_test_pred), X_test_lm)\n",
    "print (lzip(name, test))"
   ]
  },
  {
   "cell_type": "code",
   "execution_count": 38,
   "metadata": {},
   "outputs": [
    {
     "data": {
      "text/plain": [
       "0.8306476124590545"
      ]
     },
     "execution_count": 38,
     "metadata": {},
     "output_type": "execute_result"
    }
   ],
   "source": [
    "from sklearn.metrics import r2_score\n",
    "r2_score(y_test, y_test_pred)\n"
   ]
  },
  {
   "cell_type": "markdown",
   "metadata": {},
   "source": [
    "### 6- Model Evaluation by looking at the R square score . Score of 0.914 achieved on the Test data. Also statistically the residual qualify the homoscedasticity test p > 0.05"
   ]
  },
  {
   "cell_type": "code",
   "execution_count": 39,
   "metadata": {},
   "outputs": [
    {
     "data": {
      "text/plain": [
       "Text(0, 0.5, 'y_pred')"
      ]
     },
     "execution_count": 39,
     "metadata": {},
     "output_type": "execute_result"
    },
    {
     "data": {
      "image/png": "[encoded data removed]",
      "text/plain": [
       "<Figure size 432x288 with 1 Axes>"
      ]
     },
     "metadata": {
      "needs_background": "light"
     },
     "output_type": "display_data"
    }
   ],
   "source": [
    "fig = plt.figure()\n",
    "plt.scatter(y_test, y_test_pred)\n",
    "fig.suptitle('y_test vs y_pred', fontsize = 20)             \n",
    "plt.xlabel('y_test', fontsize = 18)                          \n",
    "plt.ylabel('y_pred', fontsize = 16)    "
   ]
  },
  {
   "cell_type": "markdown",
   "metadata": {},
   "source": [
    "#### The test values and the predicted values are more or less in the same range and hence this seems like a good model"
   ]
  }
 ],
 "metadata": {
  "kernelspec": {
   "display_name": "Python 3",
   "language": "python",
   "name": "python3"
  },
  "language_info": {
   "codemirror_mode": {
    "name": "ipython",
    "version": 3
   },
   "file_extension": ".py",
   "mimetype": "text/x-python",
   "name": "python",
   "nbconvert_exporter": "python",
   "pygments_lexer": "ipython3",
   "version": "3.7.3"
  }
 },
 "nbformat": 4,
 "nbformat_minor": 2
}
